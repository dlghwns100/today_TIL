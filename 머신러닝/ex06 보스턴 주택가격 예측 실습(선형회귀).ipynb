{
 "cells": [
  {
   "cell_type": "markdown",
   "id": "e8081873",
   "metadata": {},
   "source": [
    "### 1. 목표 설정\n",
    "- 보스턴 집값 데이터를 이용해서 회귀분석을 진행해보자.\n",
    "- 특성곱을 이용해서 새로운 특성을 만들어보자.\n",
    "- 규제 모델을 이용해서 모델의 복잡도를 제어해보자."
   ]
  },
  {
   "cell_type": "markdown",
   "id": "b1156443",
   "metadata": {},
   "source": [
    "### 2. 데이터 수집\n",
    "- csv 파일 불러오기 (보스턴 주택 데이터)"
   ]
  },
  {
   "cell_type": "code",
   "execution_count": 1,
   "id": "a0ea0c28",
   "metadata": {},
   "outputs": [],
   "source": [
    "# 필요한 라이브러리 import\n",
    "import pandas as pd\n",
    "import numpy as np\n",
    "from matplotlib import pyplot as plt\n",
    "import seaborn as sns"
   ]
  },
  {
   "cell_type": "code",
   "execution_count": 2,
   "id": "6cb5774a",
   "metadata": {},
   "outputs": [],
   "source": [
    "# 데이터 불러오기\n",
    "boston = pd.read_csv('./data/boston_housing.csv')"
   ]
  },
  {
   "cell_type": "code",
   "execution_count": 3,
   "id": "b13e98af",
   "metadata": {},
   "outputs": [
    {
     "data": {
      "text/html": [
       "<div>\n",
       "<style scoped>\n",
       "    .dataframe tbody tr th:only-of-type {\n",
       "        vertical-align: middle;\n",
       "    }\n",
       "\n",
       "    .dataframe tbody tr th {\n",
       "        vertical-align: top;\n",
       "    }\n",
       "\n",
       "    .dataframe thead th {\n",
       "        text-align: right;\n",
       "    }\n",
       "</style>\n",
       "<table border=\"1\" class=\"dataframe\">\n",
       "  <thead>\n",
       "    <tr style=\"text-align: right;\">\n",
       "      <th></th>\n",
       "      <th>Unnamed: 0</th>\n",
       "      <th>CRIM</th>\n",
       "      <th>ZN</th>\n",
       "      <th>INDUS</th>\n",
       "      <th>CHAS</th>\n",
       "      <th>NOX</th>\n",
       "      <th>RM</th>\n",
       "      <th>AGE</th>\n",
       "      <th>DIS</th>\n",
       "      <th>RAD</th>\n",
       "      <th>TAX</th>\n",
       "      <th>PTRATIO</th>\n",
       "      <th>B</th>\n",
       "      <th>LSTAT</th>\n",
       "      <th>MEDV</th>\n",
       "    </tr>\n",
       "  </thead>\n",
       "  <tbody>\n",
       "    <tr>\n",
       "      <th>0</th>\n",
       "      <td>0</td>\n",
       "      <td>0.00632</td>\n",
       "      <td>18.0</td>\n",
       "      <td>2.31</td>\n",
       "      <td>0.0</td>\n",
       "      <td>0.538</td>\n",
       "      <td>6.575</td>\n",
       "      <td>65.2</td>\n",
       "      <td>4.0900</td>\n",
       "      <td>1.0</td>\n",
       "      <td>296.0</td>\n",
       "      <td>15.3</td>\n",
       "      <td>396.90</td>\n",
       "      <td>4.98</td>\n",
       "      <td>24.0</td>\n",
       "    </tr>\n",
       "    <tr>\n",
       "      <th>1</th>\n",
       "      <td>1</td>\n",
       "      <td>0.02731</td>\n",
       "      <td>0.0</td>\n",
       "      <td>7.07</td>\n",
       "      <td>0.0</td>\n",
       "      <td>0.469</td>\n",
       "      <td>6.421</td>\n",
       "      <td>78.9</td>\n",
       "      <td>4.9671</td>\n",
       "      <td>2.0</td>\n",
       "      <td>242.0</td>\n",
       "      <td>17.8</td>\n",
       "      <td>396.90</td>\n",
       "      <td>9.14</td>\n",
       "      <td>21.6</td>\n",
       "    </tr>\n",
       "    <tr>\n",
       "      <th>2</th>\n",
       "      <td>2</td>\n",
       "      <td>0.02729</td>\n",
       "      <td>0.0</td>\n",
       "      <td>7.07</td>\n",
       "      <td>0.0</td>\n",
       "      <td>0.469</td>\n",
       "      <td>7.185</td>\n",
       "      <td>61.1</td>\n",
       "      <td>4.9671</td>\n",
       "      <td>2.0</td>\n",
       "      <td>242.0</td>\n",
       "      <td>17.8</td>\n",
       "      <td>392.83</td>\n",
       "      <td>4.03</td>\n",
       "      <td>34.7</td>\n",
       "    </tr>\n",
       "    <tr>\n",
       "      <th>3</th>\n",
       "      <td>3</td>\n",
       "      <td>0.03237</td>\n",
       "      <td>0.0</td>\n",
       "      <td>2.18</td>\n",
       "      <td>0.0</td>\n",
       "      <td>0.458</td>\n",
       "      <td>6.998</td>\n",
       "      <td>45.8</td>\n",
       "      <td>6.0622</td>\n",
       "      <td>3.0</td>\n",
       "      <td>222.0</td>\n",
       "      <td>18.7</td>\n",
       "      <td>394.63</td>\n",
       "      <td>2.94</td>\n",
       "      <td>33.4</td>\n",
       "    </tr>\n",
       "    <tr>\n",
       "      <th>4</th>\n",
       "      <td>4</td>\n",
       "      <td>0.06905</td>\n",
       "      <td>0.0</td>\n",
       "      <td>2.18</td>\n",
       "      <td>0.0</td>\n",
       "      <td>0.458</td>\n",
       "      <td>7.147</td>\n",
       "      <td>54.2</td>\n",
       "      <td>6.0622</td>\n",
       "      <td>3.0</td>\n",
       "      <td>222.0</td>\n",
       "      <td>18.7</td>\n",
       "      <td>396.90</td>\n",
       "      <td>5.33</td>\n",
       "      <td>36.2</td>\n",
       "    </tr>\n",
       "  </tbody>\n",
       "</table>\n",
       "</div>"
      ],
      "text/plain": [
       "   Unnamed: 0     CRIM    ZN  INDUS  CHAS    NOX     RM   AGE     DIS  RAD  \\\n",
       "0           0  0.00632  18.0   2.31   0.0  0.538  6.575  65.2  4.0900  1.0   \n",
       "1           1  0.02731   0.0   7.07   0.0  0.469  6.421  78.9  4.9671  2.0   \n",
       "2           2  0.02729   0.0   7.07   0.0  0.469  7.185  61.1  4.9671  2.0   \n",
       "3           3  0.03237   0.0   2.18   0.0  0.458  6.998  45.8  6.0622  3.0   \n",
       "4           4  0.06905   0.0   2.18   0.0  0.458  7.147  54.2  6.0622  3.0   \n",
       "\n",
       "     TAX  PTRATIO       B  LSTAT  MEDV  \n",
       "0  296.0     15.3  396.90   4.98  24.0  \n",
       "1  242.0     17.8  396.90   9.14  21.6  \n",
       "2  242.0     17.8  392.83   4.03  34.7  \n",
       "3  222.0     18.7  394.63   2.94  33.4  \n",
       "4  222.0     18.7  396.90   5.33  36.2  "
      ]
     },
     "execution_count": 3,
     "metadata": {},
     "output_type": "execute_result"
    }
   ],
   "source": [
    "boston.head()"
   ]
  },
  {
   "cell_type": "code",
   "execution_count": 4,
   "id": "b946ab4a",
   "metadata": {},
   "outputs": [],
   "source": [
    "# 필요없는 Unnamed 컬럼 삭제\n",
    "boston.drop('Unnamed: 0', axis = 1, inplace = True)"
   ]
  },
  {
   "cell_type": "code",
   "execution_count": 5,
   "id": "fcb5d410",
   "metadata": {},
   "outputs": [
    {
     "data": {
      "text/html": [
       "<div>\n",
       "<style scoped>\n",
       "    .dataframe tbody tr th:only-of-type {\n",
       "        vertical-align: middle;\n",
       "    }\n",
       "\n",
       "    .dataframe tbody tr th {\n",
       "        vertical-align: top;\n",
       "    }\n",
       "\n",
       "    .dataframe thead th {\n",
       "        text-align: right;\n",
       "    }\n",
       "</style>\n",
       "<table border=\"1\" class=\"dataframe\">\n",
       "  <thead>\n",
       "    <tr style=\"text-align: right;\">\n",
       "      <th></th>\n",
       "      <th>CRIM</th>\n",
       "      <th>ZN</th>\n",
       "      <th>INDUS</th>\n",
       "      <th>CHAS</th>\n",
       "      <th>NOX</th>\n",
       "      <th>RM</th>\n",
       "      <th>AGE</th>\n",
       "      <th>DIS</th>\n",
       "      <th>RAD</th>\n",
       "      <th>TAX</th>\n",
       "      <th>PTRATIO</th>\n",
       "      <th>B</th>\n",
       "      <th>LSTAT</th>\n",
       "      <th>MEDV</th>\n",
       "    </tr>\n",
       "  </thead>\n",
       "  <tbody>\n",
       "    <tr>\n",
       "      <th>0</th>\n",
       "      <td>0.00632</td>\n",
       "      <td>18.0</td>\n",
       "      <td>2.31</td>\n",
       "      <td>0.0</td>\n",
       "      <td>0.538</td>\n",
       "      <td>6.575</td>\n",
       "      <td>65.2</td>\n",
       "      <td>4.0900</td>\n",
       "      <td>1.0</td>\n",
       "      <td>296.0</td>\n",
       "      <td>15.3</td>\n",
       "      <td>396.90</td>\n",
       "      <td>4.98</td>\n",
       "      <td>24.0</td>\n",
       "    </tr>\n",
       "    <tr>\n",
       "      <th>1</th>\n",
       "      <td>0.02731</td>\n",
       "      <td>0.0</td>\n",
       "      <td>7.07</td>\n",
       "      <td>0.0</td>\n",
       "      <td>0.469</td>\n",
       "      <td>6.421</td>\n",
       "      <td>78.9</td>\n",
       "      <td>4.9671</td>\n",
       "      <td>2.0</td>\n",
       "      <td>242.0</td>\n",
       "      <td>17.8</td>\n",
       "      <td>396.90</td>\n",
       "      <td>9.14</td>\n",
       "      <td>21.6</td>\n",
       "    </tr>\n",
       "    <tr>\n",
       "      <th>2</th>\n",
       "      <td>0.02729</td>\n",
       "      <td>0.0</td>\n",
       "      <td>7.07</td>\n",
       "      <td>0.0</td>\n",
       "      <td>0.469</td>\n",
       "      <td>7.185</td>\n",
       "      <td>61.1</td>\n",
       "      <td>4.9671</td>\n",
       "      <td>2.0</td>\n",
       "      <td>242.0</td>\n",
       "      <td>17.8</td>\n",
       "      <td>392.83</td>\n",
       "      <td>4.03</td>\n",
       "      <td>34.7</td>\n",
       "    </tr>\n",
       "    <tr>\n",
       "      <th>3</th>\n",
       "      <td>0.03237</td>\n",
       "      <td>0.0</td>\n",
       "      <td>2.18</td>\n",
       "      <td>0.0</td>\n",
       "      <td>0.458</td>\n",
       "      <td>6.998</td>\n",
       "      <td>45.8</td>\n",
       "      <td>6.0622</td>\n",
       "      <td>3.0</td>\n",
       "      <td>222.0</td>\n",
       "      <td>18.7</td>\n",
       "      <td>394.63</td>\n",
       "      <td>2.94</td>\n",
       "      <td>33.4</td>\n",
       "    </tr>\n",
       "    <tr>\n",
       "      <th>4</th>\n",
       "      <td>0.06905</td>\n",
       "      <td>0.0</td>\n",
       "      <td>2.18</td>\n",
       "      <td>0.0</td>\n",
       "      <td>0.458</td>\n",
       "      <td>7.147</td>\n",
       "      <td>54.2</td>\n",
       "      <td>6.0622</td>\n",
       "      <td>3.0</td>\n",
       "      <td>222.0</td>\n",
       "      <td>18.7</td>\n",
       "      <td>396.90</td>\n",
       "      <td>5.33</td>\n",
       "      <td>36.2</td>\n",
       "    </tr>\n",
       "    <tr>\n",
       "      <th>...</th>\n",
       "      <td>...</td>\n",
       "      <td>...</td>\n",
       "      <td>...</td>\n",
       "      <td>...</td>\n",
       "      <td>...</td>\n",
       "      <td>...</td>\n",
       "      <td>...</td>\n",
       "      <td>...</td>\n",
       "      <td>...</td>\n",
       "      <td>...</td>\n",
       "      <td>...</td>\n",
       "      <td>...</td>\n",
       "      <td>...</td>\n",
       "      <td>...</td>\n",
       "    </tr>\n",
       "    <tr>\n",
       "      <th>501</th>\n",
       "      <td>0.06263</td>\n",
       "      <td>0.0</td>\n",
       "      <td>11.93</td>\n",
       "      <td>0.0</td>\n",
       "      <td>0.573</td>\n",
       "      <td>6.593</td>\n",
       "      <td>69.1</td>\n",
       "      <td>2.4786</td>\n",
       "      <td>1.0</td>\n",
       "      <td>273.0</td>\n",
       "      <td>21.0</td>\n",
       "      <td>391.99</td>\n",
       "      <td>9.67</td>\n",
       "      <td>22.4</td>\n",
       "    </tr>\n",
       "    <tr>\n",
       "      <th>502</th>\n",
       "      <td>0.04527</td>\n",
       "      <td>0.0</td>\n",
       "      <td>11.93</td>\n",
       "      <td>0.0</td>\n",
       "      <td>0.573</td>\n",
       "      <td>6.120</td>\n",
       "      <td>76.7</td>\n",
       "      <td>2.2875</td>\n",
       "      <td>1.0</td>\n",
       "      <td>273.0</td>\n",
       "      <td>21.0</td>\n",
       "      <td>396.90</td>\n",
       "      <td>9.08</td>\n",
       "      <td>20.6</td>\n",
       "    </tr>\n",
       "    <tr>\n",
       "      <th>503</th>\n",
       "      <td>0.06076</td>\n",
       "      <td>0.0</td>\n",
       "      <td>11.93</td>\n",
       "      <td>0.0</td>\n",
       "      <td>0.573</td>\n",
       "      <td>6.976</td>\n",
       "      <td>91.0</td>\n",
       "      <td>2.1675</td>\n",
       "      <td>1.0</td>\n",
       "      <td>273.0</td>\n",
       "      <td>21.0</td>\n",
       "      <td>396.90</td>\n",
       "      <td>5.64</td>\n",
       "      <td>23.9</td>\n",
       "    </tr>\n",
       "    <tr>\n",
       "      <th>504</th>\n",
       "      <td>0.10959</td>\n",
       "      <td>0.0</td>\n",
       "      <td>11.93</td>\n",
       "      <td>0.0</td>\n",
       "      <td>0.573</td>\n",
       "      <td>6.794</td>\n",
       "      <td>89.3</td>\n",
       "      <td>2.3889</td>\n",
       "      <td>1.0</td>\n",
       "      <td>273.0</td>\n",
       "      <td>21.0</td>\n",
       "      <td>393.45</td>\n",
       "      <td>6.48</td>\n",
       "      <td>22.0</td>\n",
       "    </tr>\n",
       "    <tr>\n",
       "      <th>505</th>\n",
       "      <td>0.04741</td>\n",
       "      <td>0.0</td>\n",
       "      <td>11.93</td>\n",
       "      <td>0.0</td>\n",
       "      <td>0.573</td>\n",
       "      <td>6.030</td>\n",
       "      <td>80.8</td>\n",
       "      <td>2.5050</td>\n",
       "      <td>1.0</td>\n",
       "      <td>273.0</td>\n",
       "      <td>21.0</td>\n",
       "      <td>396.90</td>\n",
       "      <td>7.88</td>\n",
       "      <td>11.9</td>\n",
       "    </tr>\n",
       "  </tbody>\n",
       "</table>\n",
       "<p>506 rows × 14 columns</p>\n",
       "</div>"
      ],
      "text/plain": [
       "        CRIM    ZN  INDUS  CHAS    NOX     RM   AGE     DIS  RAD    TAX  \\\n",
       "0    0.00632  18.0   2.31   0.0  0.538  6.575  65.2  4.0900  1.0  296.0   \n",
       "1    0.02731   0.0   7.07   0.0  0.469  6.421  78.9  4.9671  2.0  242.0   \n",
       "2    0.02729   0.0   7.07   0.0  0.469  7.185  61.1  4.9671  2.0  242.0   \n",
       "3    0.03237   0.0   2.18   0.0  0.458  6.998  45.8  6.0622  3.0  222.0   \n",
       "4    0.06905   0.0   2.18   0.0  0.458  7.147  54.2  6.0622  3.0  222.0   \n",
       "..       ...   ...    ...   ...    ...    ...   ...     ...  ...    ...   \n",
       "501  0.06263   0.0  11.93   0.0  0.573  6.593  69.1  2.4786  1.0  273.0   \n",
       "502  0.04527   0.0  11.93   0.0  0.573  6.120  76.7  2.2875  1.0  273.0   \n",
       "503  0.06076   0.0  11.93   0.0  0.573  6.976  91.0  2.1675  1.0  273.0   \n",
       "504  0.10959   0.0  11.93   0.0  0.573  6.794  89.3  2.3889  1.0  273.0   \n",
       "505  0.04741   0.0  11.93   0.0  0.573  6.030  80.8  2.5050  1.0  273.0   \n",
       "\n",
       "     PTRATIO       B  LSTAT  MEDV  \n",
       "0       15.3  396.90   4.98  24.0  \n",
       "1       17.8  396.90   9.14  21.6  \n",
       "2       17.8  392.83   4.03  34.7  \n",
       "3       18.7  394.63   2.94  33.4  \n",
       "4       18.7  396.90   5.33  36.2  \n",
       "..       ...     ...    ...   ...  \n",
       "501     21.0  391.99   9.67  22.4  \n",
       "502     21.0  396.90   9.08  20.6  \n",
       "503     21.0  396.90   5.64  23.9  \n",
       "504     21.0  393.45   6.48  22.0  \n",
       "505     21.0  396.90   7.88  11.9  \n",
       "\n",
       "[506 rows x 14 columns]"
      ]
     },
     "execution_count": 5,
     "metadata": {},
     "output_type": "execute_result"
    }
   ],
   "source": [
    "boston"
   ]
  },
  {
   "cell_type": "markdown",
   "id": "d0de3dc7",
   "metadata": {},
   "source": [
    "- 결측치 없음 !"
   ]
  },
  {
   "cell_type": "markdown",
   "id": "f85f72ec",
   "metadata": {},
   "source": [
    "**특성정보 확인**\n",
    "- CRIM : 범죄율\n",
    "- INDUS : 비소매상업지역의 면적 비율\n",
    "- NOX : 대기 중 일산화질소의 농도\n",
    "- RM : 주택당 방의 갯수\n",
    "- LSTAT : 인구 중 하위 계층의 비율\n",
    "- B : 인구 중 흑인의 비율\n",
    "- PIRATIO : 학생 / 교사 비율\n",
    "- ZN : 25000평방 피트를 초과한 거주지의 비율\n",
    "- CHAS : 찰스강의 경계에 위치한 경우는 1, 아닌 경우는 0\n",
    "- AGE : 1940년대 이전에 지어진 주택의 비율\n",
    "- DIS : 직업센터의 거리\n",
    "- TAX : 재산세율\n",
    "\n",
    "**종속변수 확인**\n",
    "- MEDV : 집 값, 주택 가격"
   ]
  },
  {
   "cell_type": "markdown",
   "id": "840a8a8d",
   "metadata": {},
   "source": [
    "### 3. 데이터 전처리\n",
    "- 결측치 없었다.\n",
    "- 보스턴 주택 데이터는 학습용으로 제공된 데이터라 전처리가 필요없다(데이터가 깔끔하다.)"
   ]
  },
  {
   "cell_type": "markdown",
   "id": "e83e41e0",
   "metadata": {},
   "source": [
    "### 4. 탐색적 데이터 분석\n",
    "- 생략"
   ]
  },
  {
   "cell_type": "markdown",
   "id": "33d7fb2a",
   "metadata": {},
   "source": [
    "### 5. 모델링\n",
    "- 데이터 분리(X_train, X_test, y_train, y_test)\n",
    "- 모델 선정 및 학습 / 평가 / 예측"
   ]
  },
  {
   "cell_type": "code",
   "execution_count": 6,
   "id": "ef3f5b88",
   "metadata": {},
   "outputs": [
    {
     "data": {
      "text/plain": [
       "((354, 13), (152, 13), (354,), (152,))"
      ]
     },
     "execution_count": 6,
     "metadata": {},
     "output_type": "execute_result"
    }
   ],
   "source": [
    "# 데이터 분리\n",
    "# step 1 : 데이터를 분리하기 위한 모듈 불러오기\n",
    "from sklearn.model_selection import train_test_split\n",
    "\n",
    "# step 2 : 데이터 분리하기 (y (정답 데이터는 MEDV 컬럼))\n",
    "# 문제와 정답 분할\n",
    "X = boston.drop('MEDV', axis = 1)\n",
    "y = boston.loc[ : , 'MEDV']\n",
    "\n",
    "# step 3 : 데이터 분할 확인하기\n",
    "X_train, X_test, y_train, y_test = train_test_split(X, y,\n",
    "                                                   test_size=0.3,\n",
    "                                                   random_state=14)\n",
    "X_train.shape, X_test.shape, y_train.shape, y_test.shape"
   ]
  },
  {
   "cell_type": "code",
   "execution_count": 7,
   "id": "b4670b8b",
   "metadata": {},
   "outputs": [
    {
     "data": {
      "text/html": [
       "<div>\n",
       "<style scoped>\n",
       "    .dataframe tbody tr th:only-of-type {\n",
       "        vertical-align: middle;\n",
       "    }\n",
       "\n",
       "    .dataframe tbody tr th {\n",
       "        vertical-align: top;\n",
       "    }\n",
       "\n",
       "    .dataframe thead th {\n",
       "        text-align: right;\n",
       "    }\n",
       "</style>\n",
       "<table border=\"1\" class=\"dataframe\">\n",
       "  <thead>\n",
       "    <tr style=\"text-align: right;\">\n",
       "      <th></th>\n",
       "      <th>CRIM</th>\n",
       "      <th>ZN</th>\n",
       "      <th>INDUS</th>\n",
       "      <th>CHAS</th>\n",
       "      <th>NOX</th>\n",
       "      <th>RM</th>\n",
       "      <th>AGE</th>\n",
       "      <th>DIS</th>\n",
       "      <th>RAD</th>\n",
       "      <th>TAX</th>\n",
       "      <th>PTRATIO</th>\n",
       "      <th>B</th>\n",
       "      <th>LSTAT</th>\n",
       "    </tr>\n",
       "  </thead>\n",
       "  <tbody>\n",
       "    <tr>\n",
       "      <th>CRIM</th>\n",
       "      <td>1.000000</td>\n",
       "      <td>-0.198127</td>\n",
       "      <td>0.407642</td>\n",
       "      <td>-0.062908</td>\n",
       "      <td>0.396684</td>\n",
       "      <td>-0.204196</td>\n",
       "      <td>0.342938</td>\n",
       "      <td>-0.370585</td>\n",
       "      <td>0.615835</td>\n",
       "      <td>0.583885</td>\n",
       "      <td>0.287578</td>\n",
       "      <td>-0.455281</td>\n",
       "      <td>0.412497</td>\n",
       "    </tr>\n",
       "    <tr>\n",
       "      <th>ZN</th>\n",
       "      <td>-0.198127</td>\n",
       "      <td>1.000000</td>\n",
       "      <td>-0.537779</td>\n",
       "      <td>-0.036186</td>\n",
       "      <td>-0.516228</td>\n",
       "      <td>0.328811</td>\n",
       "      <td>-0.587600</td>\n",
       "      <td>0.667067</td>\n",
       "      <td>-0.321028</td>\n",
       "      <td>-0.302022</td>\n",
       "      <td>-0.412976</td>\n",
       "      <td>0.180559</td>\n",
       "      <td>-0.418373</td>\n",
       "    </tr>\n",
       "    <tr>\n",
       "      <th>INDUS</th>\n",
       "      <td>0.407642</td>\n",
       "      <td>-0.537779</td>\n",
       "      <td>1.000000</td>\n",
       "      <td>0.046579</td>\n",
       "      <td>0.750273</td>\n",
       "      <td>-0.422111</td>\n",
       "      <td>0.645569</td>\n",
       "      <td>-0.698460</td>\n",
       "      <td>0.603990</td>\n",
       "      <td>0.701238</td>\n",
       "      <td>0.373049</td>\n",
       "      <td>-0.375440</td>\n",
       "      <td>0.599017</td>\n",
       "    </tr>\n",
       "    <tr>\n",
       "      <th>CHAS</th>\n",
       "      <td>-0.062908</td>\n",
       "      <td>-0.036186</td>\n",
       "      <td>0.046579</td>\n",
       "      <td>1.000000</td>\n",
       "      <td>0.079141</td>\n",
       "      <td>0.043520</td>\n",
       "      <td>0.088738</td>\n",
       "      <td>-0.086626</td>\n",
       "      <td>-0.016696</td>\n",
       "      <td>-0.044503</td>\n",
       "      <td>-0.088673</td>\n",
       "      <td>0.041842</td>\n",
       "      <td>-0.037309</td>\n",
       "    </tr>\n",
       "    <tr>\n",
       "      <th>NOX</th>\n",
       "      <td>0.396684</td>\n",
       "      <td>-0.516228</td>\n",
       "      <td>0.750273</td>\n",
       "      <td>0.079141</td>\n",
       "      <td>1.000000</td>\n",
       "      <td>-0.324292</td>\n",
       "      <td>0.724184</td>\n",
       "      <td>-0.769434</td>\n",
       "      <td>0.590693</td>\n",
       "      <td>0.642399</td>\n",
       "      <td>0.160945</td>\n",
       "      <td>-0.386455</td>\n",
       "      <td>0.576952</td>\n",
       "    </tr>\n",
       "    <tr>\n",
       "      <th>RM</th>\n",
       "      <td>-0.204196</td>\n",
       "      <td>0.328811</td>\n",
       "      <td>-0.422111</td>\n",
       "      <td>0.043520</td>\n",
       "      <td>-0.324292</td>\n",
       "      <td>1.000000</td>\n",
       "      <td>-0.267122</td>\n",
       "      <td>0.224127</td>\n",
       "      <td>-0.231818</td>\n",
       "      <td>-0.310267</td>\n",
       "      <td>-0.366450</td>\n",
       "      <td>0.169576</td>\n",
       "      <td>-0.616330</td>\n",
       "    </tr>\n",
       "    <tr>\n",
       "      <th>AGE</th>\n",
       "      <td>0.342938</td>\n",
       "      <td>-0.587600</td>\n",
       "      <td>0.645569</td>\n",
       "      <td>0.088738</td>\n",
       "      <td>0.724184</td>\n",
       "      <td>-0.267122</td>\n",
       "      <td>1.000000</td>\n",
       "      <td>-0.753645</td>\n",
       "      <td>0.457447</td>\n",
       "      <td>0.491449</td>\n",
       "      <td>0.259480</td>\n",
       "      <td>-0.295535</td>\n",
       "      <td>0.607902</td>\n",
       "    </tr>\n",
       "    <tr>\n",
       "      <th>DIS</th>\n",
       "      <td>-0.370585</td>\n",
       "      <td>0.667067</td>\n",
       "      <td>-0.698460</td>\n",
       "      <td>-0.086626</td>\n",
       "      <td>-0.769434</td>\n",
       "      <td>0.224127</td>\n",
       "      <td>-0.753645</td>\n",
       "      <td>1.000000</td>\n",
       "      <td>-0.492302</td>\n",
       "      <td>-0.516146</td>\n",
       "      <td>-0.217870</td>\n",
       "      <td>0.311121</td>\n",
       "      <td>-0.474333</td>\n",
       "    </tr>\n",
       "    <tr>\n",
       "      <th>RAD</th>\n",
       "      <td>0.615835</td>\n",
       "      <td>-0.321028</td>\n",
       "      <td>0.603990</td>\n",
       "      <td>-0.016696</td>\n",
       "      <td>0.590693</td>\n",
       "      <td>-0.231818</td>\n",
       "      <td>0.457447</td>\n",
       "      <td>-0.492302</td>\n",
       "      <td>1.000000</td>\n",
       "      <td>0.925356</td>\n",
       "      <td>0.471381</td>\n",
       "      <td>-0.438406</td>\n",
       "      <td>0.465708</td>\n",
       "    </tr>\n",
       "    <tr>\n",
       "      <th>TAX</th>\n",
       "      <td>0.583885</td>\n",
       "      <td>-0.302022</td>\n",
       "      <td>0.701238</td>\n",
       "      <td>-0.044503</td>\n",
       "      <td>0.642399</td>\n",
       "      <td>-0.310267</td>\n",
       "      <td>0.491449</td>\n",
       "      <td>-0.516146</td>\n",
       "      <td>0.925356</td>\n",
       "      <td>1.000000</td>\n",
       "      <td>0.463844</td>\n",
       "      <td>-0.444427</td>\n",
       "      <td>0.510925</td>\n",
       "    </tr>\n",
       "    <tr>\n",
       "      <th>PTRATIO</th>\n",
       "      <td>0.287578</td>\n",
       "      <td>-0.412976</td>\n",
       "      <td>0.373049</td>\n",
       "      <td>-0.088673</td>\n",
       "      <td>0.160945</td>\n",
       "      <td>-0.366450</td>\n",
       "      <td>0.259480</td>\n",
       "      <td>-0.217870</td>\n",
       "      <td>0.471381</td>\n",
       "      <td>0.463844</td>\n",
       "      <td>1.000000</td>\n",
       "      <td>-0.171175</td>\n",
       "      <td>0.367573</td>\n",
       "    </tr>\n",
       "    <tr>\n",
       "      <th>B</th>\n",
       "      <td>-0.455281</td>\n",
       "      <td>0.180559</td>\n",
       "      <td>-0.375440</td>\n",
       "      <td>0.041842</td>\n",
       "      <td>-0.386455</td>\n",
       "      <td>0.169576</td>\n",
       "      <td>-0.295535</td>\n",
       "      <td>0.311121</td>\n",
       "      <td>-0.438406</td>\n",
       "      <td>-0.444427</td>\n",
       "      <td>-0.171175</td>\n",
       "      <td>1.000000</td>\n",
       "      <td>-0.415306</td>\n",
       "    </tr>\n",
       "    <tr>\n",
       "      <th>LSTAT</th>\n",
       "      <td>0.412497</td>\n",
       "      <td>-0.418373</td>\n",
       "      <td>0.599017</td>\n",
       "      <td>-0.037309</td>\n",
       "      <td>0.576952</td>\n",
       "      <td>-0.616330</td>\n",
       "      <td>0.607902</td>\n",
       "      <td>-0.474333</td>\n",
       "      <td>0.465708</td>\n",
       "      <td>0.510925</td>\n",
       "      <td>0.367573</td>\n",
       "      <td>-0.415306</td>\n",
       "      <td>1.000000</td>\n",
       "    </tr>\n",
       "  </tbody>\n",
       "</table>\n",
       "</div>"
      ],
      "text/plain": [
       "             CRIM        ZN     INDUS      CHAS       NOX        RM       AGE  \\\n",
       "CRIM     1.000000 -0.198127  0.407642 -0.062908  0.396684 -0.204196  0.342938   \n",
       "ZN      -0.198127  1.000000 -0.537779 -0.036186 -0.516228  0.328811 -0.587600   \n",
       "INDUS    0.407642 -0.537779  1.000000  0.046579  0.750273 -0.422111  0.645569   \n",
       "CHAS    -0.062908 -0.036186  0.046579  1.000000  0.079141  0.043520  0.088738   \n",
       "NOX      0.396684 -0.516228  0.750273  0.079141  1.000000 -0.324292  0.724184   \n",
       "RM      -0.204196  0.328811 -0.422111  0.043520 -0.324292  1.000000 -0.267122   \n",
       "AGE      0.342938 -0.587600  0.645569  0.088738  0.724184 -0.267122  1.000000   \n",
       "DIS     -0.370585  0.667067 -0.698460 -0.086626 -0.769434  0.224127 -0.753645   \n",
       "RAD      0.615835 -0.321028  0.603990 -0.016696  0.590693 -0.231818  0.457447   \n",
       "TAX      0.583885 -0.302022  0.701238 -0.044503  0.642399 -0.310267  0.491449   \n",
       "PTRATIO  0.287578 -0.412976  0.373049 -0.088673  0.160945 -0.366450  0.259480   \n",
       "B       -0.455281  0.180559 -0.375440  0.041842 -0.386455  0.169576 -0.295535   \n",
       "LSTAT    0.412497 -0.418373  0.599017 -0.037309  0.576952 -0.616330  0.607902   \n",
       "\n",
       "              DIS       RAD       TAX   PTRATIO         B     LSTAT  \n",
       "CRIM    -0.370585  0.615835  0.583885  0.287578 -0.455281  0.412497  \n",
       "ZN       0.667067 -0.321028 -0.302022 -0.412976  0.180559 -0.418373  \n",
       "INDUS   -0.698460  0.603990  0.701238  0.373049 -0.375440  0.599017  \n",
       "CHAS    -0.086626 -0.016696 -0.044503 -0.088673  0.041842 -0.037309  \n",
       "NOX     -0.769434  0.590693  0.642399  0.160945 -0.386455  0.576952  \n",
       "RM       0.224127 -0.231818 -0.310267 -0.366450  0.169576 -0.616330  \n",
       "AGE     -0.753645  0.457447  0.491449  0.259480 -0.295535  0.607902  \n",
       "DIS      1.000000 -0.492302 -0.516146 -0.217870  0.311121 -0.474333  \n",
       "RAD     -0.492302  1.000000  0.925356  0.471381 -0.438406  0.465708  \n",
       "TAX     -0.516146  0.925356  1.000000  0.463844 -0.444427  0.510925  \n",
       "PTRATIO -0.217870  0.471381  0.463844  1.000000 -0.171175  0.367573  \n",
       "B        0.311121 -0.438406 -0.444427 -0.171175  1.000000 -0.415306  \n",
       "LSTAT   -0.474333  0.465708  0.510925  0.367573 -0.415306  1.000000  "
      ]
     },
     "execution_count": 7,
     "metadata": {},
     "output_type": "execute_result"
    }
   ],
   "source": [
    "# 분할된 데이터를 가지고 상관계수 확인하기\n",
    "X_train.corr()"
   ]
  },
  {
   "cell_type": "code",
   "execution_count": 8,
   "id": "7e08525b",
   "metadata": {},
   "outputs": [
    {
     "data": {
      "text/plain": [
       "<Axes: >"
      ]
     },
     "execution_count": 8,
     "metadata": {},
     "output_type": "execute_result"
    },
    {
     "data": {
      "image/png": "[encoded data removed]",
      "text/plain": [
       "<Figure size 1500x1500 with 2 Axes>"
      ]
     },
     "metadata": {},
     "output_type": "display_data"
    }
   ],
   "source": [
    "# 상관계수를 히트맵으로 출력\n",
    "plt.figure(figsize = (15,15))\n",
    "\n",
    "sns.heatmap(data = X_train.corr(),\n",
    "            annot = True,             # annot = 히트맵 내부 글씨 출력\n",
    "            annot_kws = {'size' : 12}, # 내부 글씨의 옵션(글씨의 크기)\n",
    "            fmt = '.2f',               # 소숫점 자리 출력\n",
    "            cmap = 'spring'             # 히트맵의 색상\n",
    "           )"
   ]
  },
  {
   "cell_type": "code",
   "execution_count": 9,
   "id": "3ab4feec",
   "metadata": {},
   "outputs": [],
   "source": [
    "# 선형 회귀 모델 사용하기\n",
    "# Step.1 : 모델 import\n",
    "from sklearn.linear_model import LinearRegression"
   ]
  },
  {
   "cell_type": "code",
   "execution_count": 10,
   "id": "3c6e6c38",
   "metadata": {},
   "outputs": [],
   "source": [
    "# Step.2 : 모델 객체 생성\n",
    "linear_model = LinearRegression()"
   ]
  },
  {
   "cell_type": "code",
   "execution_count": 11,
   "id": "92ebd3da",
   "metadata": {},
   "outputs": [
    {
     "data": {
      "text/html": [
       "<style>#sk-container-id-1 {color: black;background-color: white;}#sk-container-id-1 pre{padding: 0;}#sk-container-id-1 div.sk-toggleable {background-color: white;}#sk-container-id-1 label.sk-toggleable__label {cursor: pointer;display: block;width: 100%;margin-bottom: 0;padding: 0.3em;box-sizing: border-box;text-align: center;}#sk-container-id-1 label.sk-toggleable__label-arrow:before {content: \"▸\";float: left;margin-right: 0.25em;color: #696969;}#sk-container-id-1 label.sk-toggleable__label-arrow:hover:before {color: black;}#sk-container-id-1 div.sk-estimator:hover label.sk-toggleable__label-arrow:before {color: black;}#sk-container-id-1 div.sk-toggleable__content {max-height: 0;max-width: 0;overflow: hidden;text-align: left;background-color: #f0f8ff;}#sk-container-id-1 div.sk-toggleable__content pre {margin: 0.2em;color: black;border-radius: 0.25em;background-color: #f0f8ff;}#sk-container-id-1 input.sk-toggleable__control:checked~div.sk-toggleable__content {max-height: 200px;max-width: 100%;overflow: auto;}#sk-container-id-1 input.sk-toggleable__control:checked~label.sk-toggleable__label-arrow:before {content: \"▾\";}#sk-container-id-1 div.sk-estimator input.sk-toggleable__control:checked~label.sk-toggleable__label {background-color: #d4ebff;}#sk-container-id-1 div.sk-label input.sk-toggleable__control:checked~label.sk-toggleable__label {background-color: #d4ebff;}#sk-container-id-1 input.sk-hidden--visually {border: 0;clip: rect(1px 1px 1px 1px);clip: rect(1px, 1px, 1px, 1px);height: 1px;margin: -1px;overflow: hidden;padding: 0;position: absolute;width: 1px;}#sk-container-id-1 div.sk-estimator {font-family: monospace;background-color: #f0f8ff;border: 1px dotted black;border-radius: 0.25em;box-sizing: border-box;margin-bottom: 0.5em;}#sk-container-id-1 div.sk-estimator:hover {background-color: #d4ebff;}#sk-container-id-1 div.sk-parallel-item::after {content: \"\";width: 100%;border-bottom: 1px solid gray;flex-grow: 1;}#sk-container-id-1 div.sk-label:hover label.sk-toggleable__label {background-color: #d4ebff;}#sk-container-id-1 div.sk-serial::before {content: \"\";position: absolute;border-left: 1px solid gray;box-sizing: border-box;top: 0;bottom: 0;left: 50%;z-index: 0;}#sk-container-id-1 div.sk-serial {display: flex;flex-direction: column;align-items: center;background-color: white;padding-right: 0.2em;padding-left: 0.2em;position: relative;}#sk-container-id-1 div.sk-item {position: relative;z-index: 1;}#sk-container-id-1 div.sk-parallel {display: flex;align-items: stretch;justify-content: center;background-color: white;position: relative;}#sk-container-id-1 div.sk-item::before, #sk-container-id-1 div.sk-parallel-item::before {content: \"\";position: absolute;border-left: 1px solid gray;box-sizing: border-box;top: 0;bottom: 0;left: 50%;z-index: -1;}#sk-container-id-1 div.sk-parallel-item {display: flex;flex-direction: column;z-index: 1;position: relative;background-color: white;}#sk-container-id-1 div.sk-parallel-item:first-child::after {align-self: flex-end;width: 50%;}#sk-container-id-1 div.sk-parallel-item:last-child::after {align-self: flex-start;width: 50%;}#sk-container-id-1 div.sk-parallel-item:only-child::after {width: 0;}#sk-container-id-1 div.sk-dashed-wrapped {border: 1px dashed gray;margin: 0 0.4em 0.5em 0.4em;box-sizing: border-box;padding-bottom: 0.4em;background-color: white;}#sk-container-id-1 div.sk-label label {font-family: monospace;font-weight: bold;display: inline-block;line-height: 1.2em;}#sk-container-id-1 div.sk-label-container {text-align: center;}#sk-container-id-1 div.sk-container {/* jupyter's `normalize.less` sets `[hidden] { display: none; }` but bootstrap.min.css set `[hidden] { display: none !important; }` so we also need the `!important` here to be able to override the default hidden behavior on the sphinx rendered scikit-learn.org. See: https://github.com/scikit-learn/scikit-learn/issues/21755 */display: inline-block !important;position: relative;}#sk-container-id-1 div.sk-text-repr-fallback {display: none;}</style><div id=\"sk-container-id-1\" class=\"sk-top-container\"><div class=\"sk-text-repr-fallback\"><pre>LinearRegression()</pre><b>In a Jupyter environment, please rerun this cell to show the HTML representation or trust the notebook. <br />On GitHub, the HTML representation is unable to render, please try loading this page with nbviewer.org.</b></div><div class=\"sk-container\" hidden><div class=\"sk-item\"><div class=\"sk-estimator sk-toggleable\"><input class=\"sk-toggleable__control sk-hidden--visually\" id=\"sk-estimator-id-1\" type=\"checkbox\" checked><label for=\"sk-estimator-id-1\" class=\"sk-toggleable__label sk-toggleable__label-arrow\">LinearRegression</label><div class=\"sk-toggleable__content\"><pre>LinearRegression()</pre></div></div></div></div></div>"
      ],
      "text/plain": [
       "LinearRegression()"
      ]
     },
     "execution_count": 11,
     "metadata": {},
     "output_type": "execute_result"
    }
   ],
   "source": [
    "# Step.3 : 모델 학습\n",
    "linear_model.fit(X_train, y_train)"
   ]
  },
  {
   "cell_type": "code",
   "execution_count": 12,
   "id": "1671c1f1",
   "metadata": {},
   "outputs": [
    {
     "name": "stdout",
     "output_type": "stream",
     "text": [
      "[0.82133572 0.69548202 0.76977103 0.60091794 0.72619665]\n",
      "0.7227406713851028\n"
     ]
    }
   ],
   "source": [
    "# Step.4 : 교차 검증\n",
    "from sklearn.model_selection import cross_val_score\n",
    "result = cross_val_score(linear_model, X_train, y_train, cv = 5)\n",
    "print(result)\n",
    "print(result.mean())"
   ]
  },
  {
   "cell_type": "code",
   "execution_count": 13,
   "id": "6b8fd817",
   "metadata": {},
   "outputs": [
    {
     "data": {
      "text/plain": [
       "array([-1.04208858e-01,  5.14224082e-02,  3.26235929e-02,  2.41480725e+00,\n",
       "       -1.68184518e+01,  4.22091959e+00,  8.71322533e-03, -1.39154760e+00,\n",
       "        3.19797753e-01, -1.31193609e-02, -9.26304695e-01,  7.14452214e-03,\n",
       "       -5.59406763e-01])"
      ]
     },
     "execution_count": 13,
     "metadata": {},
     "output_type": "execute_result"
    }
   ],
   "source": [
    "# 가중치 w값 확인해보기\n",
    "linear_model.coef_"
   ]
  },
  {
   "cell_type": "code",
   "execution_count": 14,
   "id": "bcc4b00a",
   "metadata": {},
   "outputs": [
    {
     "data": {
      "text/plain": [
       "33.249743960407706"
      ]
     },
     "execution_count": 14,
     "metadata": {},
     "output_type": "execute_result"
    }
   ],
   "source": [
    "# 편향 b값 확인해보기\n",
    "linear_model.intercept_"
   ]
  },
  {
   "cell_type": "code",
   "execution_count": 15,
   "id": "3f6c09c1",
   "metadata": {},
   "outputs": [
    {
     "data": {
      "text/plain": [
       "array([17.05285219, 40.99581618, 20.97480235, 24.90789542, 22.2523638 ,\n",
       "       21.34258336, 12.14768738,  5.00452619, 19.51969562, 16.74523737,\n",
       "       23.79450368, 19.39133431, 15.51480145, 24.47187154, 22.69350554,\n",
       "       32.01603536, 35.47632458, 20.07531707, 17.78753886, 27.14530495,\n",
       "       19.02322935, 32.72037647,  2.70990953, 14.59629453,  8.10394764,\n",
       "       15.96596613, 17.44608348, 20.36154698, 22.00353754, 26.12055982,\n",
       "       21.92309287, 26.9730985 , 25.34548012, 23.49130574, 28.63387093,\n",
       "       33.10613697,  9.65598959, 18.54582012, 16.94447243, 16.3919801 ,\n",
       "       35.88106625, 25.45732842, 19.43323551, 24.15482115, 16.70714982,\n",
       "       19.95303288, 25.16690461, 20.44814713, 20.28838392, 13.23707552,\n",
       "       20.37339756, 15.08557519, 10.3193517 , 26.60043795,  5.23256098,\n",
       "       14.06537815, 16.71261575, 14.13030307, 22.35648121, -0.74559001,\n",
       "       19.26817767, 33.94442075, 22.42269172, 33.12653572, 17.87392514,\n",
       "       25.04760047, 23.18226021, 16.72709117,  5.95329919, 13.67382736,\n",
       "       20.77272065, 13.17409543, 33.07250116,  9.48427236, 18.29140366,\n",
       "       15.33821707, 13.65671552, 25.25851809, 32.16367379, 22.42442263,\n",
       "       19.97272935, 20.13232034, 20.52175764, 23.10162748, 24.92878448,\n",
       "       19.66557007, 20.83885896, 25.90830347, 24.24443032, 25.71659986,\n",
       "       19.16368467, 13.27162093, 11.59273437, 18.35830273, 36.20307359,\n",
       "       28.06585351, 28.95850978, 32.36629465, 27.34142311, 17.68158909,\n",
       "       15.64615631, 24.25390011, 17.98333446, 31.70282272, 22.85795439,\n",
       "       28.49982767, 13.42761512, 18.33380312,  2.84741101, 40.76916475,\n",
       "       38.7489842 , 14.07341728, 17.6168738 , 25.96016011, 25.90970837,\n",
       "       21.90171361, 29.1533385 , 26.9556756 , 32.08159989, 31.10180366,\n",
       "       24.51393412, 42.74297648, 28.5648567 , 23.00807646,  6.97414943,\n",
       "       18.56766408, 19.56404288, 24.87178687, 13.00903554, 42.08330474,\n",
       "       31.30245176, 22.50756955, 20.31440008, 20.28569384, 31.28267134,\n",
       "       18.2569517 , 15.75070632, 34.7471732 , 22.38072618, 21.95154794,\n",
       "       20.35958595, 29.01564459, 34.16539857, 27.86914481, 30.96988104,\n",
       "       19.62316511, 20.39128497, 19.33748558, 20.31071774, 36.5300174 ,\n",
       "        6.82242018, 27.38385126])"
      ]
     },
     "execution_count": 15,
     "metadata": {},
     "output_type": "execute_result"
    }
   ],
   "source": [
    "# 정답 예측\n",
    "pre = linear_model.predict(X_test)\n",
    "pre"
   ]
  },
  {
   "cell_type": "markdown",
   "id": "f2177f4b",
   "metadata": {},
   "source": [
    "- 회귀 평가 지표를 이용해서, 모델을 평가해보자.\n",
    "- MSE, MAE, RMSE, R2스코어"
   ]
  },
  {
   "cell_type": "code",
   "execution_count": 16,
   "id": "4f78e5cc",
   "metadata": {},
   "outputs": [],
   "source": [
    "# 평가지표 import\n",
    "# sklearn.metrics : 평가지표들이 모여있는 곳\n",
    "from sklearn.metrics import mean_squared_error # 평균 제곱 오차\n",
    "from sklearn.metrics import mean_absolute_error # 평균 절대 오차\n",
    "from sklearn.metrics import r2_score # r2 스코어"
   ]
  },
  {
   "cell_type": "code",
   "execution_count": 17,
   "id": "30e6cb7b",
   "metadata": {},
   "outputs": [
    {
     "data": {
      "text/plain": [
       "27.22264547868531"
      ]
     },
     "execution_count": 17,
     "metadata": {},
     "output_type": "execute_result"
    }
   ],
   "source": [
    "# MSE 사용하기\n",
    "mean_squared_error(pre, y_test)"
   ]
  },
  {
   "cell_type": "code",
   "execution_count": 18,
   "id": "0123f903",
   "metadata": {},
   "outputs": [
    {
     "data": {
      "text/plain": [
       "5.2175325086371345"
      ]
     },
     "execution_count": 18,
     "metadata": {},
     "output_type": "execute_result"
    }
   ],
   "source": [
    "# RMSE 사용하기\n",
    "# sklearn 내부에서는 RMSE를 지원하지 않는다. -> 넘파이에 있는 sqrt 함수 사용\n",
    "np.sqrt(mean_squared_error(pre, y_test))"
   ]
  },
  {
   "cell_type": "code",
   "execution_count": 19,
   "id": "f33ab564",
   "metadata": {},
   "outputs": [
    {
     "data": {
      "text/plain": [
       "3.6564020213095834"
      ]
     },
     "execution_count": 19,
     "metadata": {},
     "output_type": "execute_result"
    }
   ],
   "source": [
    "# MAE 사용하기\n",
    "mean_absolute_error(pre, y_test)"
   ]
  },
  {
   "cell_type": "code",
   "execution_count": 20,
   "id": "27c9c284",
   "metadata": {},
   "outputs": [
    {
     "data": {
      "text/plain": [
       "0.5857060476116772"
      ]
     },
     "execution_count": 20,
     "metadata": {},
     "output_type": "execute_result"
    }
   ],
   "source": [
    "# r2 스코어 사용하기\n",
    "r2_score(pre, y_test)"
   ]
  },
  {
   "cell_type": "code",
   "execution_count": 21,
   "id": "daebd101",
   "metadata": {},
   "outputs": [
    {
     "data": {
      "text/plain": [
       "0.6575515330273629"
      ]
     },
     "execution_count": 21,
     "metadata": {},
     "output_type": "execute_result"
    }
   ],
   "source": [
    "# score 함수 사용해보기\n",
    "linear_model.score(X_test, y_test)"
   ]
  },
  {
   "cell_type": "markdown",
   "id": "0b1602cb",
   "metadata": {},
   "source": [
    "- 현재 회귀모델은 성능이 그렇게 좋은 편이 아닌 것 같다.\n",
    "- 일반적으로 선형회귀모델은 데이터의 특성이 많을 수록 성능이 좋아진다.\n",
    "- 특성이 적은 경우 선형회귀 모델이 간단해진다.(단순해진다) -> 성능이 낮아질 수 밖에 없다.\n",
    "- 모델을 제어할 수 있는 하이퍼 파라미터 조정이 불가능하기 때문이다.\n",
    "- 특성 곱을 이용해서 새로운 특성을 만들어보자."
   ]
  },
  {
   "cell_type": "markdown",
   "id": "42b3aeab",
   "metadata": {},
   "source": [
    "**원본 데이터 프레임 복사하기**"
   ]
  },
  {
   "cell_type": "code",
   "execution_count": 22,
   "id": "e15b01c8",
   "metadata": {},
   "outputs": [],
   "source": [
    "# copy() : 데이터 프레임의 현재 상태를 복사 / 복사 당시의 데이터 프레임 상태만 복사하는 깊은 복사\n",
    "X_train_copy = X_train.copy()"
   ]
  },
  {
   "cell_type": "code",
   "execution_count": 23,
   "id": "d1925419",
   "metadata": {},
   "outputs": [],
   "source": [
    "# 기존의 훈련용 문제 데이터에 훈련용 정답 컬럼을 추가해주자\n",
    "# 정답을 포함한 상관관계를 파악하기 위해서 ! 정답 컬럼을 추가 !\n",
    "X_train_copy['MEDV'] = y_train"
   ]
  },
  {
   "cell_type": "code",
   "execution_count": 24,
   "id": "4fdb51e2",
   "metadata": {},
   "outputs": [
    {
     "name": "stdout",
     "output_type": "stream",
     "text": [
      "<class 'pandas.core.frame.DataFrame'>\n",
      "Int64Index: 354 entries, 31 to 107\n",
      "Data columns (total 14 columns):\n",
      " #   Column   Non-Null Count  Dtype  \n",
      "---  ------   --------------  -----  \n",
      " 0   CRIM     354 non-null    float64\n",
      " 1   ZN       354 non-null    float64\n",
      " 2   INDUS    354 non-null    float64\n",
      " 3   CHAS     354 non-null    float64\n",
      " 4   NOX      354 non-null    float64\n",
      " 5   RM       354 non-null    float64\n",
      " 6   AGE      354 non-null    float64\n",
      " 7   DIS      354 non-null    float64\n",
      " 8   RAD      354 non-null    float64\n",
      " 9   TAX      354 non-null    float64\n",
      " 10  PTRATIO  354 non-null    float64\n",
      " 11  B        354 non-null    float64\n",
      " 12  LSTAT    354 non-null    float64\n",
      " 13  MEDV     354 non-null    float64\n",
      "dtypes: float64(14)\n",
      "memory usage: 41.5 KB\n"
     ]
    }
   ],
   "source": [
    "# 데이터프레임 형태 바꼈다 -> shape, info\n",
    "X_train_copy.info()"
   ]
  },
  {
   "cell_type": "code",
   "execution_count": 25,
   "id": "e1a555bd",
   "metadata": {},
   "outputs": [
    {
     "data": {
      "text/html": [
       "<div>\n",
       "<style scoped>\n",
       "    .dataframe tbody tr th:only-of-type {\n",
       "        vertical-align: middle;\n",
       "    }\n",
       "\n",
       "    .dataframe tbody tr th {\n",
       "        vertical-align: top;\n",
       "    }\n",
       "\n",
       "    .dataframe thead th {\n",
       "        text-align: right;\n",
       "    }\n",
       "</style>\n",
       "<table border=\"1\" class=\"dataframe\">\n",
       "  <thead>\n",
       "    <tr style=\"text-align: right;\">\n",
       "      <th></th>\n",
       "      <th>CRIM</th>\n",
       "      <th>ZN</th>\n",
       "      <th>INDUS</th>\n",
       "      <th>CHAS</th>\n",
       "      <th>NOX</th>\n",
       "      <th>RM</th>\n",
       "      <th>AGE</th>\n",
       "      <th>DIS</th>\n",
       "      <th>RAD</th>\n",
       "      <th>TAX</th>\n",
       "      <th>PTRATIO</th>\n",
       "      <th>B</th>\n",
       "      <th>LSTAT</th>\n",
       "      <th>MEDV</th>\n",
       "    </tr>\n",
       "  </thead>\n",
       "  <tbody>\n",
       "    <tr>\n",
       "      <th>CRIM</th>\n",
       "      <td>1.000000</td>\n",
       "      <td>-0.198127</td>\n",
       "      <td>0.407642</td>\n",
       "      <td>-0.062908</td>\n",
       "      <td>0.396684</td>\n",
       "      <td>-0.204196</td>\n",
       "      <td>0.342938</td>\n",
       "      <td>-0.370585</td>\n",
       "      <td>0.615835</td>\n",
       "      <td>0.583885</td>\n",
       "      <td>0.287578</td>\n",
       "      <td>-0.455281</td>\n",
       "      <td>0.412497</td>\n",
       "      <td>-0.365201</td>\n",
       "    </tr>\n",
       "    <tr>\n",
       "      <th>ZN</th>\n",
       "      <td>-0.198127</td>\n",
       "      <td>1.000000</td>\n",
       "      <td>-0.537779</td>\n",
       "      <td>-0.036186</td>\n",
       "      <td>-0.516228</td>\n",
       "      <td>0.328811</td>\n",
       "      <td>-0.587600</td>\n",
       "      <td>0.667067</td>\n",
       "      <td>-0.321028</td>\n",
       "      <td>-0.302022</td>\n",
       "      <td>-0.412976</td>\n",
       "      <td>0.180559</td>\n",
       "      <td>-0.418373</td>\n",
       "      <td>0.384899</td>\n",
       "    </tr>\n",
       "    <tr>\n",
       "      <th>INDUS</th>\n",
       "      <td>0.407642</td>\n",
       "      <td>-0.537779</td>\n",
       "      <td>1.000000</td>\n",
       "      <td>0.046579</td>\n",
       "      <td>0.750273</td>\n",
       "      <td>-0.422111</td>\n",
       "      <td>0.645569</td>\n",
       "      <td>-0.698460</td>\n",
       "      <td>0.603990</td>\n",
       "      <td>0.701238</td>\n",
       "      <td>0.373049</td>\n",
       "      <td>-0.375440</td>\n",
       "      <td>0.599017</td>\n",
       "      <td>-0.489072</td>\n",
       "    </tr>\n",
       "    <tr>\n",
       "      <th>CHAS</th>\n",
       "      <td>-0.062908</td>\n",
       "      <td>-0.036186</td>\n",
       "      <td>0.046579</td>\n",
       "      <td>1.000000</td>\n",
       "      <td>0.079141</td>\n",
       "      <td>0.043520</td>\n",
       "      <td>0.088738</td>\n",
       "      <td>-0.086626</td>\n",
       "      <td>-0.016696</td>\n",
       "      <td>-0.044503</td>\n",
       "      <td>-0.088673</td>\n",
       "      <td>0.041842</td>\n",
       "      <td>-0.037309</td>\n",
       "      <td>0.138453</td>\n",
       "    </tr>\n",
       "    <tr>\n",
       "      <th>NOX</th>\n",
       "      <td>0.396684</td>\n",
       "      <td>-0.516228</td>\n",
       "      <td>0.750273</td>\n",
       "      <td>0.079141</td>\n",
       "      <td>1.000000</td>\n",
       "      <td>-0.324292</td>\n",
       "      <td>0.724184</td>\n",
       "      <td>-0.769434</td>\n",
       "      <td>0.590693</td>\n",
       "      <td>0.642399</td>\n",
       "      <td>0.160945</td>\n",
       "      <td>-0.386455</td>\n",
       "      <td>0.576952</td>\n",
       "      <td>-0.419515</td>\n",
       "    </tr>\n",
       "    <tr>\n",
       "      <th>RM</th>\n",
       "      <td>-0.204196</td>\n",
       "      <td>0.328811</td>\n",
       "      <td>-0.422111</td>\n",
       "      <td>0.043520</td>\n",
       "      <td>-0.324292</td>\n",
       "      <td>1.000000</td>\n",
       "      <td>-0.267122</td>\n",
       "      <td>0.224127</td>\n",
       "      <td>-0.231818</td>\n",
       "      <td>-0.310267</td>\n",
       "      <td>-0.366450</td>\n",
       "      <td>0.169576</td>\n",
       "      <td>-0.616330</td>\n",
       "      <td>0.726667</td>\n",
       "    </tr>\n",
       "    <tr>\n",
       "      <th>AGE</th>\n",
       "      <td>0.342938</td>\n",
       "      <td>-0.587600</td>\n",
       "      <td>0.645569</td>\n",
       "      <td>0.088738</td>\n",
       "      <td>0.724184</td>\n",
       "      <td>-0.267122</td>\n",
       "      <td>1.000000</td>\n",
       "      <td>-0.753645</td>\n",
       "      <td>0.457447</td>\n",
       "      <td>0.491449</td>\n",
       "      <td>0.259480</td>\n",
       "      <td>-0.295535</td>\n",
       "      <td>0.607902</td>\n",
       "      <td>-0.380091</td>\n",
       "    </tr>\n",
       "    <tr>\n",
       "      <th>DIS</th>\n",
       "      <td>-0.370585</td>\n",
       "      <td>0.667067</td>\n",
       "      <td>-0.698460</td>\n",
       "      <td>-0.086626</td>\n",
       "      <td>-0.769434</td>\n",
       "      <td>0.224127</td>\n",
       "      <td>-0.753645</td>\n",
       "      <td>1.000000</td>\n",
       "      <td>-0.492302</td>\n",
       "      <td>-0.516146</td>\n",
       "      <td>-0.217870</td>\n",
       "      <td>0.311121</td>\n",
       "      <td>-0.474333</td>\n",
       "      <td>0.248849</td>\n",
       "    </tr>\n",
       "    <tr>\n",
       "      <th>RAD</th>\n",
       "      <td>0.615835</td>\n",
       "      <td>-0.321028</td>\n",
       "      <td>0.603990</td>\n",
       "      <td>-0.016696</td>\n",
       "      <td>0.590693</td>\n",
       "      <td>-0.231818</td>\n",
       "      <td>0.457447</td>\n",
       "      <td>-0.492302</td>\n",
       "      <td>1.000000</td>\n",
       "      <td>0.925356</td>\n",
       "      <td>0.471381</td>\n",
       "      <td>-0.438406</td>\n",
       "      <td>0.465708</td>\n",
       "      <td>-0.373630</td>\n",
       "    </tr>\n",
       "    <tr>\n",
       "      <th>TAX</th>\n",
       "      <td>0.583885</td>\n",
       "      <td>-0.302022</td>\n",
       "      <td>0.701238</td>\n",
       "      <td>-0.044503</td>\n",
       "      <td>0.642399</td>\n",
       "      <td>-0.310267</td>\n",
       "      <td>0.491449</td>\n",
       "      <td>-0.516146</td>\n",
       "      <td>0.925356</td>\n",
       "      <td>1.000000</td>\n",
       "      <td>0.463844</td>\n",
       "      <td>-0.444427</td>\n",
       "      <td>0.510925</td>\n",
       "      <td>-0.452758</td>\n",
       "    </tr>\n",
       "    <tr>\n",
       "      <th>PTRATIO</th>\n",
       "      <td>0.287578</td>\n",
       "      <td>-0.412976</td>\n",
       "      <td>0.373049</td>\n",
       "      <td>-0.088673</td>\n",
       "      <td>0.160945</td>\n",
       "      <td>-0.366450</td>\n",
       "      <td>0.259480</td>\n",
       "      <td>-0.217870</td>\n",
       "      <td>0.471381</td>\n",
       "      <td>0.463844</td>\n",
       "      <td>1.000000</td>\n",
       "      <td>-0.171175</td>\n",
       "      <td>0.367573</td>\n",
       "      <td>-0.515816</td>\n",
       "    </tr>\n",
       "    <tr>\n",
       "      <th>B</th>\n",
       "      <td>-0.455281</td>\n",
       "      <td>0.180559</td>\n",
       "      <td>-0.375440</td>\n",
       "      <td>0.041842</td>\n",
       "      <td>-0.386455</td>\n",
       "      <td>0.169576</td>\n",
       "      <td>-0.295535</td>\n",
       "      <td>0.311121</td>\n",
       "      <td>-0.438406</td>\n",
       "      <td>-0.444427</td>\n",
       "      <td>-0.171175</td>\n",
       "      <td>1.000000</td>\n",
       "      <td>-0.415306</td>\n",
       "      <td>0.348484</td>\n",
       "    </tr>\n",
       "    <tr>\n",
       "      <th>LSTAT</th>\n",
       "      <td>0.412497</td>\n",
       "      <td>-0.418373</td>\n",
       "      <td>0.599017</td>\n",
       "      <td>-0.037309</td>\n",
       "      <td>0.576952</td>\n",
       "      <td>-0.616330</td>\n",
       "      <td>0.607902</td>\n",
       "      <td>-0.474333</td>\n",
       "      <td>0.465708</td>\n",
       "      <td>0.510925</td>\n",
       "      <td>0.367573</td>\n",
       "      <td>-0.415306</td>\n",
       "      <td>1.000000</td>\n",
       "      <td>-0.751597</td>\n",
       "    </tr>\n",
       "    <tr>\n",
       "      <th>MEDV</th>\n",
       "      <td>-0.365201</td>\n",
       "      <td>0.384899</td>\n",
       "      <td>-0.489072</td>\n",
       "      <td>0.138453</td>\n",
       "      <td>-0.419515</td>\n",
       "      <td>0.726667</td>\n",
       "      <td>-0.380091</td>\n",
       "      <td>0.248849</td>\n",
       "      <td>-0.373630</td>\n",
       "      <td>-0.452758</td>\n",
       "      <td>-0.515816</td>\n",
       "      <td>0.348484</td>\n",
       "      <td>-0.751597</td>\n",
       "      <td>1.000000</td>\n",
       "    </tr>\n",
       "  </tbody>\n",
       "</table>\n",
       "</div>"
      ],
      "text/plain": [
       "             CRIM        ZN     INDUS      CHAS       NOX        RM       AGE  \\\n",
       "CRIM     1.000000 -0.198127  0.407642 -0.062908  0.396684 -0.204196  0.342938   \n",
       "ZN      -0.198127  1.000000 -0.537779 -0.036186 -0.516228  0.328811 -0.587600   \n",
       "INDUS    0.407642 -0.537779  1.000000  0.046579  0.750273 -0.422111  0.645569   \n",
       "CHAS    -0.062908 -0.036186  0.046579  1.000000  0.079141  0.043520  0.088738   \n",
       "NOX      0.396684 -0.516228  0.750273  0.079141  1.000000 -0.324292  0.724184   \n",
       "RM      -0.204196  0.328811 -0.422111  0.043520 -0.324292  1.000000 -0.267122   \n",
       "AGE      0.342938 -0.587600  0.645569  0.088738  0.724184 -0.267122  1.000000   \n",
       "DIS     -0.370585  0.667067 -0.698460 -0.086626 -0.769434  0.224127 -0.753645   \n",
       "RAD      0.615835 -0.321028  0.603990 -0.016696  0.590693 -0.231818  0.457447   \n",
       "TAX      0.583885 -0.302022  0.701238 -0.044503  0.642399 -0.310267  0.491449   \n",
       "PTRATIO  0.287578 -0.412976  0.373049 -0.088673  0.160945 -0.366450  0.259480   \n",
       "B       -0.455281  0.180559 -0.375440  0.041842 -0.386455  0.169576 -0.295535   \n",
       "LSTAT    0.412497 -0.418373  0.599017 -0.037309  0.576952 -0.616330  0.607902   \n",
       "MEDV    -0.365201  0.384899 -0.489072  0.138453 -0.419515  0.726667 -0.380091   \n",
       "\n",
       "              DIS       RAD       TAX   PTRATIO         B     LSTAT      MEDV  \n",
       "CRIM    -0.370585  0.615835  0.583885  0.287578 -0.455281  0.412497 -0.365201  \n",
       "ZN       0.667067 -0.321028 -0.302022 -0.412976  0.180559 -0.418373  0.384899  \n",
       "INDUS   -0.698460  0.603990  0.701238  0.373049 -0.375440  0.599017 -0.489072  \n",
       "CHAS    -0.086626 -0.016696 -0.044503 -0.088673  0.041842 -0.037309  0.138453  \n",
       "NOX     -0.769434  0.590693  0.642399  0.160945 -0.386455  0.576952 -0.419515  \n",
       "RM       0.224127 -0.231818 -0.310267 -0.366450  0.169576 -0.616330  0.726667  \n",
       "AGE     -0.753645  0.457447  0.491449  0.259480 -0.295535  0.607902 -0.380091  \n",
       "DIS      1.000000 -0.492302 -0.516146 -0.217870  0.311121 -0.474333  0.248849  \n",
       "RAD     -0.492302  1.000000  0.925356  0.471381 -0.438406  0.465708 -0.373630  \n",
       "TAX     -0.516146  0.925356  1.000000  0.463844 -0.444427  0.510925 -0.452758  \n",
       "PTRATIO -0.217870  0.471381  0.463844  1.000000 -0.171175  0.367573 -0.515816  \n",
       "B        0.311121 -0.438406 -0.444427 -0.171175  1.000000 -0.415306  0.348484  \n",
       "LSTAT   -0.474333  0.465708  0.510925  0.367573 -0.415306  1.000000 -0.751597  \n",
       "MEDV     0.248849 -0.373630 -0.452758 -0.515816  0.348484 -0.751597  1.000000  "
      ]
     },
     "execution_count": 25,
     "metadata": {},
     "output_type": "execute_result"
    }
   ],
   "source": [
    "# 훈련데이터 상관관계 확인하기\n",
    "X_train_copy.corr()"
   ]
  },
  {
   "cell_type": "markdown",
   "id": "f6962788",
   "metadata": {},
   "source": [
    "- 현재 MEDV 컬럼의 상관관계가 뒤죽박죽 섞여있다. 정리를 해서 확인해보자."
   ]
  },
  {
   "cell_type": "code",
   "execution_count": 26,
   "id": "420675f4",
   "metadata": {},
   "outputs": [
    {
     "data": {
      "text/html": [
       "<div>\n",
       "<style scoped>\n",
       "    .dataframe tbody tr th:only-of-type {\n",
       "        vertical-align: middle;\n",
       "    }\n",
       "\n",
       "    .dataframe tbody tr th {\n",
       "        vertical-align: top;\n",
       "    }\n",
       "\n",
       "    .dataframe thead th {\n",
       "        text-align: right;\n",
       "    }\n",
       "</style>\n",
       "<table border=\"1\" class=\"dataframe\">\n",
       "  <thead>\n",
       "    <tr style=\"text-align: right;\">\n",
       "      <th></th>\n",
       "      <th>CRIM</th>\n",
       "      <th>ZN</th>\n",
       "      <th>INDUS</th>\n",
       "      <th>CHAS</th>\n",
       "      <th>NOX</th>\n",
       "      <th>RM</th>\n",
       "      <th>AGE</th>\n",
       "      <th>DIS</th>\n",
       "      <th>RAD</th>\n",
       "      <th>TAX</th>\n",
       "      <th>PTRATIO</th>\n",
       "      <th>B</th>\n",
       "      <th>LSTAT</th>\n",
       "      <th>MEDV</th>\n",
       "    </tr>\n",
       "  </thead>\n",
       "  <tbody>\n",
       "    <tr>\n",
       "      <th>MEDV</th>\n",
       "      <td>0.365201</td>\n",
       "      <td>0.384899</td>\n",
       "      <td>0.489072</td>\n",
       "      <td>0.138453</td>\n",
       "      <td>0.419515</td>\n",
       "      <td>0.726667</td>\n",
       "      <td>0.380091</td>\n",
       "      <td>0.248849</td>\n",
       "      <td>0.373630</td>\n",
       "      <td>0.452758</td>\n",
       "      <td>0.515816</td>\n",
       "      <td>0.348484</td>\n",
       "      <td>0.751597</td>\n",
       "      <td>1.000000</td>\n",
       "    </tr>\n",
       "    <tr>\n",
       "      <th>LSTAT</th>\n",
       "      <td>0.412497</td>\n",
       "      <td>0.418373</td>\n",
       "      <td>0.599017</td>\n",
       "      <td>0.037309</td>\n",
       "      <td>0.576952</td>\n",
       "      <td>0.616330</td>\n",
       "      <td>0.607902</td>\n",
       "      <td>0.474333</td>\n",
       "      <td>0.465708</td>\n",
       "      <td>0.510925</td>\n",
       "      <td>0.367573</td>\n",
       "      <td>0.415306</td>\n",
       "      <td>1.000000</td>\n",
       "      <td>0.751597</td>\n",
       "    </tr>\n",
       "    <tr>\n",
       "      <th>RM</th>\n",
       "      <td>0.204196</td>\n",
       "      <td>0.328811</td>\n",
       "      <td>0.422111</td>\n",
       "      <td>0.043520</td>\n",
       "      <td>0.324292</td>\n",
       "      <td>1.000000</td>\n",
       "      <td>0.267122</td>\n",
       "      <td>0.224127</td>\n",
       "      <td>0.231818</td>\n",
       "      <td>0.310267</td>\n",
       "      <td>0.366450</td>\n",
       "      <td>0.169576</td>\n",
       "      <td>0.616330</td>\n",
       "      <td>0.726667</td>\n",
       "    </tr>\n",
       "    <tr>\n",
       "      <th>PTRATIO</th>\n",
       "      <td>0.287578</td>\n",
       "      <td>0.412976</td>\n",
       "      <td>0.373049</td>\n",
       "      <td>0.088673</td>\n",
       "      <td>0.160945</td>\n",
       "      <td>0.366450</td>\n",
       "      <td>0.259480</td>\n",
       "      <td>0.217870</td>\n",
       "      <td>0.471381</td>\n",
       "      <td>0.463844</td>\n",
       "      <td>1.000000</td>\n",
       "      <td>0.171175</td>\n",
       "      <td>0.367573</td>\n",
       "      <td>0.515816</td>\n",
       "    </tr>\n",
       "    <tr>\n",
       "      <th>INDUS</th>\n",
       "      <td>0.407642</td>\n",
       "      <td>0.537779</td>\n",
       "      <td>1.000000</td>\n",
       "      <td>0.046579</td>\n",
       "      <td>0.750273</td>\n",
       "      <td>0.422111</td>\n",
       "      <td>0.645569</td>\n",
       "      <td>0.698460</td>\n",
       "      <td>0.603990</td>\n",
       "      <td>0.701238</td>\n",
       "      <td>0.373049</td>\n",
       "      <td>0.375440</td>\n",
       "      <td>0.599017</td>\n",
       "      <td>0.489072</td>\n",
       "    </tr>\n",
       "    <tr>\n",
       "      <th>TAX</th>\n",
       "      <td>0.583885</td>\n",
       "      <td>0.302022</td>\n",
       "      <td>0.701238</td>\n",
       "      <td>0.044503</td>\n",
       "      <td>0.642399</td>\n",
       "      <td>0.310267</td>\n",
       "      <td>0.491449</td>\n",
       "      <td>0.516146</td>\n",
       "      <td>0.925356</td>\n",
       "      <td>1.000000</td>\n",
       "      <td>0.463844</td>\n",
       "      <td>0.444427</td>\n",
       "      <td>0.510925</td>\n",
       "      <td>0.452758</td>\n",
       "    </tr>\n",
       "    <tr>\n",
       "      <th>NOX</th>\n",
       "      <td>0.396684</td>\n",
       "      <td>0.516228</td>\n",
       "      <td>0.750273</td>\n",
       "      <td>0.079141</td>\n",
       "      <td>1.000000</td>\n",
       "      <td>0.324292</td>\n",
       "      <td>0.724184</td>\n",
       "      <td>0.769434</td>\n",
       "      <td>0.590693</td>\n",
       "      <td>0.642399</td>\n",
       "      <td>0.160945</td>\n",
       "      <td>0.386455</td>\n",
       "      <td>0.576952</td>\n",
       "      <td>0.419515</td>\n",
       "    </tr>\n",
       "    <tr>\n",
       "      <th>ZN</th>\n",
       "      <td>0.198127</td>\n",
       "      <td>1.000000</td>\n",
       "      <td>0.537779</td>\n",
       "      <td>0.036186</td>\n",
       "      <td>0.516228</td>\n",
       "      <td>0.328811</td>\n",
       "      <td>0.587600</td>\n",
       "      <td>0.667067</td>\n",
       "      <td>0.321028</td>\n",
       "      <td>0.302022</td>\n",
       "      <td>0.412976</td>\n",
       "      <td>0.180559</td>\n",
       "      <td>0.418373</td>\n",
       "      <td>0.384899</td>\n",
       "    </tr>\n",
       "    <tr>\n",
       "      <th>AGE</th>\n",
       "      <td>0.342938</td>\n",
       "      <td>0.587600</td>\n",
       "      <td>0.645569</td>\n",
       "      <td>0.088738</td>\n",
       "      <td>0.724184</td>\n",
       "      <td>0.267122</td>\n",
       "      <td>1.000000</td>\n",
       "      <td>0.753645</td>\n",
       "      <td>0.457447</td>\n",
       "      <td>0.491449</td>\n",
       "      <td>0.259480</td>\n",
       "      <td>0.295535</td>\n",
       "      <td>0.607902</td>\n",
       "      <td>0.380091</td>\n",
       "    </tr>\n",
       "    <tr>\n",
       "      <th>RAD</th>\n",
       "      <td>0.615835</td>\n",
       "      <td>0.321028</td>\n",
       "      <td>0.603990</td>\n",
       "      <td>0.016696</td>\n",
       "      <td>0.590693</td>\n",
       "      <td>0.231818</td>\n",
       "      <td>0.457447</td>\n",
       "      <td>0.492302</td>\n",
       "      <td>1.000000</td>\n",
       "      <td>0.925356</td>\n",
       "      <td>0.471381</td>\n",
       "      <td>0.438406</td>\n",
       "      <td>0.465708</td>\n",
       "      <td>0.373630</td>\n",
       "    </tr>\n",
       "    <tr>\n",
       "      <th>CRIM</th>\n",
       "      <td>1.000000</td>\n",
       "      <td>0.198127</td>\n",
       "      <td>0.407642</td>\n",
       "      <td>0.062908</td>\n",
       "      <td>0.396684</td>\n",
       "      <td>0.204196</td>\n",
       "      <td>0.342938</td>\n",
       "      <td>0.370585</td>\n",
       "      <td>0.615835</td>\n",
       "      <td>0.583885</td>\n",
       "      <td>0.287578</td>\n",
       "      <td>0.455281</td>\n",
       "      <td>0.412497</td>\n",
       "      <td>0.365201</td>\n",
       "    </tr>\n",
       "    <tr>\n",
       "      <th>B</th>\n",
       "      <td>0.455281</td>\n",
       "      <td>0.180559</td>\n",
       "      <td>0.375440</td>\n",
       "      <td>0.041842</td>\n",
       "      <td>0.386455</td>\n",
       "      <td>0.169576</td>\n",
       "      <td>0.295535</td>\n",
       "      <td>0.311121</td>\n",
       "      <td>0.438406</td>\n",
       "      <td>0.444427</td>\n",
       "      <td>0.171175</td>\n",
       "      <td>1.000000</td>\n",
       "      <td>0.415306</td>\n",
       "      <td>0.348484</td>\n",
       "    </tr>\n",
       "    <tr>\n",
       "      <th>DIS</th>\n",
       "      <td>0.370585</td>\n",
       "      <td>0.667067</td>\n",
       "      <td>0.698460</td>\n",
       "      <td>0.086626</td>\n",
       "      <td>0.769434</td>\n",
       "      <td>0.224127</td>\n",
       "      <td>0.753645</td>\n",
       "      <td>1.000000</td>\n",
       "      <td>0.492302</td>\n",
       "      <td>0.516146</td>\n",
       "      <td>0.217870</td>\n",
       "      <td>0.311121</td>\n",
       "      <td>0.474333</td>\n",
       "      <td>0.248849</td>\n",
       "    </tr>\n",
       "    <tr>\n",
       "      <th>CHAS</th>\n",
       "      <td>0.062908</td>\n",
       "      <td>0.036186</td>\n",
       "      <td>0.046579</td>\n",
       "      <td>1.000000</td>\n",
       "      <td>0.079141</td>\n",
       "      <td>0.043520</td>\n",
       "      <td>0.088738</td>\n",
       "      <td>0.086626</td>\n",
       "      <td>0.016696</td>\n",
       "      <td>0.044503</td>\n",
       "      <td>0.088673</td>\n",
       "      <td>0.041842</td>\n",
       "      <td>0.037309</td>\n",
       "      <td>0.138453</td>\n",
       "    </tr>\n",
       "  </tbody>\n",
       "</table>\n",
       "</div>"
      ],
      "text/plain": [
       "             CRIM        ZN     INDUS      CHAS       NOX        RM       AGE  \\\n",
       "MEDV     0.365201  0.384899  0.489072  0.138453  0.419515  0.726667  0.380091   \n",
       "LSTAT    0.412497  0.418373  0.599017  0.037309  0.576952  0.616330  0.607902   \n",
       "RM       0.204196  0.328811  0.422111  0.043520  0.324292  1.000000  0.267122   \n",
       "PTRATIO  0.287578  0.412976  0.373049  0.088673  0.160945  0.366450  0.259480   \n",
       "INDUS    0.407642  0.537779  1.000000  0.046579  0.750273  0.422111  0.645569   \n",
       "TAX      0.583885  0.302022  0.701238  0.044503  0.642399  0.310267  0.491449   \n",
       "NOX      0.396684  0.516228  0.750273  0.079141  1.000000  0.324292  0.724184   \n",
       "ZN       0.198127  1.000000  0.537779  0.036186  0.516228  0.328811  0.587600   \n",
       "AGE      0.342938  0.587600  0.645569  0.088738  0.724184  0.267122  1.000000   \n",
       "RAD      0.615835  0.321028  0.603990  0.016696  0.590693  0.231818  0.457447   \n",
       "CRIM     1.000000  0.198127  0.407642  0.062908  0.396684  0.204196  0.342938   \n",
       "B        0.455281  0.180559  0.375440  0.041842  0.386455  0.169576  0.295535   \n",
       "DIS      0.370585  0.667067  0.698460  0.086626  0.769434  0.224127  0.753645   \n",
       "CHAS     0.062908  0.036186  0.046579  1.000000  0.079141  0.043520  0.088738   \n",
       "\n",
       "              DIS       RAD       TAX   PTRATIO         B     LSTAT      MEDV  \n",
       "MEDV     0.248849  0.373630  0.452758  0.515816  0.348484  0.751597  1.000000  \n",
       "LSTAT    0.474333  0.465708  0.510925  0.367573  0.415306  1.000000  0.751597  \n",
       "RM       0.224127  0.231818  0.310267  0.366450  0.169576  0.616330  0.726667  \n",
       "PTRATIO  0.217870  0.471381  0.463844  1.000000  0.171175  0.367573  0.515816  \n",
       "INDUS    0.698460  0.603990  0.701238  0.373049  0.375440  0.599017  0.489072  \n",
       "TAX      0.516146  0.925356  1.000000  0.463844  0.444427  0.510925  0.452758  \n",
       "NOX      0.769434  0.590693  0.642399  0.160945  0.386455  0.576952  0.419515  \n",
       "ZN       0.667067  0.321028  0.302022  0.412976  0.180559  0.418373  0.384899  \n",
       "AGE      0.753645  0.457447  0.491449  0.259480  0.295535  0.607902  0.380091  \n",
       "RAD      0.492302  1.000000  0.925356  0.471381  0.438406  0.465708  0.373630  \n",
       "CRIM     0.370585  0.615835  0.583885  0.287578  0.455281  0.412497  0.365201  \n",
       "B        0.311121  0.438406  0.444427  0.171175  1.000000  0.415306  0.348484  \n",
       "DIS      1.000000  0.492302  0.516146  0.217870  0.311121  0.474333  0.248849  \n",
       "CHAS     0.086626  0.016696  0.044503  0.088673  0.041842  0.037309  0.138453  "
      ]
     },
     "execution_count": 26,
     "metadata": {},
     "output_type": "execute_result"
    }
   ],
   "source": [
    "# 내부의 상관 계수 값을 절대값으로 변경\n",
    "X_train_abs = X_train_copy.corr().abs()\n",
    "# 절대값으로 변경된 상관 계수를 내림차순으로 정렬해보자 (기준은 MEDV 사용)\n",
    "X_train_abs.sort_values(by = 'MEDV', ascending = False)"
   ]
  },
  {
   "cell_type": "markdown",
   "id": "aaa018af",
   "metadata": {},
   "source": [
    "- 상관관계의 범위는 -1 ~ 1\n",
    "- 현재 절대값으로 변경된 상관계수를 확인 -> 같은 컬럼을 제외한 상관계수가 높은 컬럼 2개를 찾아보자.\n",
    "- LSTAT와 RM이라는 컬럼이 상관계수가 높았다. -> 이 두가지의 컬럼을 가지고 특성 곱이라는 확장을 진행해보자."
   ]
  },
  {
   "cell_type": "code",
   "execution_count": 27,
   "id": "9a841914",
   "metadata": {},
   "outputs": [
    {
     "data": {
      "image/png": "[encoded data removed]",
      "text/plain": [
       "<Figure size 640x480 with 1 Axes>"
      ]
     },
     "metadata": {},
     "output_type": "display_data"
    }
   ],
   "source": [
    "# 상관관계가 높은 데이터를 가지고 특성 확장해보기\n",
    "# 확장 전) 먼저 LSTAT 특성만 가지고 학습 시킨 후 예측을 어떻게 하는지 시각화\n",
    "\n",
    "# 모델 학습 -> LSTAT만 가지고 학습\n",
    "model = LinearRegression()\n",
    "model.fit(X_train[['LSTAT']], y_train)\n",
    "pre = model.predict(X_train[['LSTAT']])\n",
    "\n",
    "# 차트 그려보기 -> 스캐터 차트 두개 그려보기 (실제 데이터, 예측 데이터)\n",
    "plt.scatter(X_train['LSTAT'], y_train) # -> 실제 데이터 스캐터 차트\n",
    "plt.scatter(X_train['LSTAT'], pre, color = 'red') # -> 예측 데이터 스캐터 차트\n",
    "plt.show()"
   ]
  },
  {
   "cell_type": "markdown",
   "id": "075d6167",
   "metadata": {},
   "source": [
    "- LSTAT으로만 예측한 데이터는 직선의 형태를 띄고있다.\n",
    "- 확장 후의 데이터를 확인해보자."
   ]
  },
  {
   "cell_type": "code",
   "execution_count": 28,
   "id": "a7b283a8",
   "metadata": {},
   "outputs": [
    {
     "data": {
      "image/png": "[encoded data removed]",
      "text/plain": [
       "<Figure size 640x480 with 1 Axes>"
      ]
     },
     "metadata": {},
     "output_type": "display_data"
    }
   ],
   "source": [
    "# 특성 확장 후 : 본래 LSTAT 특성과 확장 LSTAT 특성을 가지고 학습시킨 후 예측을 어떻게 하는지 보자\n",
    "X_train['LSTAT x LSTAT'] = X_train['LSTAT'] * X_train['LSTAT'] # 특성이 추가, 확장됨\n",
    "# 모델 학습\n",
    "model2 = LinearRegression()\n",
    "model2.fit(X_train[['LSTAT', 'LSTAT x LSTAT']], y_train)\n",
    "pre = model2.predict(X_train[['LSTAT', 'LSTAT x LSTAT']])\n",
    "\n",
    "# 차트 그려보기 -> 스캐터 차트 두개 그려보기 (실제 데이터, 예측 데이터)\n",
    "plt.scatter(X_train['LSTAT'], y_train) # -> 실제 데이터 스캐터 차트\n",
    "plt.scatter(X_train['LSTAT'], pre, color = 'red') # -> 예측 데이터 스캐터 차트\n",
    "plt.show()"
   ]
  },
  {
   "cell_type": "markdown",
   "id": "523b81f5",
   "metadata": {},
   "source": [
    "- 직선의 형태가 아니네? -> 곡선이면 비선형인가?\n",
    "- 다항 회귀의 이해가 필요하다\n",
    "- 다항회귀 : 독립변수의 단항식이 아닌 (독립변수 X가 1개가 아닌) 2차, 3차 방정식과 같은 다항식으로 표현된 것이 다항 회귀라고 함.\n",
    "\n",
    "<font color = 'red'> 주의 <br>\n",
    "    1. 다항 회귀를 선형이 아닌 비선형으로 혼동할 수 있다. -> 선형회귀라는 것을 기억하자. <br>\n",
    "    2. 선형/비선형 회귀를 나누는 기준 ? -> 가중치 (회귀 계수, w)가 선형 / 비선형인지를 확인해보자. <br>\n",
    "    3. 독립변수 (문제 데이터, 특성, X)가 선형 / 비선형인지를 따르지 않는다.\n",
    "</font>"
   ]
  },
  {
   "cell_type": "code",
   "execution_count": 29,
   "id": "df5371a7",
   "metadata": {},
   "outputs": [
    {
     "name": "stdout",
     "output_type": "stream",
     "text": [
      "<class 'pandas.core.frame.DataFrame'>\n",
      "Int64Index: 354 entries, 31 to 107\n",
      "Data columns (total 14 columns):\n",
      " #   Column         Non-Null Count  Dtype  \n",
      "---  ------         --------------  -----  \n",
      " 0   CRIM           354 non-null    float64\n",
      " 1   ZN             354 non-null    float64\n",
      " 2   INDUS          354 non-null    float64\n",
      " 3   CHAS           354 non-null    float64\n",
      " 4   NOX            354 non-null    float64\n",
      " 5   RM             354 non-null    float64\n",
      " 6   AGE            354 non-null    float64\n",
      " 7   DIS            354 non-null    float64\n",
      " 8   RAD            354 non-null    float64\n",
      " 9   TAX            354 non-null    float64\n",
      " 10  PTRATIO        354 non-null    float64\n",
      " 11  B              354 non-null    float64\n",
      " 12  LSTAT          354 non-null    float64\n",
      " 13  LSTAT x LSTAT  354 non-null    float64\n",
      "dtypes: float64(14)\n",
      "memory usage: 41.5 KB\n"
     ]
    }
   ],
   "source": [
    "X_train.info()"
   ]
  },
  {
   "cell_type": "code",
   "execution_count": 30,
   "id": "29f182fa",
   "metadata": {},
   "outputs": [
    {
     "name": "stdout",
     "output_type": "stream",
     "text": [
      "<class 'pandas.core.frame.DataFrame'>\n",
      "Int64Index: 152 entries, 355 to 243\n",
      "Data columns (total 13 columns):\n",
      " #   Column   Non-Null Count  Dtype  \n",
      "---  ------   --------------  -----  \n",
      " 0   CRIM     152 non-null    float64\n",
      " 1   ZN       152 non-null    float64\n",
      " 2   INDUS    152 non-null    float64\n",
      " 3   CHAS     152 non-null    float64\n",
      " 4   NOX      152 non-null    float64\n",
      " 5   RM       152 non-null    float64\n",
      " 6   AGE      152 non-null    float64\n",
      " 7   DIS      152 non-null    float64\n",
      " 8   RAD      152 non-null    float64\n",
      " 9   TAX      152 non-null    float64\n",
      " 10  PTRATIO  152 non-null    float64\n",
      " 11  B        152 non-null    float64\n",
      " 12  LSTAT    152 non-null    float64\n",
      "dtypes: float64(13)\n",
      "memory usage: 16.6 KB\n"
     ]
    }
   ],
   "source": [
    "X_test.info()"
   ]
  },
  {
   "cell_type": "code",
   "execution_count": 31,
   "id": "19d26e45",
   "metadata": {},
   "outputs": [],
   "source": [
    "# X_test에도 확장 LSTAT를 추가 시켜줘보자\n",
    "X_test['LSTAT x LSTAT'] = X_test['LSTAT'] * X_test['LSTAT']"
   ]
  },
  {
   "cell_type": "code",
   "execution_count": 32,
   "id": "d3928cbf",
   "metadata": {},
   "outputs": [],
   "source": [
    "# 모델 객체 생성\n",
    "model = LinearRegression()"
   ]
  },
  {
   "cell_type": "code",
   "execution_count": 33,
   "id": "afc58774",
   "metadata": {},
   "outputs": [
    {
     "data": {
      "text/html": [
       "<style>#sk-container-id-2 {color: black;background-color: white;}#sk-container-id-2 pre{padding: 0;}#sk-container-id-2 div.sk-toggleable {background-color: white;}#sk-container-id-2 label.sk-toggleable__label {cursor: pointer;display: block;width: 100%;margin-bottom: 0;padding: 0.3em;box-sizing: border-box;text-align: center;}#sk-container-id-2 label.sk-toggleable__label-arrow:before {content: \"▸\";float: left;margin-right: 0.25em;color: #696969;}#sk-container-id-2 label.sk-toggleable__label-arrow:hover:before {color: black;}#sk-container-id-2 div.sk-estimator:hover label.sk-toggleable__label-arrow:before {color: black;}#sk-container-id-2 div.sk-toggleable__content {max-height: 0;max-width: 0;overflow: hidden;text-align: left;background-color: #f0f8ff;}#sk-container-id-2 div.sk-toggleable__content pre {margin: 0.2em;color: black;border-radius: 0.25em;background-color: #f0f8ff;}#sk-container-id-2 input.sk-toggleable__control:checked~div.sk-toggleable__content {max-height: 200px;max-width: 100%;overflow: auto;}#sk-container-id-2 input.sk-toggleable__control:checked~label.sk-toggleable__label-arrow:before {content: \"▾\";}#sk-container-id-2 div.sk-estimator input.sk-toggleable__control:checked~label.sk-toggleable__label {background-color: #d4ebff;}#sk-container-id-2 div.sk-label input.sk-toggleable__control:checked~label.sk-toggleable__label {background-color: #d4ebff;}#sk-container-id-2 input.sk-hidden--visually {border: 0;clip: rect(1px 1px 1px 1px);clip: rect(1px, 1px, 1px, 1px);height: 1px;margin: -1px;overflow: hidden;padding: 0;position: absolute;width: 1px;}#sk-container-id-2 div.sk-estimator {font-family: monospace;background-color: #f0f8ff;border: 1px dotted black;border-radius: 0.25em;box-sizing: border-box;margin-bottom: 0.5em;}#sk-container-id-2 div.sk-estimator:hover {background-color: #d4ebff;}#sk-container-id-2 div.sk-parallel-item::after {content: \"\";width: 100%;border-bottom: 1px solid gray;flex-grow: 1;}#sk-container-id-2 div.sk-label:hover label.sk-toggleable__label {background-color: #d4ebff;}#sk-container-id-2 div.sk-serial::before {content: \"\";position: absolute;border-left: 1px solid gray;box-sizing: border-box;top: 0;bottom: 0;left: 50%;z-index: 0;}#sk-container-id-2 div.sk-serial {display: flex;flex-direction: column;align-items: center;background-color: white;padding-right: 0.2em;padding-left: 0.2em;position: relative;}#sk-container-id-2 div.sk-item {position: relative;z-index: 1;}#sk-container-id-2 div.sk-parallel {display: flex;align-items: stretch;justify-content: center;background-color: white;position: relative;}#sk-container-id-2 div.sk-item::before, #sk-container-id-2 div.sk-parallel-item::before {content: \"\";position: absolute;border-left: 1px solid gray;box-sizing: border-box;top: 0;bottom: 0;left: 50%;z-index: -1;}#sk-container-id-2 div.sk-parallel-item {display: flex;flex-direction: column;z-index: 1;position: relative;background-color: white;}#sk-container-id-2 div.sk-parallel-item:first-child::after {align-self: flex-end;width: 50%;}#sk-container-id-2 div.sk-parallel-item:last-child::after {align-self: flex-start;width: 50%;}#sk-container-id-2 div.sk-parallel-item:only-child::after {width: 0;}#sk-container-id-2 div.sk-dashed-wrapped {border: 1px dashed gray;margin: 0 0.4em 0.5em 0.4em;box-sizing: border-box;padding-bottom: 0.4em;background-color: white;}#sk-container-id-2 div.sk-label label {font-family: monospace;font-weight: bold;display: inline-block;line-height: 1.2em;}#sk-container-id-2 div.sk-label-container {text-align: center;}#sk-container-id-2 div.sk-container {/* jupyter's `normalize.less` sets `[hidden] { display: none; }` but bootstrap.min.css set `[hidden] { display: none !important; }` so we also need the `!important` here to be able to override the default hidden behavior on the sphinx rendered scikit-learn.org. See: https://github.com/scikit-learn/scikit-learn/issues/21755 */display: inline-block !important;position: relative;}#sk-container-id-2 div.sk-text-repr-fallback {display: none;}</style><div id=\"sk-container-id-2\" class=\"sk-top-container\"><div class=\"sk-text-repr-fallback\"><pre>LinearRegression()</pre><b>In a Jupyter environment, please rerun this cell to show the HTML representation or trust the notebook. <br />On GitHub, the HTML representation is unable to render, please try loading this page with nbviewer.org.</b></div><div class=\"sk-container\" hidden><div class=\"sk-item\"><div class=\"sk-estimator sk-toggleable\"><input class=\"sk-toggleable__control sk-hidden--visually\" id=\"sk-estimator-id-2\" type=\"checkbox\" checked><label for=\"sk-estimator-id-2\" class=\"sk-toggleable__label sk-toggleable__label-arrow\">LinearRegression</label><div class=\"sk-toggleable__content\"><pre>LinearRegression()</pre></div></div></div></div></div>"
      ],
      "text/plain": [
       "LinearRegression()"
      ]
     },
     "execution_count": 33,
     "metadata": {},
     "output_type": "execute_result"
    }
   ],
   "source": [
    "# 모델 학습\n",
    "model.fit(X_train, y_train) # 이때 X_train에는 확장된 LSTAT 컬럼 추가"
   ]
  },
  {
   "cell_type": "code",
   "execution_count": 34,
   "id": "38091d61",
   "metadata": {},
   "outputs": [
    {
     "data": {
      "text/plain": [
       "0.7005973902230885"
      ]
     },
     "execution_count": 34,
     "metadata": {},
     "output_type": "execute_result"
    }
   ],
   "source": [
    "# 모델 평가 - 전 score : 65%\n",
    "model.score(X_test, y_test)"
   ]
  },
  {
   "cell_type": "code",
   "execution_count": 35,
   "id": "d3dd8828",
   "metadata": {},
   "outputs": [
    {
     "data": {
      "image/png": "[encoded data removed]",
      "text/plain": [
       "<Figure size 640x480 with 1 Axes>"
      ]
     },
     "metadata": {},
     "output_type": "display_data"
    }
   ],
   "source": [
    "# 특성 확장 하나 더 해보자\n",
    "# 상관관계가 높았던 RM이라는 컬럼도 특성 확장을 추가\n",
    "\n",
    "# 상관관계가 높은 데이터를 가지고 특성 확장해보기\n",
    "# 확장 전) 먼저 RM 특성만 가지고 학습 시킨 후 예측을 어떻게 하는지 시각화\n",
    "\n",
    "# 모델 학습 -> RM만 가지고 학습\n",
    "model = LinearRegression()\n",
    "model.fit(X_train[['RM']], y_train)\n",
    "pre = model.predict(X_train[['RM']])\n",
    "\n",
    "# 차트 그려보기 -> 스캐터 차트 두개 그려보기 (실제 데이터, 예측 데이터)\n",
    "plt.scatter(X_train['RM'], y_train) # -> 실제 데이터 스캐터 차트\n",
    "plt.scatter(X_train['RM'], pre, color = 'red') # -> 예측 데이터 스캐터 차트\n",
    "plt.show()"
   ]
  },
  {
   "cell_type": "code",
   "execution_count": 36,
   "id": "3b5b93bc",
   "metadata": {},
   "outputs": [
    {
     "data": {
      "image/png": "[encoded data removed]",
      "text/plain": [
       "<Figure size 640x480 with 1 Axes>"
      ]
     },
     "metadata": {},
     "output_type": "display_data"
    }
   ],
   "source": [
    "# 특성 확장 후 : 본래 RM 특성과 확장 RM 특성을 가지고 학습시킨 후 예측을 어떻게 하는지 보자\n",
    "X_train['RM x RM'] = X_train['RM'] * X_train['RM'] # 특성이 추가, 확장됨\n",
    "# 모델 학습\n",
    "model2 = LinearRegression()\n",
    "model2.fit(X_train[['RM', 'RM x RM']], y_train)\n",
    "pre = model2.predict(X_train[['RM', 'RM x RM']])\n",
    "\n",
    "# 차트 그려보기 -> 스캐터 차트 두개 그려보기 (실제 데이터, 예측 데이터)\n",
    "plt.scatter(X_train['RM'], y_train) # -> 실제 데이터 스캐터 차트\n",
    "plt.scatter(X_train['RM'], pre, color = 'red') # -> 예측 데이터 스캐터 차트\n",
    "plt.show()"
   ]
  },
  {
   "cell_type": "code",
   "execution_count": 37,
   "id": "8a09367b",
   "metadata": {},
   "outputs": [
    {
     "name": "stdout",
     "output_type": "stream",
     "text": [
      "<class 'pandas.core.frame.DataFrame'>\n",
      "Int64Index: 354 entries, 31 to 107\n",
      "Data columns (total 15 columns):\n",
      " #   Column         Non-Null Count  Dtype  \n",
      "---  ------         --------------  -----  \n",
      " 0   CRIM           354 non-null    float64\n",
      " 1   ZN             354 non-null    float64\n",
      " 2   INDUS          354 non-null    float64\n",
      " 3   CHAS           354 non-null    float64\n",
      " 4   NOX            354 non-null    float64\n",
      " 5   RM             354 non-null    float64\n",
      " 6   AGE            354 non-null    float64\n",
      " 7   DIS            354 non-null    float64\n",
      " 8   RAD            354 non-null    float64\n",
      " 9   TAX            354 non-null    float64\n",
      " 10  PTRATIO        354 non-null    float64\n",
      " 11  B              354 non-null    float64\n",
      " 12  LSTAT          354 non-null    float64\n",
      " 13  LSTAT x LSTAT  354 non-null    float64\n",
      " 14  RM x RM        354 non-null    float64\n",
      "dtypes: float64(15)\n",
      "memory usage: 44.2 KB\n"
     ]
    }
   ],
   "source": [
    "# RM 특성 확장해서 실제 평가까지 진행\n",
    "X_train.info()"
   ]
  },
  {
   "cell_type": "code",
   "execution_count": 38,
   "id": "13e19c44",
   "metadata": {
    "scrolled": false
   },
   "outputs": [
    {
     "name": "stdout",
     "output_type": "stream",
     "text": [
      "<class 'pandas.core.frame.DataFrame'>\n",
      "Int64Index: 152 entries, 355 to 243\n",
      "Data columns (total 14 columns):\n",
      " #   Column         Non-Null Count  Dtype  \n",
      "---  ------         --------------  -----  \n",
      " 0   CRIM           152 non-null    float64\n",
      " 1   ZN             152 non-null    float64\n",
      " 2   INDUS          152 non-null    float64\n",
      " 3   CHAS           152 non-null    float64\n",
      " 4   NOX            152 non-null    float64\n",
      " 5   RM             152 non-null    float64\n",
      " 6   AGE            152 non-null    float64\n",
      " 7   DIS            152 non-null    float64\n",
      " 8   RAD            152 non-null    float64\n",
      " 9   TAX            152 non-null    float64\n",
      " 10  PTRATIO        152 non-null    float64\n",
      " 11  B              152 non-null    float64\n",
      " 12  LSTAT          152 non-null    float64\n",
      " 13  LSTAT x LSTAT  152 non-null    float64\n",
      "dtypes: float64(14)\n",
      "memory usage: 17.8 KB\n"
     ]
    }
   ],
   "source": [
    "X_test.info()"
   ]
  },
  {
   "cell_type": "code",
   "execution_count": 39,
   "id": "6ff09b6d",
   "metadata": {},
   "outputs": [],
   "source": [
    "# X_test에도 확장 RM를 추가 시켜줘보자\n",
    "X_test['RM x RM'] = X_test['RM'] * X_test['RM']"
   ]
  },
  {
   "cell_type": "code",
   "execution_count": 40,
   "id": "4fefe62e",
   "metadata": {},
   "outputs": [],
   "source": [
    "# 모델 객체 생성\n",
    "model = LinearRegression()"
   ]
  },
  {
   "cell_type": "code",
   "execution_count": 41,
   "id": "85019510",
   "metadata": {},
   "outputs": [
    {
     "data": {
      "text/html": [
       "<style>#sk-container-id-3 {color: black;background-color: white;}#sk-container-id-3 pre{padding: 0;}#sk-container-id-3 div.sk-toggleable {background-color: white;}#sk-container-id-3 label.sk-toggleable__label {cursor: pointer;display: block;width: 100%;margin-bottom: 0;padding: 0.3em;box-sizing: border-box;text-align: center;}#sk-container-id-3 label.sk-toggleable__label-arrow:before {content: \"▸\";float: left;margin-right: 0.25em;color: #696969;}#sk-container-id-3 label.sk-toggleable__label-arrow:hover:before {color: black;}#sk-container-id-3 div.sk-estimator:hover label.sk-toggleable__label-arrow:before {color: black;}#sk-container-id-3 div.sk-toggleable__content {max-height: 0;max-width: 0;overflow: hidden;text-align: left;background-color: #f0f8ff;}#sk-container-id-3 div.sk-toggleable__content pre {margin: 0.2em;color: black;border-radius: 0.25em;background-color: #f0f8ff;}#sk-container-id-3 input.sk-toggleable__control:checked~div.sk-toggleable__content {max-height: 200px;max-width: 100%;overflow: auto;}#sk-container-id-3 input.sk-toggleable__control:checked~label.sk-toggleable__label-arrow:before {content: \"▾\";}#sk-container-id-3 div.sk-estimator input.sk-toggleable__control:checked~label.sk-toggleable__label {background-color: #d4ebff;}#sk-container-id-3 div.sk-label input.sk-toggleable__control:checked~label.sk-toggleable__label {background-color: #d4ebff;}#sk-container-id-3 input.sk-hidden--visually {border: 0;clip: rect(1px 1px 1px 1px);clip: rect(1px, 1px, 1px, 1px);height: 1px;margin: -1px;overflow: hidden;padding: 0;position: absolute;width: 1px;}#sk-container-id-3 div.sk-estimator {font-family: monospace;background-color: #f0f8ff;border: 1px dotted black;border-radius: 0.25em;box-sizing: border-box;margin-bottom: 0.5em;}#sk-container-id-3 div.sk-estimator:hover {background-color: #d4ebff;}#sk-container-id-3 div.sk-parallel-item::after {content: \"\";width: 100%;border-bottom: 1px solid gray;flex-grow: 1;}#sk-container-id-3 div.sk-label:hover label.sk-toggleable__label {background-color: #d4ebff;}#sk-container-id-3 div.sk-serial::before {content: \"\";position: absolute;border-left: 1px solid gray;box-sizing: border-box;top: 0;bottom: 0;left: 50%;z-index: 0;}#sk-container-id-3 div.sk-serial {display: flex;flex-direction: column;align-items: center;background-color: white;padding-right: 0.2em;padding-left: 0.2em;position: relative;}#sk-container-id-3 div.sk-item {position: relative;z-index: 1;}#sk-container-id-3 div.sk-parallel {display: flex;align-items: stretch;justify-content: center;background-color: white;position: relative;}#sk-container-id-3 div.sk-item::before, #sk-container-id-3 div.sk-parallel-item::before {content: \"\";position: absolute;border-left: 1px solid gray;box-sizing: border-box;top: 0;bottom: 0;left: 50%;z-index: -1;}#sk-container-id-3 div.sk-parallel-item {display: flex;flex-direction: column;z-index: 1;position: relative;background-color: white;}#sk-container-id-3 div.sk-parallel-item:first-child::after {align-self: flex-end;width: 50%;}#sk-container-id-3 div.sk-parallel-item:last-child::after {align-self: flex-start;width: 50%;}#sk-container-id-3 div.sk-parallel-item:only-child::after {width: 0;}#sk-container-id-3 div.sk-dashed-wrapped {border: 1px dashed gray;margin: 0 0.4em 0.5em 0.4em;box-sizing: border-box;padding-bottom: 0.4em;background-color: white;}#sk-container-id-3 div.sk-label label {font-family: monospace;font-weight: bold;display: inline-block;line-height: 1.2em;}#sk-container-id-3 div.sk-label-container {text-align: center;}#sk-container-id-3 div.sk-container {/* jupyter's `normalize.less` sets `[hidden] { display: none; }` but bootstrap.min.css set `[hidden] { display: none !important; }` so we also need the `!important` here to be able to override the default hidden behavior on the sphinx rendered scikit-learn.org. See: https://github.com/scikit-learn/scikit-learn/issues/21755 */display: inline-block !important;position: relative;}#sk-container-id-3 div.sk-text-repr-fallback {display: none;}</style><div id=\"sk-container-id-3\" class=\"sk-top-container\"><div class=\"sk-text-repr-fallback\"><pre>LinearRegression()</pre><b>In a Jupyter environment, please rerun this cell to show the HTML representation or trust the notebook. <br />On GitHub, the HTML representation is unable to render, please try loading this page with nbviewer.org.</b></div><div class=\"sk-container\" hidden><div class=\"sk-item\"><div class=\"sk-estimator sk-toggleable\"><input class=\"sk-toggleable__control sk-hidden--visually\" id=\"sk-estimator-id-3\" type=\"checkbox\" checked><label for=\"sk-estimator-id-3\" class=\"sk-toggleable__label sk-toggleable__label-arrow\">LinearRegression</label><div class=\"sk-toggleable__content\"><pre>LinearRegression()</pre></div></div></div></div></div>"
      ],
      "text/plain": [
       "LinearRegression()"
      ]
     },
     "execution_count": 41,
     "metadata": {},
     "output_type": "execute_result"
    }
   ],
   "source": [
    "# 모델 학습\n",
    "model.fit(X_train, y_train) # 추가된 컬럼은 확장 LSTAT, 확장 RM"
   ]
  },
  {
   "cell_type": "code",
   "execution_count": 42,
   "id": "d5100c14",
   "metadata": {},
   "outputs": [
    {
     "data": {
      "text/plain": [
       "0.6853313403022987"
      ]
     },
     "execution_count": 42,
     "metadata": {},
     "output_type": "execute_result"
    }
   ],
   "source": [
    "# 모델 평가\n",
    "model.score(X_test, y_test) # 추가된 컬럼은 확장 LSTAT, 확장 RM"
   ]
  },
  {
   "cell_type": "markdown",
   "id": "f1fec86d",
   "metadata": {},
   "source": [
    "- 정리\n",
    "    - 특성확장을 진행해서 선형회귀 모델의 성능이 개선된 것을 확인했다.\n",
    "    - 기존에는 LSTAT와 RM이라는 컬럼만 특성확장을 진행\n",
    "    - 전체 컬럼을 가지고 특성 확장을 진행하면 성능이 좋아지지 않을까? (가설)"
   ]
  },
  {
   "cell_type": "code",
   "execution_count": 43,
   "id": "03756e2c",
   "metadata": {},
   "outputs": [],
   "source": [
    "# 전체 컬럼을 가지고 특성 확장 진행해보기\n",
    "# 1. 기존에 특성이 확장된 컬럼을 삭제\n",
    "X_train.drop(['LSTAT x LSTAT', 'RM x RM'], axis = 1, inplace = True)\n",
    "X_test.drop(['LSTAT x LSTAT', 'RM x RM'], axis = 1, inplace = True)"
   ]
  },
  {
   "cell_type": "code",
   "execution_count": 44,
   "id": "25f2824f",
   "metadata": {},
   "outputs": [
    {
     "name": "stdout",
     "output_type": "stream",
     "text": [
      "<class 'pandas.core.frame.DataFrame'>\n",
      "Int64Index: 354 entries, 31 to 107\n",
      "Data columns (total 13 columns):\n",
      " #   Column   Non-Null Count  Dtype  \n",
      "---  ------   --------------  -----  \n",
      " 0   CRIM     354 non-null    float64\n",
      " 1   ZN       354 non-null    float64\n",
      " 2   INDUS    354 non-null    float64\n",
      " 3   CHAS     354 non-null    float64\n",
      " 4   NOX      354 non-null    float64\n",
      " 5   RM       354 non-null    float64\n",
      " 6   AGE      354 non-null    float64\n",
      " 7   DIS      354 non-null    float64\n",
      " 8   RAD      354 non-null    float64\n",
      " 9   TAX      354 non-null    float64\n",
      " 10  PTRATIO  354 non-null    float64\n",
      " 11  B        354 non-null    float64\n",
      " 12  LSTAT    354 non-null    float64\n",
      "dtypes: float64(13)\n",
      "memory usage: 38.7 KB\n"
     ]
    }
   ],
   "source": [
    "X_train.info()"
   ]
  },
  {
   "cell_type": "code",
   "execution_count": 45,
   "id": "b445d82f",
   "metadata": {},
   "outputs": [
    {
     "name": "stdout",
     "output_type": "stream",
     "text": [
      "<class 'pandas.core.frame.DataFrame'>\n",
      "Int64Index: 152 entries, 355 to 243\n",
      "Data columns (total 13 columns):\n",
      " #   Column   Non-Null Count  Dtype  \n",
      "---  ------   --------------  -----  \n",
      " 0   CRIM     152 non-null    float64\n",
      " 1   ZN       152 non-null    float64\n",
      " 2   INDUS    152 non-null    float64\n",
      " 3   CHAS     152 non-null    float64\n",
      " 4   NOX      152 non-null    float64\n",
      " 5   RM       152 non-null    float64\n",
      " 6   AGE      152 non-null    float64\n",
      " 7   DIS      152 non-null    float64\n",
      " 8   RAD      152 non-null    float64\n",
      " 9   TAX      152 non-null    float64\n",
      " 10  PTRATIO  152 non-null    float64\n",
      " 11  B        152 non-null    float64\n",
      " 12  LSTAT    152 non-null    float64\n",
      "dtypes: float64(13)\n",
      "memory usage: 16.6 KB\n"
     ]
    }
   ],
   "source": [
    "X_test.info()"
   ]
  },
  {
   "cell_type": "code",
   "execution_count": 46,
   "id": "45324a36",
   "metadata": {},
   "outputs": [],
   "source": [
    "# X_train의 컬럼은 13개 -> 모든 컬럼을 확장\n",
    "# 원본 확보\n",
    "X_train_copy2 = X_train.copy()"
   ]
  },
  {
   "cell_type": "code",
   "execution_count": 47,
   "id": "466abc83",
   "metadata": {},
   "outputs": [],
   "source": [
    "import warnings\n",
    "warnings.filterwarnings('ignore')"
   ]
  },
  {
   "cell_type": "code",
   "execution_count": 48,
   "id": "721e452b",
   "metadata": {},
   "outputs": [],
   "source": [
    "# 반복문 작성\n",
    "for col1 in X_train.columns : # 13번 반복 -> 컬럼의 갯수만큼\n",
    "    for col2 in X_train.columns : # 13번 반복 -> 컬럼의 갯수만큼\n",
    "        X_train_copy2[col1 + 'x' + col2] = X_train[col1] * X_train[col2]"
   ]
  },
  {
   "cell_type": "code",
   "execution_count": 49,
   "id": "217e9eee",
   "metadata": {},
   "outputs": [
    {
     "name": "stdout",
     "output_type": "stream",
     "text": [
      "<class 'pandas.core.frame.DataFrame'>\n",
      "Int64Index: 354 entries, 31 to 107\n",
      "Columns: 182 entries, CRIM to LSTATxLSTAT\n",
      "dtypes: float64(182)\n",
      "memory usage: 506.1 KB\n"
     ]
    }
   ],
   "source": [
    "X_train_copy2.info()"
   ]
  },
  {
   "cell_type": "code",
   "execution_count": 50,
   "id": "9beb9b0e",
   "metadata": {},
   "outputs": [],
   "source": [
    "# test에서 진행된 전처리 / 데이터 변경 -> test에서도 진행한다.\n",
    "# 원본 확보\n",
    "X_test_copy2 = X_test.copy()\n",
    "# 반복문 작성\n",
    "for col1 in X_test.columns : # 13번 반복 -> 컬럼의 갯수만큼\n",
    "    for col2 in X_test.columns : # 13번 반복 -> 컬럼의 갯수만큼\n",
    "        X_test_copy2[col1 + 'x' + col2] = X_test[col1] * X_test[col2]"
   ]
  },
  {
   "cell_type": "code",
   "execution_count": 51,
   "id": "5ede62c0",
   "metadata": {},
   "outputs": [
    {
     "name": "stdout",
     "output_type": "stream",
     "text": [
      "<class 'pandas.core.frame.DataFrame'>\n",
      "Int64Index: 152 entries, 355 to 243\n",
      "Columns: 182 entries, CRIM to LSTATxLSTAT\n",
      "dtypes: float64(182)\n",
      "memory usage: 217.3 KB\n"
     ]
    }
   ],
   "source": [
    "X_test_copy2.info()"
   ]
  },
  {
   "cell_type": "code",
   "execution_count": 52,
   "id": "d3139ce1",
   "metadata": {},
   "outputs": [],
   "source": [
    "# 모델 객체 생성\n",
    "model = LinearRegression()"
   ]
  },
  {
   "cell_type": "code",
   "execution_count": 53,
   "id": "78908df4",
   "metadata": {},
   "outputs": [
    {
     "data": {
      "text/html": [
       "<style>#sk-container-id-4 {color: black;background-color: white;}#sk-container-id-4 pre{padding: 0;}#sk-container-id-4 div.sk-toggleable {background-color: white;}#sk-container-id-4 label.sk-toggleable__label {cursor: pointer;display: block;width: 100%;margin-bottom: 0;padding: 0.3em;box-sizing: border-box;text-align: center;}#sk-container-id-4 label.sk-toggleable__label-arrow:before {content: \"▸\";float: left;margin-right: 0.25em;color: #696969;}#sk-container-id-4 label.sk-toggleable__label-arrow:hover:before {color: black;}#sk-container-id-4 div.sk-estimator:hover label.sk-toggleable__label-arrow:before {color: black;}#sk-container-id-4 div.sk-toggleable__content {max-height: 0;max-width: 0;overflow: hidden;text-align: left;background-color: #f0f8ff;}#sk-container-id-4 div.sk-toggleable__content pre {margin: 0.2em;color: black;border-radius: 0.25em;background-color: #f0f8ff;}#sk-container-id-4 input.sk-toggleable__control:checked~div.sk-toggleable__content {max-height: 200px;max-width: 100%;overflow: auto;}#sk-container-id-4 input.sk-toggleable__control:checked~label.sk-toggleable__label-arrow:before {content: \"▾\";}#sk-container-id-4 div.sk-estimator input.sk-toggleable__control:checked~label.sk-toggleable__label {background-color: #d4ebff;}#sk-container-id-4 div.sk-label input.sk-toggleable__control:checked~label.sk-toggleable__label {background-color: #d4ebff;}#sk-container-id-4 input.sk-hidden--visually {border: 0;clip: rect(1px 1px 1px 1px);clip: rect(1px, 1px, 1px, 1px);height: 1px;margin: -1px;overflow: hidden;padding: 0;position: absolute;width: 1px;}#sk-container-id-4 div.sk-estimator {font-family: monospace;background-color: #f0f8ff;border: 1px dotted black;border-radius: 0.25em;box-sizing: border-box;margin-bottom: 0.5em;}#sk-container-id-4 div.sk-estimator:hover {background-color: #d4ebff;}#sk-container-id-4 div.sk-parallel-item::after {content: \"\";width: 100%;border-bottom: 1px solid gray;flex-grow: 1;}#sk-container-id-4 div.sk-label:hover label.sk-toggleable__label {background-color: #d4ebff;}#sk-container-id-4 div.sk-serial::before {content: \"\";position: absolute;border-left: 1px solid gray;box-sizing: border-box;top: 0;bottom: 0;left: 50%;z-index: 0;}#sk-container-id-4 div.sk-serial {display: flex;flex-direction: column;align-items: center;background-color: white;padding-right: 0.2em;padding-left: 0.2em;position: relative;}#sk-container-id-4 div.sk-item {position: relative;z-index: 1;}#sk-container-id-4 div.sk-parallel {display: flex;align-items: stretch;justify-content: center;background-color: white;position: relative;}#sk-container-id-4 div.sk-item::before, #sk-container-id-4 div.sk-parallel-item::before {content: \"\";position: absolute;border-left: 1px solid gray;box-sizing: border-box;top: 0;bottom: 0;left: 50%;z-index: -1;}#sk-container-id-4 div.sk-parallel-item {display: flex;flex-direction: column;z-index: 1;position: relative;background-color: white;}#sk-container-id-4 div.sk-parallel-item:first-child::after {align-self: flex-end;width: 50%;}#sk-container-id-4 div.sk-parallel-item:last-child::after {align-self: flex-start;width: 50%;}#sk-container-id-4 div.sk-parallel-item:only-child::after {width: 0;}#sk-container-id-4 div.sk-dashed-wrapped {border: 1px dashed gray;margin: 0 0.4em 0.5em 0.4em;box-sizing: border-box;padding-bottom: 0.4em;background-color: white;}#sk-container-id-4 div.sk-label label {font-family: monospace;font-weight: bold;display: inline-block;line-height: 1.2em;}#sk-container-id-4 div.sk-label-container {text-align: center;}#sk-container-id-4 div.sk-container {/* jupyter's `normalize.less` sets `[hidden] { display: none; }` but bootstrap.min.css set `[hidden] { display: none !important; }` so we also need the `!important` here to be able to override the default hidden behavior on the sphinx rendered scikit-learn.org. See: https://github.com/scikit-learn/scikit-learn/issues/21755 */display: inline-block !important;position: relative;}#sk-container-id-4 div.sk-text-repr-fallback {display: none;}</style><div id=\"sk-container-id-4\" class=\"sk-top-container\"><div class=\"sk-text-repr-fallback\"><pre>LinearRegression()</pre><b>In a Jupyter environment, please rerun this cell to show the HTML representation or trust the notebook. <br />On GitHub, the HTML representation is unable to render, please try loading this page with nbviewer.org.</b></div><div class=\"sk-container\" hidden><div class=\"sk-item\"><div class=\"sk-estimator sk-toggleable\"><input class=\"sk-toggleable__control sk-hidden--visually\" id=\"sk-estimator-id-4\" type=\"checkbox\" checked><label for=\"sk-estimator-id-4\" class=\"sk-toggleable__label sk-toggleable__label-arrow\">LinearRegression</label><div class=\"sk-toggleable__content\"><pre>LinearRegression()</pre></div></div></div></div></div>"
      ],
      "text/plain": [
       "LinearRegression()"
      ]
     },
     "execution_count": 53,
     "metadata": {},
     "output_type": "execute_result"
    }
   ],
   "source": [
    "# 모델 학습\n",
    "model.fit(X_train_copy2, y_train)"
   ]
  },
  {
   "cell_type": "code",
   "execution_count": 54,
   "id": "5d08bd9b",
   "metadata": {},
   "outputs": [
    {
     "data": {
      "text/plain": [
       "0.8217205550797351"
      ]
     },
     "execution_count": 54,
     "metadata": {},
     "output_type": "execute_result"
    }
   ],
   "source": [
    "# 모델 평가 -> 성능이 높아졌다.\n",
    "model.score(X_test_copy2, y_test)"
   ]
  },
  {
   "cell_type": "code",
   "execution_count": 55,
   "id": "32b1ec27",
   "metadata": {},
   "outputs": [
    {
     "data": {
      "text/plain": [
       "0.9452199258630157"
      ]
     },
     "execution_count": 55,
     "metadata": {},
     "output_type": "execute_result"
    }
   ],
   "source": [
    "# 과대적합인지 확인을 해보자.\n",
    "model.score(X_train_copy2, y_train)"
   ]
  },
  {
   "cell_type": "markdown",
   "id": "a53624b8",
   "metadata": {},
   "source": [
    "- 특성 확장을 진행을 해봤더니 성능 자체는 올라간 것처럼 보인다.\n",
    "- 하지만 모델 자체가 복잡해져서 과대적합의 모습을 보이고 있다.\n",
    "- 일반화에는 크게 도움이 된 것 같지 않다."
   ]
  },
  {
   "cell_type": "markdown",
   "id": "f0c57c20",
   "metadata": {},
   "source": [
    "### 규 제\n",
    "- 선형회귀에서 모델의 일반화를 위해 과적합 상태를 어떻게 제어할 것인가?"
   ]
  },
  {
   "cell_type": "markdown",
   "id": "f0be6f79",
   "metadata": {},
   "source": [
    "- L1 Lasso 규제 : 가중치에 똑같은 힘으로 규제를 적용하는 방법. 자동으로 특성 선택이 일어남.\n",
    "- L2 Ridge 규제 : 모든 가중치에 같은 비율로 규제를 적용하는 방법. 0이되는 가중치가 없다. -> 비율이라는 방법으로 규제를 적용하기때문"
   ]
  },
  {
   "cell_type": "markdown",
   "id": "c90ea090",
   "metadata": {},
   "source": [
    "### Ridge 모델"
   ]
  },
  {
   "cell_type": "code",
   "execution_count": 56,
   "id": "33f010e5",
   "metadata": {},
   "outputs": [],
   "source": [
    "# 모델 import\n",
    "from sklearn.linear_model import Ridge"
   ]
  },
  {
   "cell_type": "code",
   "execution_count": 57,
   "id": "27041985",
   "metadata": {},
   "outputs": [],
   "source": [
    "# 모델 객체 생성\n",
    "# alpha : 규제의 강도를 정해주는 파라미터\n",
    "# alpha가 높아지면 규제강도가 강해지고, 낮아지면 규제강도가 약화된다.\n",
    "ridge_model = Ridge(alpha = 100) # 기본값은 1.0"
   ]
  },
  {
   "cell_type": "code",
   "execution_count": 58,
   "id": "4ddb995e",
   "metadata": {},
   "outputs": [
    {
     "data": {
      "text/html": [
       "<style>#sk-container-id-5 {color: black;background-color: white;}#sk-container-id-5 pre{padding: 0;}#sk-container-id-5 div.sk-toggleable {background-color: white;}#sk-container-id-5 label.sk-toggleable__label {cursor: pointer;display: block;width: 100%;margin-bottom: 0;padding: 0.3em;box-sizing: border-box;text-align: center;}#sk-container-id-5 label.sk-toggleable__label-arrow:before {content: \"▸\";float: left;margin-right: 0.25em;color: #696969;}#sk-container-id-5 label.sk-toggleable__label-arrow:hover:before {color: black;}#sk-container-id-5 div.sk-estimator:hover label.sk-toggleable__label-arrow:before {color: black;}#sk-container-id-5 div.sk-toggleable__content {max-height: 0;max-width: 0;overflow: hidden;text-align: left;background-color: #f0f8ff;}#sk-container-id-5 div.sk-toggleable__content pre {margin: 0.2em;color: black;border-radius: 0.25em;background-color: #f0f8ff;}#sk-container-id-5 input.sk-toggleable__control:checked~div.sk-toggleable__content {max-height: 200px;max-width: 100%;overflow: auto;}#sk-container-id-5 input.sk-toggleable__control:checked~label.sk-toggleable__label-arrow:before {content: \"▾\";}#sk-container-id-5 div.sk-estimator input.sk-toggleable__control:checked~label.sk-toggleable__label {background-color: #d4ebff;}#sk-container-id-5 div.sk-label input.sk-toggleable__control:checked~label.sk-toggleable__label {background-color: #d4ebff;}#sk-container-id-5 input.sk-hidden--visually {border: 0;clip: rect(1px 1px 1px 1px);clip: rect(1px, 1px, 1px, 1px);height: 1px;margin: -1px;overflow: hidden;padding: 0;position: absolute;width: 1px;}#sk-container-id-5 div.sk-estimator {font-family: monospace;background-color: #f0f8ff;border: 1px dotted black;border-radius: 0.25em;box-sizing: border-box;margin-bottom: 0.5em;}#sk-container-id-5 div.sk-estimator:hover {background-color: #d4ebff;}#sk-container-id-5 div.sk-parallel-item::after {content: \"\";width: 100%;border-bottom: 1px solid gray;flex-grow: 1;}#sk-container-id-5 div.sk-label:hover label.sk-toggleable__label {background-color: #d4ebff;}#sk-container-id-5 div.sk-serial::before {content: \"\";position: absolute;border-left: 1px solid gray;box-sizing: border-box;top: 0;bottom: 0;left: 50%;z-index: 0;}#sk-container-id-5 div.sk-serial {display: flex;flex-direction: column;align-items: center;background-color: white;padding-right: 0.2em;padding-left: 0.2em;position: relative;}#sk-container-id-5 div.sk-item {position: relative;z-index: 1;}#sk-container-id-5 div.sk-parallel {display: flex;align-items: stretch;justify-content: center;background-color: white;position: relative;}#sk-container-id-5 div.sk-item::before, #sk-container-id-5 div.sk-parallel-item::before {content: \"\";position: absolute;border-left: 1px solid gray;box-sizing: border-box;top: 0;bottom: 0;left: 50%;z-index: -1;}#sk-container-id-5 div.sk-parallel-item {display: flex;flex-direction: column;z-index: 1;position: relative;background-color: white;}#sk-container-id-5 div.sk-parallel-item:first-child::after {align-self: flex-end;width: 50%;}#sk-container-id-5 div.sk-parallel-item:last-child::after {align-self: flex-start;width: 50%;}#sk-container-id-5 div.sk-parallel-item:only-child::after {width: 0;}#sk-container-id-5 div.sk-dashed-wrapped {border: 1px dashed gray;margin: 0 0.4em 0.5em 0.4em;box-sizing: border-box;padding-bottom: 0.4em;background-color: white;}#sk-container-id-5 div.sk-label label {font-family: monospace;font-weight: bold;display: inline-block;line-height: 1.2em;}#sk-container-id-5 div.sk-label-container {text-align: center;}#sk-container-id-5 div.sk-container {/* jupyter's `normalize.less` sets `[hidden] { display: none; }` but bootstrap.min.css set `[hidden] { display: none !important; }` so we also need the `!important` here to be able to override the default hidden behavior on the sphinx rendered scikit-learn.org. See: https://github.com/scikit-learn/scikit-learn/issues/21755 */display: inline-block !important;position: relative;}#sk-container-id-5 div.sk-text-repr-fallback {display: none;}</style><div id=\"sk-container-id-5\" class=\"sk-top-container\"><div class=\"sk-text-repr-fallback\"><pre>Ridge(alpha=100)</pre><b>In a Jupyter environment, please rerun this cell to show the HTML representation or trust the notebook. <br />On GitHub, the HTML representation is unable to render, please try loading this page with nbviewer.org.</b></div><div class=\"sk-container\" hidden><div class=\"sk-item\"><div class=\"sk-estimator sk-toggleable\"><input class=\"sk-toggleable__control sk-hidden--visually\" id=\"sk-estimator-id-5\" type=\"checkbox\" checked><label for=\"sk-estimator-id-5\" class=\"sk-toggleable__label sk-toggleable__label-arrow\">Ridge</label><div class=\"sk-toggleable__content\"><pre>Ridge(alpha=100)</pre></div></div></div></div></div>"
      ],
      "text/plain": [
       "Ridge(alpha=100)"
      ]
     },
     "execution_count": 58,
     "metadata": {},
     "output_type": "execute_result"
    }
   ],
   "source": [
    "# 모델 학습\n",
    "ridge_model.fit(X_train_copy2, y_train)"
   ]
  },
  {
   "cell_type": "code",
   "execution_count": 59,
   "id": "af13b50d",
   "metadata": {},
   "outputs": [
    {
     "data": {
      "text/plain": [
       "0.7769048146690374"
      ]
     },
     "execution_count": 59,
     "metadata": {},
     "output_type": "execute_result"
    }
   ],
   "source": [
    "# 모델 평가\n",
    "ridge_model.score(X_test_copy2, y_test)"
   ]
  },
  {
   "cell_type": "code",
   "execution_count": 60,
   "id": "04406d5a",
   "metadata": {},
   "outputs": [
    {
     "data": {
      "text/plain": [
       "0.9325182376567254"
      ]
     },
     "execution_count": 60,
     "metadata": {},
     "output_type": "execute_result"
    }
   ],
   "source": [
    "# 모델 평가\n",
    "ridge_model.score(X_train_copy2, y_train)"
   ]
  },
  {
   "cell_type": "markdown",
   "id": "cf406c22",
   "metadata": {},
   "source": [
    "### Lasso 모델"
   ]
  },
  {
   "cell_type": "code",
   "execution_count": 61,
   "id": "57454676",
   "metadata": {},
   "outputs": [],
   "source": [
    "from sklearn.linear_model import Lasso"
   ]
  },
  {
   "cell_type": "code",
   "execution_count": 62,
   "id": "f7b8a28a",
   "metadata": {},
   "outputs": [],
   "source": [
    "# 모델 객체 생성\n",
    "lasso_model = Lasso(alpha = 100)"
   ]
  },
  {
   "cell_type": "code",
   "execution_count": 63,
   "id": "25d58780",
   "metadata": {},
   "outputs": [
    {
     "data": {
      "text/html": [
       "<style>#sk-container-id-6 {color: black;background-color: white;}#sk-container-id-6 pre{padding: 0;}#sk-container-id-6 div.sk-toggleable {background-color: white;}#sk-container-id-6 label.sk-toggleable__label {cursor: pointer;display: block;width: 100%;margin-bottom: 0;padding: 0.3em;box-sizing: border-box;text-align: center;}#sk-container-id-6 label.sk-toggleable__label-arrow:before {content: \"▸\";float: left;margin-right: 0.25em;color: #696969;}#sk-container-id-6 label.sk-toggleable__label-arrow:hover:before {color: black;}#sk-container-id-6 div.sk-estimator:hover label.sk-toggleable__label-arrow:before {color: black;}#sk-container-id-6 div.sk-toggleable__content {max-height: 0;max-width: 0;overflow: hidden;text-align: left;background-color: #f0f8ff;}#sk-container-id-6 div.sk-toggleable__content pre {margin: 0.2em;color: black;border-radius: 0.25em;background-color: #f0f8ff;}#sk-container-id-6 input.sk-toggleable__control:checked~div.sk-toggleable__content {max-height: 200px;max-width: 100%;overflow: auto;}#sk-container-id-6 input.sk-toggleable__control:checked~label.sk-toggleable__label-arrow:before {content: \"▾\";}#sk-container-id-6 div.sk-estimator input.sk-toggleable__control:checked~label.sk-toggleable__label {background-color: #d4ebff;}#sk-container-id-6 div.sk-label input.sk-toggleable__control:checked~label.sk-toggleable__label {background-color: #d4ebff;}#sk-container-id-6 input.sk-hidden--visually {border: 0;clip: rect(1px 1px 1px 1px);clip: rect(1px, 1px, 1px, 1px);height: 1px;margin: -1px;overflow: hidden;padding: 0;position: absolute;width: 1px;}#sk-container-id-6 div.sk-estimator {font-family: monospace;background-color: #f0f8ff;border: 1px dotted black;border-radius: 0.25em;box-sizing: border-box;margin-bottom: 0.5em;}#sk-container-id-6 div.sk-estimator:hover {background-color: #d4ebff;}#sk-container-id-6 div.sk-parallel-item::after {content: \"\";width: 100%;border-bottom: 1px solid gray;flex-grow: 1;}#sk-container-id-6 div.sk-label:hover label.sk-toggleable__label {background-color: #d4ebff;}#sk-container-id-6 div.sk-serial::before {content: \"\";position: absolute;border-left: 1px solid gray;box-sizing: border-box;top: 0;bottom: 0;left: 50%;z-index: 0;}#sk-container-id-6 div.sk-serial {display: flex;flex-direction: column;align-items: center;background-color: white;padding-right: 0.2em;padding-left: 0.2em;position: relative;}#sk-container-id-6 div.sk-item {position: relative;z-index: 1;}#sk-container-id-6 div.sk-parallel {display: flex;align-items: stretch;justify-content: center;background-color: white;position: relative;}#sk-container-id-6 div.sk-item::before, #sk-container-id-6 div.sk-parallel-item::before {content: \"\";position: absolute;border-left: 1px solid gray;box-sizing: border-box;top: 0;bottom: 0;left: 50%;z-index: -1;}#sk-container-id-6 div.sk-parallel-item {display: flex;flex-direction: column;z-index: 1;position: relative;background-color: white;}#sk-container-id-6 div.sk-parallel-item:first-child::after {align-self: flex-end;width: 50%;}#sk-container-id-6 div.sk-parallel-item:last-child::after {align-self: flex-start;width: 50%;}#sk-container-id-6 div.sk-parallel-item:only-child::after {width: 0;}#sk-container-id-6 div.sk-dashed-wrapped {border: 1px dashed gray;margin: 0 0.4em 0.5em 0.4em;box-sizing: border-box;padding-bottom: 0.4em;background-color: white;}#sk-container-id-6 div.sk-label label {font-family: monospace;font-weight: bold;display: inline-block;line-height: 1.2em;}#sk-container-id-6 div.sk-label-container {text-align: center;}#sk-container-id-6 div.sk-container {/* jupyter's `normalize.less` sets `[hidden] { display: none; }` but bootstrap.min.css set `[hidden] { display: none !important; }` so we also need the `!important` here to be able to override the default hidden behavior on the sphinx rendered scikit-learn.org. See: https://github.com/scikit-learn/scikit-learn/issues/21755 */display: inline-block !important;position: relative;}#sk-container-id-6 div.sk-text-repr-fallback {display: none;}</style><div id=\"sk-container-id-6\" class=\"sk-top-container\"><div class=\"sk-text-repr-fallback\"><pre>Lasso(alpha=100)</pre><b>In a Jupyter environment, please rerun this cell to show the HTML representation or trust the notebook. <br />On GitHub, the HTML representation is unable to render, please try loading this page with nbviewer.org.</b></div><div class=\"sk-container\" hidden><div class=\"sk-item\"><div class=\"sk-estimator sk-toggleable\"><input class=\"sk-toggleable__control sk-hidden--visually\" id=\"sk-estimator-id-6\" type=\"checkbox\" checked><label for=\"sk-estimator-id-6\" class=\"sk-toggleable__label sk-toggleable__label-arrow\">Lasso</label><div class=\"sk-toggleable__content\"><pre>Lasso(alpha=100)</pre></div></div></div></div></div>"
      ],
      "text/plain": [
       "Lasso(alpha=100)"
      ]
     },
     "execution_count": 63,
     "metadata": {},
     "output_type": "execute_result"
    }
   ],
   "source": [
    "# 모델 학습\n",
    "lasso_model.fit(X_train_copy2, y_train)"
   ]
  },
  {
   "cell_type": "code",
   "execution_count": 64,
   "id": "24e99c4e",
   "metadata": {},
   "outputs": [
    {
     "data": {
      "text/plain": [
       "0.6596761034093479"
      ]
     },
     "execution_count": 64,
     "metadata": {},
     "output_type": "execute_result"
    }
   ],
   "source": [
    "# 모델 평가\n",
    "lasso_model.score(X_test_copy2, y_test)"
   ]
  },
  {
   "cell_type": "code",
   "execution_count": 65,
   "id": "a6a4c0ea",
   "metadata": {},
   "outputs": [
    {
     "data": {
      "text/plain": [
       "0.8088476476273541"
      ]
     },
     "execution_count": 65,
     "metadata": {},
     "output_type": "execute_result"
    }
   ],
   "source": [
    "# 모델 평가\n",
    "lasso_model.score(X_train_copy2, y_train)"
   ]
  },
  {
   "cell_type": "code",
   "execution_count": 66,
   "id": "ce4b7564",
   "metadata": {},
   "outputs": [],
   "source": [
    "# 반복문을 이용해서 Ridge와 Lasso alpha값을 조절해보고 모델을 비교해보자\n",
    "# 1. 알파값(규제강도) 리스트 만들어주기\n",
    "alpha_list = [0.001, 0.01, 0.1, 10, 100, 1000]\n",
    "\n",
    "# 2. ridge 모델과 lasso 모델 가중치를 기록할 리스트 만들어주기.\n",
    "ridge_coef_list = []\n",
    "lasso_coef_list = []\n",
    "\n",
    "# 3. 반복문 만들기 - 모델 제작 / 학습 / 리스트에 기록\n",
    "for i in alpha_list :\n",
    "    r_model = Ridge(alpha = i)\n",
    "    l_model = Lasso(alpha = i)\n",
    "    # 모델 학습\n",
    "    r_model.fit(X_train, y_train)\n",
    "    l_model.fit(X_train, y_train)\n",
    "    # 가중치 확인 후 리스트에 넣기\n",
    "    ridge_coef_list.append(r_model.coef_)\n",
    "    lasso_coef_list.append(l_model.coef_)"
   ]
  },
  {
   "cell_type": "code",
   "execution_count": 67,
   "id": "5599cbc6",
   "metadata": {},
   "outputs": [
    {
     "data": {
      "text/html": [
       "<div>\n",
       "<style scoped>\n",
       "    .dataframe tbody tr th:only-of-type {\n",
       "        vertical-align: middle;\n",
       "    }\n",
       "\n",
       "    .dataframe tbody tr th {\n",
       "        vertical-align: top;\n",
       "    }\n",
       "\n",
       "    .dataframe thead th {\n",
       "        text-align: right;\n",
       "    }\n",
       "</style>\n",
       "<table border=\"1\" class=\"dataframe\">\n",
       "  <thead>\n",
       "    <tr style=\"text-align: right;\">\n",
       "      <th></th>\n",
       "      <th>0.001</th>\n",
       "      <th>0.010</th>\n",
       "      <th>0.100</th>\n",
       "      <th>10.000</th>\n",
       "      <th>100.000</th>\n",
       "      <th>1000.000</th>\n",
       "    </tr>\n",
       "  </thead>\n",
       "  <tbody>\n",
       "    <tr>\n",
       "      <th>CRIM</th>\n",
       "      <td>-0.104004</td>\n",
       "      <td>-0.102158</td>\n",
       "      <td>-0.093277</td>\n",
       "      <td>-0.000000</td>\n",
       "      <td>-0.000000</td>\n",
       "      <td>-0.0</td>\n",
       "    </tr>\n",
       "    <tr>\n",
       "      <th>ZN</th>\n",
       "      <td>0.051492</td>\n",
       "      <td>0.052120</td>\n",
       "      <td>0.055739</td>\n",
       "      <td>0.037418</td>\n",
       "      <td>0.000000</td>\n",
       "      <td>0.0</td>\n",
       "    </tr>\n",
       "    <tr>\n",
       "      <th>INDUS</th>\n",
       "      <td>0.031424</td>\n",
       "      <td>0.020634</td>\n",
       "      <td>-0.014192</td>\n",
       "      <td>-0.000000</td>\n",
       "      <td>-0.000000</td>\n",
       "      <td>-0.0</td>\n",
       "    </tr>\n",
       "    <tr>\n",
       "      <th>CHAS</th>\n",
       "      <td>2.395889</td>\n",
       "      <td>2.225616</td>\n",
       "      <td>0.639270</td>\n",
       "      <td>0.000000</td>\n",
       "      <td>0.000000</td>\n",
       "      <td>0.0</td>\n",
       "    </tr>\n",
       "    <tr>\n",
       "      <th>NOX</th>\n",
       "      <td>-16.490827</td>\n",
       "      <td>-13.542272</td>\n",
       "      <td>-0.000000</td>\n",
       "      <td>0.000000</td>\n",
       "      <td>-0.000000</td>\n",
       "      <td>-0.0</td>\n",
       "    </tr>\n",
       "    <tr>\n",
       "      <th>RM</th>\n",
       "      <td>4.220702</td>\n",
       "      <td>4.218730</td>\n",
       "      <td>4.063000</td>\n",
       "      <td>0.000000</td>\n",
       "      <td>0.000000</td>\n",
       "      <td>0.0</td>\n",
       "    </tr>\n",
       "    <tr>\n",
       "      <th>AGE</th>\n",
       "      <td>0.008512</td>\n",
       "      <td>0.006697</td>\n",
       "      <td>0.001003</td>\n",
       "      <td>0.004739</td>\n",
       "      <td>-0.000000</td>\n",
       "      <td>-0.0</td>\n",
       "    </tr>\n",
       "    <tr>\n",
       "      <th>DIS</th>\n",
       "      <td>-1.385741</td>\n",
       "      <td>-1.333477</td>\n",
       "      <td>-1.060640</td>\n",
       "      <td>-0.000000</td>\n",
       "      <td>0.000000</td>\n",
       "      <td>0.0</td>\n",
       "    </tr>\n",
       "    <tr>\n",
       "      <th>RAD</th>\n",
       "      <td>0.319430</td>\n",
       "      <td>0.316127</td>\n",
       "      <td>0.309222</td>\n",
       "      <td>0.000000</td>\n",
       "      <td>-0.000000</td>\n",
       "      <td>-0.0</td>\n",
       "    </tr>\n",
       "    <tr>\n",
       "      <th>TAX</th>\n",
       "      <td>-0.013170</td>\n",
       "      <td>-0.013622</td>\n",
       "      <td>-0.016416</td>\n",
       "      <td>-0.009128</td>\n",
       "      <td>-0.019873</td>\n",
       "      <td>-0.0</td>\n",
       "    </tr>\n",
       "    <tr>\n",
       "      <th>PTRATIO</th>\n",
       "      <td>-0.922476</td>\n",
       "      <td>-0.888020</td>\n",
       "      <td>-0.734813</td>\n",
       "      <td>-0.000000</td>\n",
       "      <td>-0.000000</td>\n",
       "      <td>-0.0</td>\n",
       "    </tr>\n",
       "    <tr>\n",
       "      <th>B</th>\n",
       "      <td>0.007158</td>\n",
       "      <td>0.007277</td>\n",
       "      <td>0.007783</td>\n",
       "      <td>0.006327</td>\n",
       "      <td>0.007204</td>\n",
       "      <td>0.0</td>\n",
       "    </tr>\n",
       "    <tr>\n",
       "      <th>LSTAT</th>\n",
       "      <td>-0.560098</td>\n",
       "      <td>-0.566324</td>\n",
       "      <td>-0.609375</td>\n",
       "      <td>-0.608043</td>\n",
       "      <td>-0.000000</td>\n",
       "      <td>-0.0</td>\n",
       "    </tr>\n",
       "  </tbody>\n",
       "</table>\n",
       "</div>"
      ],
      "text/plain": [
       "          0.001      0.010     0.100     10.000    100.000   1000.000\n",
       "CRIM     -0.104004  -0.102158 -0.093277 -0.000000 -0.000000      -0.0\n",
       "ZN        0.051492   0.052120  0.055739  0.037418  0.000000       0.0\n",
       "INDUS     0.031424   0.020634 -0.014192 -0.000000 -0.000000      -0.0\n",
       "CHAS      2.395889   2.225616  0.639270  0.000000  0.000000       0.0\n",
       "NOX     -16.490827 -13.542272 -0.000000  0.000000 -0.000000      -0.0\n",
       "RM        4.220702   4.218730  4.063000  0.000000  0.000000       0.0\n",
       "AGE       0.008512   0.006697  0.001003  0.004739 -0.000000      -0.0\n",
       "DIS      -1.385741  -1.333477 -1.060640 -0.000000  0.000000       0.0\n",
       "RAD       0.319430   0.316127  0.309222  0.000000 -0.000000      -0.0\n",
       "TAX      -0.013170  -0.013622 -0.016416 -0.009128 -0.019873      -0.0\n",
       "PTRATIO  -0.922476  -0.888020 -0.734813 -0.000000 -0.000000      -0.0\n",
       "B         0.007158   0.007277  0.007783  0.006327  0.007204       0.0\n",
       "LSTAT    -0.560098  -0.566324 -0.609375 -0.608043 -0.000000      -0.0"
      ]
     },
     "execution_count": 67,
     "metadata": {},
     "output_type": "execute_result"
    }
   ],
   "source": [
    "# lasso 정규화 w값 확인해보기\n",
    "lasso_df = pd.DataFrame(np.array(lasso_coef_list).T,\n",
    "                       columns = alpha_list,\n",
    "                       index = X_train.columns)\n",
    "lasso_df"
   ]
  },
  {
   "cell_type": "code",
   "execution_count": 68,
   "id": "fe1c4118",
   "metadata": {
    "scrolled": false
   },
   "outputs": [
    {
     "data": {
      "text/html": [
       "<div>\n",
       "<style scoped>\n",
       "    .dataframe tbody tr th:only-of-type {\n",
       "        vertical-align: middle;\n",
       "    }\n",
       "\n",
       "    .dataframe tbody tr th {\n",
       "        vertical-align: top;\n",
       "    }\n",
       "\n",
       "    .dataframe thead th {\n",
       "        text-align: right;\n",
       "    }\n",
       "</style>\n",
       "<table border=\"1\" class=\"dataframe\">\n",
       "  <thead>\n",
       "    <tr style=\"text-align: right;\">\n",
       "      <th></th>\n",
       "      <th>0.001</th>\n",
       "      <th>0.010</th>\n",
       "      <th>0.100</th>\n",
       "      <th>10.000</th>\n",
       "      <th>100.000</th>\n",
       "      <th>1000.000</th>\n",
       "    </tr>\n",
       "  </thead>\n",
       "  <tbody>\n",
       "    <tr>\n",
       "      <th>CRIM</th>\n",
       "      <td>-0.104200</td>\n",
       "      <td>-0.104118</td>\n",
       "      <td>-0.103370</td>\n",
       "      <td>-0.096434</td>\n",
       "      <td>-0.096235</td>\n",
       "      <td>-0.081762</td>\n",
       "    </tr>\n",
       "    <tr>\n",
       "      <th>ZN</th>\n",
       "      <td>0.051426</td>\n",
       "      <td>0.051454</td>\n",
       "      <td>0.051720</td>\n",
       "      <td>0.056433</td>\n",
       "      <td>0.062866</td>\n",
       "      <td>0.064890</td>\n",
       "    </tr>\n",
       "    <tr>\n",
       "      <th>INDUS</th>\n",
       "      <td>0.032569</td>\n",
       "      <td>0.032081</td>\n",
       "      <td>0.027602</td>\n",
       "      <td>-0.023730</td>\n",
       "      <td>-0.041009</td>\n",
       "      <td>-0.037980</td>\n",
       "    </tr>\n",
       "    <tr>\n",
       "      <th>CHAS</th>\n",
       "      <td>2.414565</td>\n",
       "      <td>2.412400</td>\n",
       "      <td>2.391768</td>\n",
       "      <td>1.550346</td>\n",
       "      <td>0.399666</td>\n",
       "      <td>0.057674</td>\n",
       "    </tr>\n",
       "    <tr>\n",
       "      <th>NOX</th>\n",
       "      <td>-16.803376</td>\n",
       "      <td>-16.668904</td>\n",
       "      <td>-15.433762</td>\n",
       "      <td>-1.684562</td>\n",
       "      <td>-0.176870</td>\n",
       "      <td>-0.008816</td>\n",
       "    </tr>\n",
       "    <tr>\n",
       "      <th>RM</th>\n",
       "      <td>4.221016</td>\n",
       "      <td>4.221873</td>\n",
       "      <td>4.229404</td>\n",
       "      <td>3.946966</td>\n",
       "      <td>2.173994</td>\n",
       "      <td>0.469247</td>\n",
       "    </tr>\n",
       "    <tr>\n",
       "      <th>AGE</th>\n",
       "      <td>0.008702</td>\n",
       "      <td>0.008599</td>\n",
       "      <td>0.007662</td>\n",
       "      <td>0.000900</td>\n",
       "      <td>0.017885</td>\n",
       "      <td>0.046458</td>\n",
       "    </tr>\n",
       "    <tr>\n",
       "      <th>DIS</th>\n",
       "      <td>-1.391297</td>\n",
       "      <td>-1.389064</td>\n",
       "      <td>-1.368550</td>\n",
       "      <td>-1.137713</td>\n",
       "      <td>-1.008909</td>\n",
       "      <td>-0.461861</td>\n",
       "    </tr>\n",
       "    <tr>\n",
       "      <th>RAD</th>\n",
       "      <td>0.319779</td>\n",
       "      <td>0.319613</td>\n",
       "      <td>0.318107</td>\n",
       "      <td>0.316749</td>\n",
       "      <td>0.368459</td>\n",
       "      <td>0.330257</td>\n",
       "    </tr>\n",
       "    <tr>\n",
       "      <th>TAX</th>\n",
       "      <td>-0.013122</td>\n",
       "      <td>-0.013141</td>\n",
       "      <td>-0.013319</td>\n",
       "      <td>-0.016066</td>\n",
       "      <td>-0.018825</td>\n",
       "      <td>-0.018669</td>\n",
       "    </tr>\n",
       "    <tr>\n",
       "      <th>PTRATIO</th>\n",
       "      <td>-0.926127</td>\n",
       "      <td>-0.924537</td>\n",
       "      <td>-0.909960</td>\n",
       "      <td>-0.765752</td>\n",
       "      <td>-0.798887</td>\n",
       "      <td>-0.572040</td>\n",
       "    </tr>\n",
       "    <tr>\n",
       "      <th>B</th>\n",
       "      <td>0.007145</td>\n",
       "      <td>0.007151</td>\n",
       "      <td>0.007204</td>\n",
       "      <td>0.007579</td>\n",
       "      <td>0.006381</td>\n",
       "      <td>0.005064</td>\n",
       "    </tr>\n",
       "    <tr>\n",
       "      <th>LSTAT</th>\n",
       "      <td>-0.559430</td>\n",
       "      <td>-0.559636</td>\n",
       "      <td>-0.561554</td>\n",
       "      <td>-0.609632</td>\n",
       "      <td>-0.735904</td>\n",
       "      <td>-0.814247</td>\n",
       "    </tr>\n",
       "  </tbody>\n",
       "</table>\n",
       "</div>"
      ],
      "text/plain": [
       "          0.001      0.010      0.100     10.000    100.000   1000.000\n",
       "CRIM     -0.104200  -0.104118  -0.103370 -0.096434 -0.096235 -0.081762\n",
       "ZN        0.051426   0.051454   0.051720  0.056433  0.062866  0.064890\n",
       "INDUS     0.032569   0.032081   0.027602 -0.023730 -0.041009 -0.037980\n",
       "CHAS      2.414565   2.412400   2.391768  1.550346  0.399666  0.057674\n",
       "NOX     -16.803376 -16.668904 -15.433762 -1.684562 -0.176870 -0.008816\n",
       "RM        4.221016   4.221873   4.229404  3.946966  2.173994  0.469247\n",
       "AGE       0.008702   0.008599   0.007662  0.000900  0.017885  0.046458\n",
       "DIS      -1.391297  -1.389064  -1.368550 -1.137713 -1.008909 -0.461861\n",
       "RAD       0.319779   0.319613   0.318107  0.316749  0.368459  0.330257\n",
       "TAX      -0.013122  -0.013141  -0.013319 -0.016066 -0.018825 -0.018669\n",
       "PTRATIO  -0.926127  -0.924537  -0.909960 -0.765752 -0.798887 -0.572040\n",
       "B         0.007145   0.007151   0.007204  0.007579  0.006381  0.005064\n",
       "LSTAT    -0.559430  -0.559636  -0.561554 -0.609632 -0.735904 -0.814247"
      ]
     },
     "execution_count": 68,
     "metadata": {},
     "output_type": "execute_result"
    }
   ],
   "source": [
    "# ridge 정규화 w값 확인해보기\n",
    "ridge_df = pd.DataFrame(np.array(ridge_coef_list).T,\n",
    "                       columns = alpha_list,\n",
    "                       index = X_train.columns)\n",
    "ridge_df"
   ]
  },
  {
   "cell_type": "markdown",
   "id": "b5d6cdc3",
   "metadata": {},
   "source": [
    "### 최종 정리\n",
    "- 현재 보스턴 주택 데이터를 선형 회귀 분석 했을 때 규제항을 적용할 시 라쏘 (L1 규제)가 조금 더 유리한 모습을 보이고 있다."
   ]
  }
 ],
 "metadata": {
  "kernelspec": {
   "display_name": "Python 3 (ipykernel)",
   "language": "python",
   "name": "python3"
  },
  "language_info": {
   "codemirror_mode": {
    "name": "ipython",
    "version": 3
   },
   "file_extension": ".py",
   "mimetype": "text/x-python",
   "name": "python",
   "nbconvert_exporter": "python",
   "pygments_lexer": "ipython3",
   "version": "3.10.9"
  }
 },
 "nbformat": 4,
 "nbformat_minor": 5
}
