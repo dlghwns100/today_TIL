{
  "nbformat": 4,
  "nbformat_minor": 0,
  "metadata": {
    "colab": {
      "provenance": [],
      "gpuType": "T4",
      "include_colab_link": true
    },
    "kernelspec": {
      "name": "python3",
      "display_name": "Python 3"
    },
    "language_info": {
      "name": "python"
    },
    "accelerator": "GPU"
  },
  "cells": [
    {
      "cell_type": "markdown",
      "metadata": {
        "id": "view-in-github",
        "colab_type": "text"
      },
      "source": [
        "<a href=\"https://colab.research.google.com/github/dlghwns100/today_TIL/blob/main/ex07_%ED%8C%A8%EC%85%98%EC%9D%B4%EB%AF%B8%EC%A7%80_%EB%8D%B0%EC%9D%B4%ED%84%B0_%EB%B6%84%EB%A5%98(%ED%99%9C%EC%84%B1%ED%99%94%2C_%EC%B5%9C%EC%A0%81%ED%99%94_%ED%95%A8%EC%88%98).ipynb\" target=\"_parent\"><img src=\"https://colab.research.google.com/assets/colab-badge.svg\" alt=\"Open In Colab\"/></a>"
      ]
    },
    {
      "cell_type": "markdown",
      "source": [
        "###목표\n",
        "- 10종류의 패션 이미지 데이터를 분류하는 신경망 모델을 만들어보자\n",
        "- 중간층 활성화 함수와 최적화 함수를 변화시켜가며 결과를 비교해보자"
      ],
      "metadata": {
        "id": "gt0Tc07xJQLY"
      }
    },
    {
      "cell_type": "code",
      "source": [
        "from google.colab import drive\n",
        "drive.mount('/content/drive')"
      ],
      "metadata": {
        "colab": {
          "base_uri": "https://localhost:8080/"
        },
        "id": "T6cIhZqKgiK3",
        "outputId": "dbcbab89-9b1a-434c-8965-f1d7c95c1dfe"
      },
      "execution_count": null,
      "outputs": [
        {
          "output_type": "stream",
          "name": "stdout",
          "text": [
            "Drive already mounted at /content/drive; to attempt to forcibly remount, call drive.mount(\"/content/drive\", force_remount=True).\n"
          ]
        }
      ]
    },
    {
      "cell_type": "code",
      "source": [
        "import numpy as np\n",
        "import pandas as pd\n",
        "import matplotlib.pyplot as plt\n",
        "from tensorflow.keras.datasets import fashion_mnist"
      ],
      "metadata": {
        "id": "Tz7RFuvLHawi"
      },
      "execution_count": null,
      "outputs": []
    },
    {
      "cell_type": "code",
      "source": [
        "data = fashion_mnist.load_data()"
      ],
      "metadata": {
        "id": "_vX3kX8yl-ms",
        "colab": {
          "base_uri": "https://localhost:8080/"
        },
        "outputId": "7042bf62-e6f0-402f-dd2b-5cd120f4805a"
      },
      "execution_count": null,
      "outputs": [
        {
          "output_type": "stream",
          "name": "stdout",
          "text": [
            "Downloading data from https://storage.googleapis.com/tensorflow/tf-keras-datasets/train-labels-idx1-ubyte.gz\n",
            "29515/29515 [==============================] - 0s 0us/step\n",
            "Downloading data from https://storage.googleapis.com/tensorflow/tf-keras-datasets/train-images-idx3-ubyte.gz\n",
            "26421880/26421880 [==============================] - 0s 0us/step\n",
            "Downloading data from https://storage.googleapis.com/tensorflow/tf-keras-datasets/t10k-labels-idx1-ubyte.gz\n",
            "5148/5148 [==============================] - 0s 0us/step\n",
            "Downloading data from https://storage.googleapis.com/tensorflow/tf-keras-datasets/t10k-images-idx3-ubyte.gz\n",
            "4422102/4422102 [==============================] - 0s 0us/step\n"
          ]
        }
      ]
    },
    {
      "cell_type": "code",
      "source": [
        "(X_train, y_train), (X_test, y_test) = data"
      ],
      "metadata": {
        "id": "HzhUoIgpFeVZ"
      },
      "execution_count": null,
      "outputs": []
    },
    {
      "cell_type": "code",
      "source": [
        "X_train.shape, X_test.shape,  y_train.shape, y_test.shape"
      ],
      "metadata": {
        "colab": {
          "base_uri": "https://localhost:8080/"
        },
        "id": "oZmgXE5ZFeIA",
        "outputId": "9f8853dc-13f8-40f2-ffbc-f4135c0b64f6"
      },
      "execution_count": null,
      "outputs": [
        {
          "output_type": "execute_result",
          "data": {
            "text/plain": [
              "((60000, 28, 28), (10000, 28, 28), (60000,), (10000,))"
            ]
          },
          "metadata": {},
          "execution_count": 6
        }
      ]
    },
    {
      "cell_type": "code",
      "source": [
        "y_train"
      ],
      "metadata": {
        "colab": {
          "base_uri": "https://localhost:8080/"
        },
        "id": "9knKPjBtFeDJ",
        "outputId": "92730f65-2865-4882-86e0-b33a7316f9e0"
      },
      "execution_count": null,
      "outputs": [
        {
          "output_type": "execute_result",
          "data": {
            "text/plain": [
              "array([9, 0, 0, ..., 3, 0, 5], dtype=uint8)"
            ]
          },
          "metadata": {},
          "execution_count": 7
        }
      ]
    },
    {
      "cell_type": "code",
      "source": [
        "y_train_one_hot = pd.get_dummies(y_train)\n",
        "y_test_one_hot = pd.get_dummies(y_test)"
      ],
      "metadata": {
        "id": "sCemgVtawL2l"
      },
      "execution_count": null,
      "outputs": []
    },
    {
      "cell_type": "markdown",
      "source": [
        "- 활성화함수, 최적화함수 별 비교\n",
        "1. 중간층 활성화 함수 : sigmoid, 최적화 함수: SGD\n",
        "2. 중간층 활성화 함수 : relu, 최적화 함수: SGD\n",
        "3. 중간층 활성화 함수 : relu, 최적화 함수: Adam"
      ],
      "metadata": {
        "id": "bPeYFvVHwase"
      }
    },
    {
      "cell_type": "code",
      "source": [
        "from tensorflow.keras import Sequential\n",
        "from tensorflow.keras.layers import Dense, Flatten"
      ],
      "metadata": {
        "id": "AKAPf-ITwale"
      },
      "execution_count": null,
      "outputs": []
    },
    {
      "cell_type": "code",
      "source": [
        "from tensorflow.keras import optimizers"
      ],
      "metadata": {
        "id": "0K1mNOIT-u1Z"
      },
      "execution_count": null,
      "outputs": []
    },
    {
      "cell_type": "code",
      "source": [
        "model1 = Sequential()\n",
        "model1.add(Flatten(input_shape =(28, 28)))\n",
        "model1.add(Dense(1500, activation='sigmoid'))\n",
        "model1.add(Dense(500, activation='sigmoid'))\n",
        "model1.add(Dense(100, activation='sigmoid'))\n",
        "model1.add(Dense(10, activation='softmax'))\n",
        "\n",
        "model1.compile(loss='categorical_crossentropy',optimizer=optimizers.SGD(learning_rate=0.001),metrics=['acc'])\n",
        "\n",
        "h1 = model1.fit(X_train, y_train_one_hot, epochs=30, batch_size=256, validation_split=0.2)"
      ],
      "metadata": {
        "colab": {
          "base_uri": "https://localhost:8080/"
        },
        "id": "0_kbn6k8wajW",
        "outputId": "31a332ea-72bf-4f0e-bb14-6108084f4f38"
      },
      "execution_count": null,
      "outputs": [
        {
          "output_type": "stream",
          "name": "stdout",
          "text": [
            "Epoch 1/30\n",
            "188/188 [==============================] - 7s 8ms/step - loss: 2.3963 - acc: 0.1100 - val_loss: 2.3264 - val_acc: 0.1347\n",
            "Epoch 2/30\n",
            "188/188 [==============================] - 1s 6ms/step - loss: 2.2837 - acc: 0.2187 - val_loss: 2.2536 - val_acc: 0.3127\n",
            "Epoch 3/30\n",
            "188/188 [==============================] - 1s 6ms/step - loss: 2.2316 - acc: 0.3918 - val_loss: 2.2137 - val_acc: 0.4412\n",
            "Epoch 4/30\n",
            "188/188 [==============================] - 1s 6ms/step - loss: 2.1982 - acc: 0.5008 - val_loss: 2.1836 - val_acc: 0.5603\n",
            "Epoch 5/30\n",
            "188/188 [==============================] - 1s 5ms/step - loss: 2.1701 - acc: 0.5831 - val_loss: 2.1564 - val_acc: 0.6077\n",
            "Epoch 6/30\n",
            "188/188 [==============================] - 1s 5ms/step - loss: 2.1434 - acc: 0.6161 - val_loss: 2.1300 - val_acc: 0.6317\n",
            "Epoch 7/30\n",
            "188/188 [==============================] - 1s 5ms/step - loss: 2.1172 - acc: 0.6337 - val_loss: 2.1038 - val_acc: 0.6457\n",
            "Epoch 8/30\n",
            "188/188 [==============================] - 1s 5ms/step - loss: 2.0912 - acc: 0.6452 - val_loss: 2.0777 - val_acc: 0.6506\n",
            "Epoch 9/30\n",
            "188/188 [==============================] - 1s 5ms/step - loss: 2.0651 - acc: 0.6520 - val_loss: 2.0514 - val_acc: 0.6532\n",
            "Epoch 10/30\n",
            "188/188 [==============================] - 1s 5ms/step - loss: 2.0389 - acc: 0.6533 - val_loss: 2.0251 - val_acc: 0.6571\n",
            "Epoch 11/30\n",
            "188/188 [==============================] - 1s 5ms/step - loss: 2.0126 - acc: 0.6550 - val_loss: 1.9986 - val_acc: 0.6592\n",
            "Epoch 12/30\n",
            "188/188 [==============================] - 1s 5ms/step - loss: 1.9861 - acc: 0.6565 - val_loss: 1.9720 - val_acc: 0.6606\n",
            "Epoch 13/30\n",
            "188/188 [==============================] - 1s 5ms/step - loss: 1.9594 - acc: 0.6557 - val_loss: 1.9452 - val_acc: 0.6599\n",
            "Epoch 14/30\n",
            "188/188 [==============================] - 1s 5ms/step - loss: 1.9326 - acc: 0.6551 - val_loss: 1.9183 - val_acc: 0.6628\n",
            "Epoch 15/30\n",
            "188/188 [==============================] - 1s 7ms/step - loss: 1.9057 - acc: 0.6576 - val_loss: 1.8913 - val_acc: 0.6631\n",
            "Epoch 16/30\n",
            "188/188 [==============================] - 1s 6ms/step - loss: 1.8787 - acc: 0.6564 - val_loss: 1.8643 - val_acc: 0.6628\n",
            "Epoch 17/30\n",
            "188/188 [==============================] - 1s 6ms/step - loss: 1.8517 - acc: 0.6596 - val_loss: 1.8372 - val_acc: 0.6608\n",
            "Epoch 18/30\n",
            "188/188 [==============================] - 1s 5ms/step - loss: 1.8247 - acc: 0.6575 - val_loss: 1.8104 - val_acc: 0.6630\n",
            "Epoch 19/30\n",
            "188/188 [==============================] - 1s 5ms/step - loss: 1.7980 - acc: 0.6578 - val_loss: 1.7837 - val_acc: 0.6633\n",
            "Epoch 20/30\n",
            "188/188 [==============================] - 1s 5ms/step - loss: 1.7715 - acc: 0.6582 - val_loss: 1.7573 - val_acc: 0.6649\n",
            "Epoch 21/30\n",
            "188/188 [==============================] - 1s 5ms/step - loss: 1.7454 - acc: 0.6600 - val_loss: 1.7314 - val_acc: 0.6650\n",
            "Epoch 22/30\n",
            "188/188 [==============================] - 1s 5ms/step - loss: 1.7196 - acc: 0.6602 - val_loss: 1.7057 - val_acc: 0.6653\n",
            "Epoch 23/30\n",
            "188/188 [==============================] - 1s 5ms/step - loss: 1.6942 - acc: 0.6587 - val_loss: 1.6804 - val_acc: 0.6661\n",
            "Epoch 24/30\n",
            "188/188 [==============================] - 1s 5ms/step - loss: 1.6693 - acc: 0.6615 - val_loss: 1.6556 - val_acc: 0.6672\n",
            "Epoch 25/30\n",
            "188/188 [==============================] - 1s 5ms/step - loss: 1.6448 - acc: 0.6616 - val_loss: 1.6314 - val_acc: 0.6666\n",
            "Epoch 26/30\n",
            "188/188 [==============================] - 1s 5ms/step - loss: 1.6209 - acc: 0.6621 - val_loss: 1.6076 - val_acc: 0.6687\n",
            "Epoch 27/30\n",
            "188/188 [==============================] - 1s 5ms/step - loss: 1.5975 - acc: 0.6627 - val_loss: 1.5843 - val_acc: 0.6693\n",
            "Epoch 28/30\n",
            "188/188 [==============================] - 1s 5ms/step - loss: 1.5746 - acc: 0.6657 - val_loss: 1.5616 - val_acc: 0.6675\n",
            "Epoch 29/30\n",
            "188/188 [==============================] - 1s 7ms/step - loss: 1.5524 - acc: 0.6644 - val_loss: 1.5395 - val_acc: 0.6697\n",
            "Epoch 30/30\n",
            "188/188 [==============================] - 1s 7ms/step - loss: 1.5307 - acc: 0.6659 - val_loss: 1.5180 - val_acc: 0.6689\n"
          ]
        }
      ]
    },
    {
      "cell_type": "code",
      "source": [
        "model2 = Sequential()\n",
        "model2.add(Flatten(input_shape =(28, 28)))\n",
        "model2.add(Dense(1500, activation='relu'))\n",
        "model2.add(Dense(500, activation='relu'))\n",
        "model2.add(Dense(100, activation='relu'))\n",
        "model2.add(Dense(10, activation='softmax'))\n",
        "\n",
        "model2.compile(loss='categorical_crossentropy',optimizer='SGD',metrics=['acc'])\n",
        "\n",
        "h2 = model2.fit(X_train, y_train_one_hot, epochs=30, batch_size=256, validation_split=0.2)"
      ],
      "metadata": {
        "colab": {
          "base_uri": "https://localhost:8080/"
        },
        "id": "CUKf5_g6xW2d",
        "outputId": "8844a15a-16c6-4edd-eb78-09344aea2851"
      },
      "execution_count": null,
      "outputs": [
        {
          "output_type": "stream",
          "name": "stdout",
          "text": [
            "Epoch 1/30\n",
            "188/188 [==============================] - 2s 6ms/step - loss: nan - acc: 0.0994 - val_loss: nan - val_acc: 0.1030\n",
            "Epoch 2/30\n",
            "188/188 [==============================] - 1s 5ms/step - loss: nan - acc: 0.0993 - val_loss: nan - val_acc: 0.1030\n",
            "Epoch 3/30\n",
            "188/188 [==============================] - 1s 5ms/step - loss: nan - acc: 0.0993 - val_loss: nan - val_acc: 0.1030\n",
            "Epoch 4/30\n",
            "188/188 [==============================] - 1s 5ms/step - loss: nan - acc: 0.0993 - val_loss: nan - val_acc: 0.1030\n",
            "Epoch 5/30\n",
            "188/188 [==============================] - 1s 5ms/step - loss: nan - acc: 0.0993 - val_loss: nan - val_acc: 0.1030\n",
            "Epoch 6/30\n",
            "188/188 [==============================] - 1s 5ms/step - loss: nan - acc: 0.0993 - val_loss: nan - val_acc: 0.1030\n",
            "Epoch 7/30\n",
            "188/188 [==============================] - 1s 6ms/step - loss: nan - acc: 0.0993 - val_loss: nan - val_acc: 0.1030\n",
            "Epoch 8/30\n",
            "188/188 [==============================] - 1s 6ms/step - loss: nan - acc: 0.0993 - val_loss: nan - val_acc: 0.1030\n",
            "Epoch 9/30\n",
            "188/188 [==============================] - 1s 7ms/step - loss: nan - acc: 0.0993 - val_loss: nan - val_acc: 0.1030\n",
            "Epoch 10/30\n",
            "188/188 [==============================] - 1s 5ms/step - loss: nan - acc: 0.0993 - val_loss: nan - val_acc: 0.1030\n",
            "Epoch 11/30\n",
            "188/188 [==============================] - 1s 5ms/step - loss: nan - acc: 0.0993 - val_loss: nan - val_acc: 0.1030\n",
            "Epoch 12/30\n",
            "188/188 [==============================] - 1s 5ms/step - loss: nan - acc: 0.0993 - val_loss: nan - val_acc: 0.1030\n",
            "Epoch 13/30\n",
            "188/188 [==============================] - 1s 5ms/step - loss: nan - acc: 0.0993 - val_loss: nan - val_acc: 0.1030\n",
            "Epoch 14/30\n",
            "188/188 [==============================] - 1s 5ms/step - loss: nan - acc: 0.0993 - val_loss: nan - val_acc: 0.1030\n",
            "Epoch 15/30\n",
            "188/188 [==============================] - 1s 5ms/step - loss: nan - acc: 0.0993 - val_loss: nan - val_acc: 0.1030\n",
            "Epoch 16/30\n",
            "188/188 [==============================] - 1s 5ms/step - loss: nan - acc: 0.0993 - val_loss: nan - val_acc: 0.1030\n",
            "Epoch 17/30\n",
            "188/188 [==============================] - 1s 5ms/step - loss: nan - acc: 0.0993 - val_loss: nan - val_acc: 0.1030\n",
            "Epoch 18/30\n",
            "188/188 [==============================] - 1s 5ms/step - loss: nan - acc: 0.0993 - val_loss: nan - val_acc: 0.1030\n",
            "Epoch 19/30\n",
            "188/188 [==============================] - 1s 5ms/step - loss: nan - acc: 0.0993 - val_loss: nan - val_acc: 0.1030\n",
            "Epoch 20/30\n",
            "188/188 [==============================] - 1s 5ms/step - loss: nan - acc: 0.0993 - val_loss: nan - val_acc: 0.1030\n",
            "Epoch 21/30\n",
            "188/188 [==============================] - 1s 7ms/step - loss: nan - acc: 0.0993 - val_loss: nan - val_acc: 0.1030\n",
            "Epoch 22/30\n",
            "188/188 [==============================] - 1s 6ms/step - loss: nan - acc: 0.0993 - val_loss: nan - val_acc: 0.1030\n",
            "Epoch 23/30\n",
            "188/188 [==============================] - 1s 6ms/step - loss: nan - acc: 0.0993 - val_loss: nan - val_acc: 0.1030\n",
            "Epoch 24/30\n",
            "188/188 [==============================] - 1s 5ms/step - loss: nan - acc: 0.0993 - val_loss: nan - val_acc: 0.1030\n",
            "Epoch 25/30\n",
            "188/188 [==============================] - 1s 5ms/step - loss: nan - acc: 0.0993 - val_loss: nan - val_acc: 0.1030\n",
            "Epoch 26/30\n",
            "188/188 [==============================] - 1s 5ms/step - loss: nan - acc: 0.0993 - val_loss: nan - val_acc: 0.1030\n",
            "Epoch 27/30\n",
            "188/188 [==============================] - 1s 5ms/step - loss: nan - acc: 0.0993 - val_loss: nan - val_acc: 0.1030\n",
            "Epoch 28/30\n",
            "188/188 [==============================] - 1s 5ms/step - loss: nan - acc: 0.0993 - val_loss: nan - val_acc: 0.1030\n",
            "Epoch 29/30\n",
            "188/188 [==============================] - 1s 5ms/step - loss: nan - acc: 0.0993 - val_loss: nan - val_acc: 0.1030\n",
            "Epoch 30/30\n",
            "188/188 [==============================] - 1s 5ms/step - loss: nan - acc: 0.0993 - val_loss: nan - val_acc: 0.1030\n"
          ]
        }
      ]
    },
    {
      "cell_type": "code",
      "source": [
        "model3 = Sequential()\n",
        "model3.add(Flatten(input_shape =(28, 28)))\n",
        "model3.add(Dense(1500, activation='relu'))\n",
        "model3.add(Dense(500, activation='relu'))\n",
        "model3.add(Dense(100, activation='relu'))\n",
        "model3.add(Dense(10, activation='softmax'))\n",
        "\n",
        "model3.compile(loss='categorical_crossentropy',optimizer='Adam',metrics=['acc'])\n",
        "\n",
        "h3 = model3.fit(X_train, y_train_one_hot, epochs=30, batch_size=256, validation_split=0.2)"
      ],
      "metadata": {
        "colab": {
          "base_uri": "https://localhost:8080/"
        },
        "id": "Br5gorzlxWzW",
        "outputId": "84949f78-0e9a-4967-a472-ade21b9c9221"
      },
      "execution_count": null,
      "outputs": [
        {
          "output_type": "stream",
          "name": "stdout",
          "text": [
            "Epoch 1/30\n",
            "188/188 [==============================] - 3s 6ms/step - loss: 10.7796 - acc: 0.7244 - val_loss: 1.6777 - val_acc: 0.7335\n",
            "Epoch 2/30\n",
            "188/188 [==============================] - 1s 6ms/step - loss: 0.7927 - acc: 0.8149 - val_loss: 0.7505 - val_acc: 0.8102\n",
            "Epoch 3/30\n",
            "188/188 [==============================] - 1s 6ms/step - loss: 0.5886 - acc: 0.8371 - val_loss: 0.5914 - val_acc: 0.8259\n",
            "Epoch 4/30\n",
            "188/188 [==============================] - 1s 7ms/step - loss: 0.4498 - acc: 0.8576 - val_loss: 0.5138 - val_acc: 0.8473\n",
            "Epoch 5/30\n",
            "188/188 [==============================] - 1s 5ms/step - loss: 0.3721 - acc: 0.8741 - val_loss: 0.4279 - val_acc: 0.8637\n",
            "Epoch 6/30\n",
            "188/188 [==============================] - 1s 5ms/step - loss: 0.3326 - acc: 0.8835 - val_loss: 0.4131 - val_acc: 0.8685\n",
            "Epoch 7/30\n",
            "188/188 [==============================] - 1s 5ms/step - loss: 0.3057 - acc: 0.8903 - val_loss: 0.4581 - val_acc: 0.8567\n",
            "Epoch 8/30\n",
            "188/188 [==============================] - 1s 5ms/step - loss: 0.2868 - acc: 0.8969 - val_loss: 0.3888 - val_acc: 0.8693\n",
            "Epoch 9/30\n",
            "188/188 [==============================] - 1s 5ms/step - loss: 0.2675 - acc: 0.9020 - val_loss: 0.4144 - val_acc: 0.8681\n",
            "Epoch 10/30\n",
            "188/188 [==============================] - 1s 5ms/step - loss: 0.2668 - acc: 0.9022 - val_loss: 0.4012 - val_acc: 0.8639\n",
            "Epoch 11/30\n",
            "188/188 [==============================] - 1s 5ms/step - loss: 0.2480 - acc: 0.9081 - val_loss: 0.3876 - val_acc: 0.8763\n",
            "Epoch 12/30\n",
            "188/188 [==============================] - 1s 5ms/step - loss: 0.2411 - acc: 0.9122 - val_loss: 0.3970 - val_acc: 0.8748\n",
            "Epoch 13/30\n",
            "188/188 [==============================] - 1s 5ms/step - loss: 0.2370 - acc: 0.9137 - val_loss: 0.3805 - val_acc: 0.8793\n",
            "Epoch 14/30\n",
            "188/188 [==============================] - 1s 5ms/step - loss: 0.2462 - acc: 0.9113 - val_loss: 0.4111 - val_acc: 0.8738\n",
            "Epoch 15/30\n",
            "188/188 [==============================] - 1s 5ms/step - loss: 0.2521 - acc: 0.9092 - val_loss: 0.4136 - val_acc: 0.8717\n",
            "Epoch 16/30\n",
            "188/188 [==============================] - 1s 6ms/step - loss: 0.2339 - acc: 0.9146 - val_loss: 0.4283 - val_acc: 0.8699\n",
            "Epoch 17/30\n",
            "188/188 [==============================] - 1s 6ms/step - loss: 0.2341 - acc: 0.9145 - val_loss: 0.3943 - val_acc: 0.8779\n",
            "Epoch 18/30\n",
            "188/188 [==============================] - 1s 7ms/step - loss: 0.2281 - acc: 0.9166 - val_loss: 0.4030 - val_acc: 0.8797\n",
            "Epoch 19/30\n",
            "188/188 [==============================] - 1s 5ms/step - loss: 0.2227 - acc: 0.9184 - val_loss: 0.4323 - val_acc: 0.8673\n",
            "Epoch 20/30\n",
            "188/188 [==============================] - 1s 5ms/step - loss: 0.2308 - acc: 0.9155 - val_loss: 0.3833 - val_acc: 0.8824\n",
            "Epoch 21/30\n",
            "188/188 [==============================] - 1s 5ms/step - loss: 0.2320 - acc: 0.9153 - val_loss: 0.3869 - val_acc: 0.8822\n",
            "Epoch 22/30\n",
            "188/188 [==============================] - 1s 5ms/step - loss: 0.2252 - acc: 0.9171 - val_loss: 0.3993 - val_acc: 0.8823\n",
            "Epoch 23/30\n",
            "188/188 [==============================] - 1s 5ms/step - loss: 0.2318 - acc: 0.9152 - val_loss: 0.4146 - val_acc: 0.8718\n",
            "Epoch 24/30\n",
            "188/188 [==============================] - 1s 5ms/step - loss: 0.2289 - acc: 0.9158 - val_loss: 0.4025 - val_acc: 0.8767\n",
            "Epoch 25/30\n",
            "188/188 [==============================] - 1s 5ms/step - loss: 0.2293 - acc: 0.9159 - val_loss: 0.4305 - val_acc: 0.8706\n",
            "Epoch 26/30\n",
            "188/188 [==============================] - 1s 5ms/step - loss: 0.2074 - acc: 0.9234 - val_loss: 0.4494 - val_acc: 0.8758\n",
            "Epoch 27/30\n",
            "188/188 [==============================] - 1s 5ms/step - loss: 0.2167 - acc: 0.9207 - val_loss: 0.4333 - val_acc: 0.8727\n",
            "Epoch 28/30\n",
            "188/188 [==============================] - 1s 5ms/step - loss: 0.2315 - acc: 0.9164 - val_loss: 0.4436 - val_acc: 0.8728\n",
            "Epoch 29/30\n",
            "188/188 [==============================] - 1s 5ms/step - loss: 0.2247 - acc: 0.9174 - val_loss: 0.3880 - val_acc: 0.8809\n",
            "Epoch 30/30\n",
            "188/188 [==============================] - 1s 6ms/step - loss: 0.2197 - acc: 0.9190 - val_loss: 0.3750 - val_acc: 0.8863\n"
          ]
        }
      ]
    },
    {
      "cell_type": "code",
      "source": [
        "#model1.compile(loss='mse',optimizer='SGD',metrics=['acc'])"
      ],
      "metadata": {
        "id": "57Vw9tAqwagu"
      },
      "execution_count": null,
      "outputs": []
    },
    {
      "cell_type": "code",
      "source": [
        "#model2.compile(loss='mse',optimizer='SGD',metrics=['acc'])"
      ],
      "metadata": {
        "id": "Liwlti2mwabW"
      },
      "execution_count": null,
      "outputs": []
    },
    {
      "cell_type": "code",
      "source": [
        "#model3.compile(loss='mse',optimizer='Adam',metrics=['acc'])"
      ],
      "metadata": {
        "id": "jK1f6KwfwaWG"
      },
      "execution_count": null,
      "outputs": []
    },
    {
      "cell_type": "code",
      "source": [
        "#h1 = model1.fit(X_train, y_train_one_hot, epochs=30, batch_size=256, validation_data=(X_val, y_val_one_hot))"
      ],
      "metadata": {
        "id": "DfBIGmIHwaTW"
      },
      "execution_count": null,
      "outputs": []
    },
    {
      "cell_type": "code",
      "source": [
        "#h2 = model2.fit(X_train, y_train_one_hot, epochs=30, batch_size=256, validation_data=(X_val, y_val_one_hot))"
      ],
      "metadata": {
        "id": "JvJqHpJk2DbG"
      },
      "execution_count": null,
      "outputs": []
    },
    {
      "cell_type": "code",
      "source": [
        "#h3 = model3.fit(X_train, y_train_one_hot, epochs=30, batch_size=256, validation_data=(X_val, y_val_one_hot))"
      ],
      "metadata": {
        "id": "tfeejtev2DWV"
      },
      "execution_count": null,
      "outputs": []
    },
    {
      "cell_type": "code",
      "source": [
        "plt.figure(figsize=(15,5))\n",
        "plt.plot(h1.history['acc'], label='h1_acc',color='red')\n",
        "plt.plot(h1.history['val_acc'], label='h1_val_acc',color='yellow')\n",
        "\n",
        "plt.plot(h2.history['acc'], label='h2_acc',color='blue')\n",
        "plt.plot(h2.history['val_acc'], label='h2_val_acc',color='green')\n",
        "\n",
        "plt.plot(h3.history['acc'], label='h3_acc',color='cyan')\n",
        "plt.plot(h3.history['val_acc'], label='h3_val_acc',color='violet')\n",
        "plt.legend(loc='upper right')\n",
        "plt.show()"
      ],
      "metadata": {
        "colab": {
          "base_uri": "https://localhost:8080/",
          "height": 361
        },
        "id": "gTzMIdQE2DPE",
        "outputId": "defcaae6-ccec-48fb-af08-419784a2096c"
      },
      "execution_count": null,
      "outputs": [
        {
          "output_type": "display_data",
          "data": {
            "text/plain": [
              "<Figure size 1500x500 with 1 Axes>"
            ],
            "image/png": "[encoded data removed]"
          },
          "metadata": {}
        }
      ]
    },
    {
      "cell_type": "markdown",
      "source": [
        "### 최적화 모델 찾기\n",
        "- 모델 체크 포인트 : 모델저장\n",
        "- 얼리스탑핑 : 조기학습중단(과대적합, 시간낭비 방지)"
      ],
      "metadata": {
        "id": "qsr0XuGdEG7j"
      }
    },
    {
      "cell_type": "code",
      "source": [
        "from tensorflow.keras.callbacks import ModelCheckpoint, EarlyStopping"
      ],
      "metadata": {
        "id": "MhVaAZ4jEGsk"
      },
      "execution_count": null,
      "outputs": []
    },
    {
      "cell_type": "code",
      "source": [
        "# 1. 모델 저장\n",
        "# 저장 경로 및 파일명 형태 설정\n",
        "save_path = '/content/drive/MyDrive/sw캠프 데이터 비즈니스 과정/model/FashionModel_{epoch:03d}_{val_acc:.4f}.hdf5'\n",
        "# d : 10진수 / 03d : 0이 3개 붙어있는 형태의 자리수(001, 002, ...)\n",
        "# f : 소수점 / .4f : 소수점 4자리까지 형태의 자리수(0.0001, 0.0002)\n",
        "# hdf5: 저장되는 모델의 파일의 확장자명\n",
        "\n",
        "f_mckp = ModelCheckpoint(\n",
        "    filepath=save_path, # 파일경로설정\n",
        "    monitor='val_acc', # 해당값을 기준으로 파일을 저장\n",
        "    save_best_only = True, # monitor 값이 가장 최고점 혹은 최저점을 갱신했을 경우 모델을 지정\n",
        "    mode = 'max', # save_best_only가 True인 경우 갱신값의 최대, 최소 결정\n",
        "    verbose = 1  # 모델 개선 및 저장 메시지를 출력\n",
        "    )"
      ],
      "metadata": {
        "id": "w0yrjjBmEGoc"
      },
      "execution_count": null,
      "outputs": []
    },
    {
      "cell_type": "code",
      "source": [
        "from pandas.core.reshape.merge import partial\n",
        "# 2. 학습 조기 중단\n",
        "f_early = EarlyStopping(\n",
        "    monitor='val_acc',\n",
        "    patience = 5, # monitor의 값 개선을 몇번이나 기다려줄지를 결정\n",
        "\n",
        "    )\n",
        "# -> 모델 학습시 val_acc가 5번의 epochs를 돌 동안 개선되지 않으면 학습을 중단"
      ],
      "metadata": {
        "id": "HQagrxq_EGlE"
      },
      "execution_count": null,
      "outputs": []
    },
    {
      "cell_type": "code",
      "source": [
        "model4 = Sequential()\n",
        "model4.add(Flatten(input_shape =(28, 28)))\n",
        "model4.add(Dense(1500, activation='relu'))\n",
        "model4.add(Dense(500, activation='relu'))\n",
        "model4.add(Dense(100, activation='relu'))\n",
        "model4.add(Dense(10, activation='softmax'))\n",
        "\n",
        "model4.compile(loss='categorical_crossentropy',optimizer='Adam',metrics=['acc'])\n",
        "\n",
        "h4 = model4.fit(X_train, y_train_one_hot, epochs=30, batch_size=256, validation_split=0.2, callbacks=[f_mckp,f_early])"
      ],
      "metadata": {
        "colab": {
          "base_uri": "https://localhost:8080/"
        },
        "id": "HHKEzcMGEGZD",
        "outputId": "e682fbea-f99a-45c3-ef47-568c4841bd5d"
      },
      "execution_count": null,
      "outputs": [
        {
          "output_type": "stream",
          "name": "stdout",
          "text": [
            "Epoch 1/30\n",
            "179/188 [===========================>..] - ETA: 0s - loss: 9.6162 - acc: 0.7191 \n",
            "Epoch 1: val_acc improved from -inf to 0.81058, saving model to /content/drive/MyDrive/sw캠프 데이터 비즈니스 과정/model/FashionModel_001_0.8106.hdf5\n",
            "188/188 [==============================] - 4s 8ms/step - loss: 9.2299 - acc: 0.7227 - val_loss: 0.9632 - val_acc: 0.8106\n",
            "Epoch 2/30\n",
            "180/188 [===========================>..] - ETA: 0s - loss: 0.7710 - acc: 0.8229\n",
            "Epoch 2: val_acc improved from 0.81058 to 0.84250, saving model to /content/drive/MyDrive/sw캠프 데이터 비즈니스 과정/model/FashionModel_002_0.8425.hdf5\n",
            "188/188 [==============================] - 1s 5ms/step - loss: 0.7674 - acc: 0.8231 - val_loss: 0.6352 - val_acc: 0.8425\n",
            "Epoch 3/30\n",
            "178/188 [===========================>..] - ETA: 0s - loss: 0.5176 - acc: 0.8508\n",
            "Epoch 3: val_acc improved from 0.84250 to 0.85450, saving model to /content/drive/MyDrive/sw캠프 데이터 비즈니스 과정/model/FashionModel_003_0.8545.hdf5\n",
            "188/188 [==============================] - 1s 5ms/step - loss: 0.5203 - acc: 0.8504 - val_loss: 0.5066 - val_acc: 0.8545\n",
            "Epoch 4/30\n",
            "184/188 [============================>.] - ETA: 0s - loss: 0.4251 - acc: 0.8648\n",
            "Epoch 4: val_acc improved from 0.85450 to 0.86700, saving model to /content/drive/MyDrive/sw캠프 데이터 비즈니스 과정/model/FashionModel_004_0.8670.hdf5\n",
            "188/188 [==============================] - 1s 5ms/step - loss: 0.4244 - acc: 0.8650 - val_loss: 0.4321 - val_acc: 0.8670\n",
            "Epoch 5/30\n",
            "183/188 [============================>.] - ETA: 0s - loss: 0.3568 - acc: 0.8780\n",
            "Epoch 5: val_acc did not improve from 0.86700\n",
            "188/188 [==============================] - 1s 5ms/step - loss: 0.3595 - acc: 0.8771 - val_loss: 0.8159 - val_acc: 0.7782\n",
            "Epoch 6/30\n",
            "183/188 [============================>.] - ETA: 0s - loss: 0.3288 - acc: 0.8858\n",
            "Epoch 6: val_acc improved from 0.86700 to 0.87000, saving model to /content/drive/MyDrive/sw캠프 데이터 비즈니스 과정/model/FashionModel_006_0.8700.hdf5\n",
            "188/188 [==============================] - 1s 6ms/step - loss: 0.3281 - acc: 0.8859 - val_loss: 0.4145 - val_acc: 0.8700\n",
            "Epoch 7/30\n",
            "177/188 [===========================>..] - ETA: 0s - loss: 0.2974 - acc: 0.8950\n",
            "Epoch 7: val_acc improved from 0.87000 to 0.87683, saving model to /content/drive/MyDrive/sw캠프 데이터 비즈니스 과정/model/FashionModel_007_0.8768.hdf5\n",
            "188/188 [==============================] - 1s 5ms/step - loss: 0.2971 - acc: 0.8953 - val_loss: 0.3861 - val_acc: 0.8768\n",
            "Epoch 8/30\n",
            "185/188 [============================>.] - ETA: 0s - loss: 0.2886 - acc: 0.8980\n",
            "Epoch 8: val_acc did not improve from 0.87683\n",
            "188/188 [==============================] - 1s 6ms/step - loss: 0.2887 - acc: 0.8981 - val_loss: 0.4434 - val_acc: 0.8658\n",
            "Epoch 9/30\n",
            "188/188 [==============================] - ETA: 0s - loss: 0.2689 - acc: 0.9022\n",
            "Epoch 9: val_acc did not improve from 0.87683\n",
            "188/188 [==============================] - 1s 5ms/step - loss: 0.2689 - acc: 0.9022 - val_loss: 0.3871 - val_acc: 0.8744\n",
            "Epoch 10/30\n",
            "186/188 [============================>.] - ETA: 0s - loss: 0.2558 - acc: 0.9065\n",
            "Epoch 10: val_acc improved from 0.87683 to 0.87825, saving model to /content/drive/MyDrive/sw캠프 데이터 비즈니스 과정/model/FashionModel_010_0.8783.hdf5\n",
            "188/188 [==============================] - 1s 7ms/step - loss: 0.2554 - acc: 0.9065 - val_loss: 0.3695 - val_acc: 0.8783\n",
            "Epoch 11/30\n",
            "181/188 [===========================>..] - ETA: 0s - loss: 0.2460 - acc: 0.9098\n",
            "Epoch 11: val_acc improved from 0.87825 to 0.88142, saving model to /content/drive/MyDrive/sw캠프 데이터 비즈니스 과정/model/FashionModel_011_0.8814.hdf5\n",
            "188/188 [==============================] - 1s 8ms/step - loss: 0.2464 - acc: 0.9100 - val_loss: 0.3818 - val_acc: 0.8814\n",
            "Epoch 12/30\n",
            "186/188 [============================>.] - ETA: 0s - loss: 0.2485 - acc: 0.9091\n",
            "Epoch 12: val_acc did not improve from 0.88142\n",
            "188/188 [==============================] - 1s 7ms/step - loss: 0.2478 - acc: 0.9093 - val_loss: 0.3916 - val_acc: 0.8791\n",
            "Epoch 13/30\n",
            "182/188 [============================>.] - ETA: 0s - loss: 0.2344 - acc: 0.9135\n",
            "Epoch 13: val_acc did not improve from 0.88142\n",
            "188/188 [==============================] - 1s 6ms/step - loss: 0.2344 - acc: 0.9134 - val_loss: 0.4068 - val_acc: 0.8735\n",
            "Epoch 14/30\n",
            "177/188 [===========================>..] - ETA: 0s - loss: 0.2284 - acc: 0.9166\n",
            "Epoch 14: val_acc did not improve from 0.88142\n",
            "188/188 [==============================] - 1s 5ms/step - loss: 0.2278 - acc: 0.9165 - val_loss: 0.3751 - val_acc: 0.8798\n",
            "Epoch 15/30\n",
            "187/188 [============================>.] - ETA: 0s - loss: 0.2184 - acc: 0.9205\n",
            "Epoch 15: val_acc did not improve from 0.88142\n",
            "188/188 [==============================] - 1s 5ms/step - loss: 0.2183 - acc: 0.9205 - val_loss: 0.4264 - val_acc: 0.8658\n",
            "Epoch 16/30\n",
            "176/188 [===========================>..] - ETA: 0s - loss: 0.2311 - acc: 0.9150\n",
            "Epoch 16: val_acc did not improve from 0.88142\n",
            "188/188 [==============================] - 1s 5ms/step - loss: 0.2317 - acc: 0.9148 - val_loss: 0.3876 - val_acc: 0.8778\n"
          ]
        }
      ]
    },
    {
      "cell_type": "code",
      "source": [
        "from tensorflow.keras.models import load_model"
      ],
      "metadata": {
        "id": "TCXgNSqzKmgi"
      },
      "execution_count": null,
      "outputs": []
    },
    {
      "cell_type": "code",
      "source": [
        "best_model =load_model('/content/drive/MyDrive/sw캠프 데이터 비즈니스 과정/model/FashionModel_001_0.8106.hdf5')"
      ],
      "metadata": {
        "id": "gmnWJCTmL4kD"
      },
      "execution_count": null,
      "outputs": []
    },
    {
      "cell_type": "code",
      "source": [
        "best_model.evaluate(X_test, y_test_one_hot)"
      ],
      "metadata": {
        "colab": {
          "base_uri": "https://localhost:8080/"
        },
        "id": "Pg6bdounMKRM",
        "outputId": "6dd5cf9d-ad9f-46e0-baff-07cb282f02d6"
      },
      "execution_count": null,
      "outputs": [
        {
          "output_type": "stream",
          "name": "stdout",
          "text": [
            "313/313 [==============================] - 1s 3ms/step - loss: 1.0284 - acc: 0.8063\n"
          ]
        },
        {
          "output_type": "execute_result",
          "data": {
            "text/plain": [
              "[1.0283621549606323, 0.8062999844551086]"
            ]
          },
          "metadata": {},
          "execution_count": 28
        }
      ]
    }
  ]
}