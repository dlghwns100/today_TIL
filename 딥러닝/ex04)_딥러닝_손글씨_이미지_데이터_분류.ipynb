{
  "nbformat": 4,
  "nbformat_minor": 0,
  "metadata": {
    "colab": {
      "provenance": [],
      "gpuType": "T4",
      "include_colab_link": true
    },
    "kernelspec": {
      "name": "python3",
      "display_name": "Python 3"
    },
    "language_info": {
      "name": "python"
    },
    "accelerator": "GPU"
  },
  "cells": [
    {
      "cell_type": "markdown",
      "metadata": {
        "id": "view-in-github",
        "colab_type": "text"
      },
      "source": [
        "<a href=\"https://colab.research.google.com/github/dlghwns100/today_TIL/blob/main/ex04)_%EB%94%A5%EB%9F%AC%EB%8B%9D_%EC%86%90%EA%B8%80%EC%94%A8_%EC%9D%B4%EB%AF%B8%EC%A7%80_%EB%8D%B0%EC%9D%B4%ED%84%B0_%EB%B6%84%EB%A5%98.ipynb\" target=\"_parent\"><img src=\"https://colab.research.google.com/assets/colab-badge.svg\" alt=\"Open In Colab\"/></a>"
      ]
    },
    {
      "cell_type": "markdown",
      "source": [
        "첫 번째 시간\n",
        "- 실습"
      ],
      "metadata": {
        "id": "h9tkI2SpF1a8"
      }
    },
    {
      "cell_type": "code",
      "source": [
        "from google.colab import drive\n",
        "drive.mount('/content/drive')"
      ],
      "metadata": {
        "colab": {
          "base_uri": "https://localhost:8080/"
        },
        "id": "-iZVVwhN_t5j",
        "outputId": "31d94e6f-c031-4be7-fd2f-8a928ec7a80a"
      },
      "execution_count": null,
      "outputs": [
        {
          "output_type": "stream",
          "name": "stdout",
          "text": [
            "Mounted at /content/drive\n"
          ]
        }
      ]
    },
    {
      "cell_type": "markdown",
      "source": [
        "ㄴ### 목표\n",
        "- 0~9 까지의 손글씨 이미지 데이터를 분류하는 신경망 모델을 만들어보자!"
      ],
      "metadata": {
        "id": "59RuYcprJSa_"
      }
    },
    {
      "cell_type": "code",
      "execution_count": null,
      "metadata": {
        "id": "7u7RqXq2OgkP"
      },
      "outputs": [],
      "source": [
        "import numpy as np\n",
        "import pandas as pd\n",
        "import matplotlib.pyplot as plt\n",
        "# keras 에서 지원하는 딥러닝 학습용 손글씨 이미지 데이터 임포트\n",
        "# mnist(Modified National Institute of Standards and Technology), NIST : 미국표준기술연구소\n",
        "from tensorflow.keras.datasets import mnist"
      ]
    },
    {
      "cell_type": "code",
      "source": [
        "data = mnist.load_data()"
      ],
      "metadata": {
        "id": "iPZxeKfmmgqJ",
        "colab": {
          "base_uri": "https://localhost:8080/"
        },
        "outputId": "fc80747b-b9e0-44e6-a824-bd022b98635b"
      },
      "execution_count": null,
      "outputs": [
        {
          "output_type": "stream",
          "name": "stdout",
          "text": [
            "Downloading data from https://storage.googleapis.com/tensorflow/tf-keras-datasets/mnist.npz\n",
            "11490434/11490434 [==============================] - 0s 0us/step\n"
          ]
        }
      ]
    },
    {
      "cell_type": "code",
      "source": [
        "len(data)"
      ],
      "metadata": {
        "colab": {
          "base_uri": "https://localhost:8080/"
        },
        "id": "WGON7EQKmkfk",
        "outputId": "d3c1d55c-b0c9-4f9a-e070-83fa89cddde7"
      },
      "execution_count": null,
      "outputs": [
        {
          "output_type": "execute_result",
          "data": {
            "text/plain": [
              "2"
            ]
          },
          "metadata": {},
          "execution_count": 4
        }
      ]
    },
    {
      "cell_type": "code",
      "source": [
        "data"
      ],
      "metadata": {
        "colab": {
          "base_uri": "https://localhost:8080/"
        },
        "id": "jZY1XULympZR",
        "outputId": "fab1ad5c-d608-4c71-a480-da0d0a0b839d"
      },
      "execution_count": null,
      "outputs": [
        {
          "output_type": "execute_result",
          "data": {
            "text/plain": [
              "((array([[[0, 0, 0, ..., 0, 0, 0],\n",
              "          [0, 0, 0, ..., 0, 0, 0],\n",
              "          [0, 0, 0, ..., 0, 0, 0],\n",
              "          ...,\n",
              "          [0, 0, 0, ..., 0, 0, 0],\n",
              "          [0, 0, 0, ..., 0, 0, 0],\n",
              "          [0, 0, 0, ..., 0, 0, 0]],\n",
              "  \n",
              "         [[0, 0, 0, ..., 0, 0, 0],\n",
              "          [0, 0, 0, ..., 0, 0, 0],\n",
              "          [0, 0, 0, ..., 0, 0, 0],\n",
              "          ...,\n",
              "          [0, 0, 0, ..., 0, 0, 0],\n",
              "          [0, 0, 0, ..., 0, 0, 0],\n",
              "          [0, 0, 0, ..., 0, 0, 0]],\n",
              "  \n",
              "         [[0, 0, 0, ..., 0, 0, 0],\n",
              "          [0, 0, 0, ..., 0, 0, 0],\n",
              "          [0, 0, 0, ..., 0, 0, 0],\n",
              "          ...,\n",
              "          [0, 0, 0, ..., 0, 0, 0],\n",
              "          [0, 0, 0, ..., 0, 0, 0],\n",
              "          [0, 0, 0, ..., 0, 0, 0]],\n",
              "  \n",
              "         ...,\n",
              "  \n",
              "         [[0, 0, 0, ..., 0, 0, 0],\n",
              "          [0, 0, 0, ..., 0, 0, 0],\n",
              "          [0, 0, 0, ..., 0, 0, 0],\n",
              "          ...,\n",
              "          [0, 0, 0, ..., 0, 0, 0],\n",
              "          [0, 0, 0, ..., 0, 0, 0],\n",
              "          [0, 0, 0, ..., 0, 0, 0]],\n",
              "  \n",
              "         [[0, 0, 0, ..., 0, 0, 0],\n",
              "          [0, 0, 0, ..., 0, 0, 0],\n",
              "          [0, 0, 0, ..., 0, 0, 0],\n",
              "          ...,\n",
              "          [0, 0, 0, ..., 0, 0, 0],\n",
              "          [0, 0, 0, ..., 0, 0, 0],\n",
              "          [0, 0, 0, ..., 0, 0, 0]],\n",
              "  \n",
              "         [[0, 0, 0, ..., 0, 0, 0],\n",
              "          [0, 0, 0, ..., 0, 0, 0],\n",
              "          [0, 0, 0, ..., 0, 0, 0],\n",
              "          ...,\n",
              "          [0, 0, 0, ..., 0, 0, 0],\n",
              "          [0, 0, 0, ..., 0, 0, 0],\n",
              "          [0, 0, 0, ..., 0, 0, 0]]], dtype=uint8),\n",
              "  array([5, 0, 4, ..., 5, 6, 8], dtype=uint8)),\n",
              " (array([[[0, 0, 0, ..., 0, 0, 0],\n",
              "          [0, 0, 0, ..., 0, 0, 0],\n",
              "          [0, 0, 0, ..., 0, 0, 0],\n",
              "          ...,\n",
              "          [0, 0, 0, ..., 0, 0, 0],\n",
              "          [0, 0, 0, ..., 0, 0, 0],\n",
              "          [0, 0, 0, ..., 0, 0, 0]],\n",
              "  \n",
              "         [[0, 0, 0, ..., 0, 0, 0],\n",
              "          [0, 0, 0, ..., 0, 0, 0],\n",
              "          [0, 0, 0, ..., 0, 0, 0],\n",
              "          ...,\n",
              "          [0, 0, 0, ..., 0, 0, 0],\n",
              "          [0, 0, 0, ..., 0, 0, 0],\n",
              "          [0, 0, 0, ..., 0, 0, 0]],\n",
              "  \n",
              "         [[0, 0, 0, ..., 0, 0, 0],\n",
              "          [0, 0, 0, ..., 0, 0, 0],\n",
              "          [0, 0, 0, ..., 0, 0, 0],\n",
              "          ...,\n",
              "          [0, 0, 0, ..., 0, 0, 0],\n",
              "          [0, 0, 0, ..., 0, 0, 0],\n",
              "          [0, 0, 0, ..., 0, 0, 0]],\n",
              "  \n",
              "         ...,\n",
              "  \n",
              "         [[0, 0, 0, ..., 0, 0, 0],\n",
              "          [0, 0, 0, ..., 0, 0, 0],\n",
              "          [0, 0, 0, ..., 0, 0, 0],\n",
              "          ...,\n",
              "          [0, 0, 0, ..., 0, 0, 0],\n",
              "          [0, 0, 0, ..., 0, 0, 0],\n",
              "          [0, 0, 0, ..., 0, 0, 0]],\n",
              "  \n",
              "         [[0, 0, 0, ..., 0, 0, 0],\n",
              "          [0, 0, 0, ..., 0, 0, 0],\n",
              "          [0, 0, 0, ..., 0, 0, 0],\n",
              "          ...,\n",
              "          [0, 0, 0, ..., 0, 0, 0],\n",
              "          [0, 0, 0, ..., 0, 0, 0],\n",
              "          [0, 0, 0, ..., 0, 0, 0]],\n",
              "  \n",
              "         [[0, 0, 0, ..., 0, 0, 0],\n",
              "          [0, 0, 0, ..., 0, 0, 0],\n",
              "          [0, 0, 0, ..., 0, 0, 0],\n",
              "          ...,\n",
              "          [0, 0, 0, ..., 0, 0, 0],\n",
              "          [0, 0, 0, ..., 0, 0, 0],\n",
              "          [0, 0, 0, ..., 0, 0, 0]]], dtype=uint8),\n",
              "  array([7, 2, 1, ..., 4, 5, 6], dtype=uint8)))"
            ]
          },
          "metadata": {},
          "execution_count": 5
        }
      ]
    },
    {
      "cell_type": "code",
      "source": [
        "(X_train, y_train), (X_test, y_test) = data"
      ],
      "metadata": {
        "id": "MBQa-hNZ7BIc"
      },
      "execution_count": null,
      "outputs": []
    },
    {
      "cell_type": "code",
      "source": [
        "print(X_train.shape)\n",
        "print(y_train.shape)\n",
        "print(X_test.shape)\n",
        "print(y_test.shape)\n",
        "\n",
        "# 이미지라는 2차원 데이터를 다루기 때문에 shape의 형태는 3칸이 나오게됨\n",
        "# (데이터의 수, 세로픽셀수, 가로픽셀수)\n"
      ],
      "metadata": {
        "colab": {
          "base_uri": "https://localhost:8080/"
        },
        "id": "vAFLaSd_7E1i",
        "outputId": "0b6c1931-07c4-4157-bf2f-7d3b7d57f941"
      },
      "execution_count": null,
      "outputs": [
        {
          "output_type": "stream",
          "name": "stdout",
          "text": [
            "(60000, 28, 28)\n",
            "(60000,)\n",
            "(10000, 28, 28)\n",
            "(10000,)\n"
          ]
        }
      ]
    },
    {
      "cell_type": "code",
      "source": [
        "y_train"
      ],
      "metadata": {
        "colab": {
          "base_uri": "https://localhost:8080/"
        },
        "id": "XicmKX428X2D",
        "outputId": "8447699a-304d-475c-e749-6bbb9a84aaee"
      },
      "execution_count": null,
      "outputs": [
        {
          "output_type": "execute_result",
          "data": {
            "text/plain": [
              "array([5, 0, 4, ..., 5, 6, 8], dtype=uint8)"
            ]
          },
          "metadata": {},
          "execution_count": 8
        }
      ]
    },
    {
      "cell_type": "code",
      "source": [
        "# imshow : 이미지 데이터를 그림으로 출력해주는 함수\n",
        "# cmap = 'gray' 이미지를 흑백으로 전환시켜주는 인자\n",
        "plt.imshow(X_train[0], cmap = 'gray' );"
      ],
      "metadata": {
        "colab": {
          "base_uri": "https://localhost:8080/",
          "height": 430
        },
        "id": "SqqGuPF78ajq",
        "outputId": "8e30e1fc-c611-4975-9550-71cc581480ae"
      },
      "execution_count": null,
      "outputs": [
        {
          "output_type": "display_data",
          "data": {
            "text/plain": [
              "<Figure size 640x480 with 1 Axes>"
            ],
            "image/png": "[encoded data removed]"
          },
          "metadata": {}
        }
      ]
    },
    {
      "cell_type": "code",
      "source": [
        "print(X_train[59999])"
      ],
      "metadata": {
        "colab": {
          "base_uri": "https://localhost:8080/"
        },
        "id": "HFN-VnC49gwP",
        "outputId": "a513a628-57c2-4bed-ef11-cfd9d8ecfe88"
      },
      "execution_count": null,
      "outputs": [
        {
          "output_type": "stream",
          "name": "stdout",
          "text": [
            "[[  0   0   0   0   0   0   0   0   0   0   0   0   0   0   0   0   0   0\n",
            "    0   0   0   0   0   0   0   0   0   0]\n",
            " [  0   0   0   0   0   0   0   0   0   0   0   0   0   0   0   0   0   0\n",
            "    0   0   0   0   0   0   0   0   0   0]\n",
            " [  0   0   0   0   0   0   0   0   0   0   0   0   0   0   0   0   0   0\n",
            "    0   0   0   0   0   0   0   0   0   0]\n",
            " [  0   0   0   0   0   0   0   0   0   0   0   0   0   0   0   0   0   0\n",
            "    0   0   0   0   0   0   0   0   0   0]\n",
            " [  0   0   0   0   0   0   0   0   0   0   0   0   0   0   0   0   0   0\n",
            "    0   0   0   0   0   0   0   0   0   0]\n",
            " [  0   0   0   0   0   0   0   0   0   0   0   0   0   0   0   0   0   0\n",
            "    0   0   0   0   0   0   0   0   0   0]\n",
            " [  0   0   0   0   0   0   0   0   0   0   0   0   0   0   0   0  38  48\n",
            "   48  22   0   0   0   0   0   0   0   0]\n",
            " [  0   0   0   0   0   0   0   0   0   0   0   0   0  62  97 198 243 254\n",
            "  254 212  27   0   0   0   0   0   0   0]\n",
            " [  0   0   0   0   0   0   0   0   0   0   0   0  67 172 254 254 225 218\n",
            "  218 237 248  40   0  21 164 187   0   0]\n",
            " [  0   0   0   0   0   0   0   0   0   0   0  89 219 254  97  67  14   0\n",
            "    0  92 231 122  23 203 236  59   0   0]\n",
            " [  0   0   0   0   0   0   0   0   0   0  25 217 242  92   4   0   0   0\n",
            "    0   4 147 253 240 232  92   0   0   0]\n",
            " [  0   0   0   0   0   0   0   0   0   0 101 255  92   0   0   0   0   0\n",
            "    0 105 254 254 177  11   0   0   0   0]\n",
            " [  0   0   0   0   0   0   0   0   0   0 167 244  41   0   0   0   7  76\n",
            "  199 238 239  94  10   0   0   0   0   0]\n",
            " [  0   0   0   0   0   0   0   0   0   0 192 121   0   0   2  63 180 254\n",
            "  233 126   0   0   0   0   0   0   0   0]\n",
            " [  0   0   0   0   0   0   0   0   0   0 190 196  14   2  97 254 252 146\n",
            "   52   0   0   0   0   0   0   0   0   0]\n",
            " [  0   0   0   0   0   0   0   0   0   0 130 225  71 180 232 181  60   0\n",
            "    0   0   0   0   0   0   0   0   0   0]\n",
            " [  0   0   0   0   0   0   0   0   0   0 130 254 254 230  46   0   0   0\n",
            "    0   0   0   0   0   0   0   0   0   0]\n",
            " [  0   0   0   0   0   0   0   0   6  77 244 254 162   4   0   0   0   0\n",
            "    0   0   0   0   0   0   0   0   0   0]\n",
            " [  0   0   0   0   0   0   0   0 110 254 218 254 116   0   0   0   0   0\n",
            "    0   0   0   0   0   0   0   0   0   0]\n",
            " [  0   0   0   0   0   0   0 131 254 154  28 213  86   0   0   0   0   0\n",
            "    0   0   0   0   0   0   0   0   0   0]\n",
            " [  0   0   0   0   0   0  66 209 153  19  19 233  60   0   0   0   0   0\n",
            "    0   0   0   0   0   0   0   0   0   0]\n",
            " [  0   0   0   0   0   0 142 254 165   0  14 216 167   0   0   0   0   0\n",
            "    0   0   0   0   0   0   0   0   0   0]\n",
            " [  0   0   0   0   0   0  90 254 175   0  18 229  92   0   0   0   0   0\n",
            "    0   0   0   0   0   0   0   0   0   0]\n",
            " [  0   0   0   0   0   0  26 229 249 176 222 244  44   0   0   0   0   0\n",
            "    0   0   0   0   0   0   0   0   0   0]\n",
            " [  0   0   0   0   0   0   0  73 193 197 134   0   0   0   0   0   0   0\n",
            "    0   0   0   0   0   0   0   0   0   0]\n",
            " [  0   0   0   0   0   0   0   0   0   0   0   0   0   0   0   0   0   0\n",
            "    0   0   0   0   0   0   0   0   0   0]\n",
            " [  0   0   0   0   0   0   0   0   0   0   0   0   0   0   0   0   0   0\n",
            "    0   0   0   0   0   0   0   0   0   0]\n",
            " [  0   0   0   0   0   0   0   0   0   0   0   0   0   0   0   0   0   0\n",
            "    0   0   0   0   0   0   0   0   0   0]]\n"
          ]
        }
      ]
    },
    {
      "cell_type": "markdown",
      "source": [
        "### 정답 데이터 원핫인코딩\n",
        "- pd.get_dummies : 판다스 지원 원핫인코딩\n",
        "- to_categorical : keras 에서 지원 원핫인코딩"
      ],
      "metadata": {
        "id": "N_KwhDla-bnx"
      }
    },
    {
      "cell_type": "code",
      "source": [
        "pd.get_dummies(y_train)"
      ],
      "metadata": {
        "colab": {
          "base_uri": "https://localhost:8080/",
          "height": 423
        },
        "id": "Qs0vYdvm95Ug",
        "outputId": "f34ee198-4762-4f40-c28f-c7b7570c2121"
      },
      "execution_count": null,
      "outputs": [
        {
          "output_type": "execute_result",
          "data": {
            "text/plain": [
              "       0  1  2  3  4  5  6  7  8  9\n",
              "0      0  0  0  0  0  1  0  0  0  0\n",
              "1      1  0  0  0  0  0  0  0  0  0\n",
              "2      0  0  0  0  1  0  0  0  0  0\n",
              "3      0  1  0  0  0  0  0  0  0  0\n",
              "4      0  0  0  0  0  0  0  0  0  1\n",
              "...   .. .. .. .. .. .. .. .. .. ..\n",
              "59995  0  0  0  0  0  0  0  0  1  0\n",
              "59996  0  0  0  1  0  0  0  0  0  0\n",
              "59997  0  0  0  0  0  1  0  0  0  0\n",
              "59998  0  0  0  0  0  0  1  0  0  0\n",
              "59999  0  0  0  0  0  0  0  0  1  0\n",
              "\n",
              "[60000 rows x 10 columns]"
            ],
            "text/html": [
              "\n",
              "  <div id=\"df-08893f26-b2f4-4670-8d89-726bfc5e3e55\" class=\"colab-df-container\">\n",
              "    <div>\n",
              "<style scoped>\n",
              "    .dataframe tbody tr th:only-of-type {\n",
              "        vertical-align: middle;\n",
              "    }\n",
              "\n",
              "    .dataframe tbody tr th {\n",
              "        vertical-align: top;\n",
              "    }\n",
              "\n",
              "    .dataframe thead th {\n",
              "        text-align: right;\n",
              "    }\n",
              "</style>\n",
              "<table border=\"1\" class=\"dataframe\">\n",
              "  <thead>\n",
              "    <tr style=\"text-align: right;\">\n",
              "      <th></th>\n",
              "      <th>0</th>\n",
              "      <th>1</th>\n",
              "      <th>2</th>\n",
              "      <th>3</th>\n",
              "      <th>4</th>\n",
              "      <th>5</th>\n",
              "      <th>6</th>\n",
              "      <th>7</th>\n",
              "      <th>8</th>\n",
              "      <th>9</th>\n",
              "    </tr>\n",
              "  </thead>\n",
              "  <tbody>\n",
              "    <tr>\n",
              "      <th>0</th>\n",
              "      <td>0</td>\n",
              "      <td>0</td>\n",
              "      <td>0</td>\n",
              "      <td>0</td>\n",
              "      <td>0</td>\n",
              "      <td>1</td>\n",
              "      <td>0</td>\n",
              "      <td>0</td>\n",
              "      <td>0</td>\n",
              "      <td>0</td>\n",
              "    </tr>\n",
              "    <tr>\n",
              "      <th>1</th>\n",
              "      <td>1</td>\n",
              "      <td>0</td>\n",
              "      <td>0</td>\n",
              "      <td>0</td>\n",
              "      <td>0</td>\n",
              "      <td>0</td>\n",
              "      <td>0</td>\n",
              "      <td>0</td>\n",
              "      <td>0</td>\n",
              "      <td>0</td>\n",
              "    </tr>\n",
              "    <tr>\n",
              "      <th>2</th>\n",
              "      <td>0</td>\n",
              "      <td>0</td>\n",
              "      <td>0</td>\n",
              "      <td>0</td>\n",
              "      <td>1</td>\n",
              "      <td>0</td>\n",
              "      <td>0</td>\n",
              "      <td>0</td>\n",
              "      <td>0</td>\n",
              "      <td>0</td>\n",
              "    </tr>\n",
              "    <tr>\n",
              "      <th>3</th>\n",
              "      <td>0</td>\n",
              "      <td>1</td>\n",
              "      <td>0</td>\n",
              "      <td>0</td>\n",
              "      <td>0</td>\n",
              "      <td>0</td>\n",
              "      <td>0</td>\n",
              "      <td>0</td>\n",
              "      <td>0</td>\n",
              "      <td>0</td>\n",
              "    </tr>\n",
              "    <tr>\n",
              "      <th>4</th>\n",
              "      <td>0</td>\n",
              "      <td>0</td>\n",
              "      <td>0</td>\n",
              "      <td>0</td>\n",
              "      <td>0</td>\n",
              "      <td>0</td>\n",
              "      <td>0</td>\n",
              "      <td>0</td>\n",
              "      <td>0</td>\n",
              "      <td>1</td>\n",
              "    </tr>\n",
              "    <tr>\n",
              "      <th>...</th>\n",
              "      <td>...</td>\n",
              "      <td>...</td>\n",
              "      <td>...</td>\n",
              "      <td>...</td>\n",
              "      <td>...</td>\n",
              "      <td>...</td>\n",
              "      <td>...</td>\n",
              "      <td>...</td>\n",
              "      <td>...</td>\n",
              "      <td>...</td>\n",
              "    </tr>\n",
              "    <tr>\n",
              "      <th>59995</th>\n",
              "      <td>0</td>\n",
              "      <td>0</td>\n",
              "      <td>0</td>\n",
              "      <td>0</td>\n",
              "      <td>0</td>\n",
              "      <td>0</td>\n",
              "      <td>0</td>\n",
              "      <td>0</td>\n",
              "      <td>1</td>\n",
              "      <td>0</td>\n",
              "    </tr>\n",
              "    <tr>\n",
              "      <th>59996</th>\n",
              "      <td>0</td>\n",
              "      <td>0</td>\n",
              "      <td>0</td>\n",
              "      <td>1</td>\n",
              "      <td>0</td>\n",
              "      <td>0</td>\n",
              "      <td>0</td>\n",
              "      <td>0</td>\n",
              "      <td>0</td>\n",
              "      <td>0</td>\n",
              "    </tr>\n",
              "    <tr>\n",
              "      <th>59997</th>\n",
              "      <td>0</td>\n",
              "      <td>0</td>\n",
              "      <td>0</td>\n",
              "      <td>0</td>\n",
              "      <td>0</td>\n",
              "      <td>1</td>\n",
              "      <td>0</td>\n",
              "      <td>0</td>\n",
              "      <td>0</td>\n",
              "      <td>0</td>\n",
              "    </tr>\n",
              "    <tr>\n",
              "      <th>59998</th>\n",
              "      <td>0</td>\n",
              "      <td>0</td>\n",
              "      <td>0</td>\n",
              "      <td>0</td>\n",
              "      <td>0</td>\n",
              "      <td>0</td>\n",
              "      <td>1</td>\n",
              "      <td>0</td>\n",
              "      <td>0</td>\n",
              "      <td>0</td>\n",
              "    </tr>\n",
              "    <tr>\n",
              "      <th>59999</th>\n",
              "      <td>0</td>\n",
              "      <td>0</td>\n",
              "      <td>0</td>\n",
              "      <td>0</td>\n",
              "      <td>0</td>\n",
              "      <td>0</td>\n",
              "      <td>0</td>\n",
              "      <td>0</td>\n",
              "      <td>1</td>\n",
              "      <td>0</td>\n",
              "    </tr>\n",
              "  </tbody>\n",
              "</table>\n",
              "<p>60000 rows × 10 columns</p>\n",
              "</div>\n",
              "    <div class=\"colab-df-buttons\">\n",
              "\n",
              "  <div class=\"colab-df-container\">\n",
              "    <button class=\"colab-df-convert\" onclick=\"convertToInteractive('df-08893f26-b2f4-4670-8d89-726bfc5e3e55')\"\n",
              "            title=\"Convert this dataframe to an interactive table.\"\n",
              "            style=\"display:none;\">\n",
              "\n",
              "  <svg xmlns=\"http://www.w3.org/2000/svg\" height=\"24px\" viewBox=\"0 -960 960 960\">\n",
              "    <path d=\"M120-120v-720h720v720H120Zm60-500h600v-160H180v160Zm220 220h160v-160H400v160Zm0 220h160v-160H400v160ZM180-400h160v-160H180v160Zm440 0h160v-160H620v160ZM180-180h160v-160H180v160Zm440 0h160v-160H620v160Z\"/>\n",
              "  </svg>\n",
              "    </button>\n",
              "\n",
              "  <style>\n",
              "    .colab-df-container {\n",
              "      display:flex;\n",
              "      gap: 12px;\n",
              "    }\n",
              "\n",
              "    .colab-df-convert {\n",
              "      background-color: #E8F0FE;\n",
              "      border: none;\n",
              "      border-radius: 50%;\n",
              "      cursor: pointer;\n",
              "      display: none;\n",
              "      fill: #1967D2;\n",
              "      height: 32px;\n",
              "      padding: 0 0 0 0;\n",
              "      width: 32px;\n",
              "    }\n",
              "\n",
              "    .colab-df-convert:hover {\n",
              "      background-color: #E2EBFA;\n",
              "      box-shadow: 0px 1px 2px rgba(60, 64, 67, 0.3), 0px 1px 3px 1px rgba(60, 64, 67, 0.15);\n",
              "      fill: #174EA6;\n",
              "    }\n",
              "\n",
              "    .colab-df-buttons div {\n",
              "      margin-bottom: 4px;\n",
              "    }\n",
              "\n",
              "    [theme=dark] .colab-df-convert {\n",
              "      background-color: #3B4455;\n",
              "      fill: #D2E3FC;\n",
              "    }\n",
              "\n",
              "    [theme=dark] .colab-df-convert:hover {\n",
              "      background-color: #434B5C;\n",
              "      box-shadow: 0px 1px 3px 1px rgba(0, 0, 0, 0.15);\n",
              "      filter: drop-shadow(0px 1px 2px rgba(0, 0, 0, 0.3));\n",
              "      fill: #FFFFFF;\n",
              "    }\n",
              "  </style>\n",
              "\n",
              "    <script>\n",
              "      const buttonEl =\n",
              "        document.querySelector('#df-08893f26-b2f4-4670-8d89-726bfc5e3e55 button.colab-df-convert');\n",
              "      buttonEl.style.display =\n",
              "        google.colab.kernel.accessAllowed ? 'block' : 'none';\n",
              "\n",
              "      async function convertToInteractive(key) {\n",
              "        const element = document.querySelector('#df-08893f26-b2f4-4670-8d89-726bfc5e3e55');\n",
              "        const dataTable =\n",
              "          await google.colab.kernel.invokeFunction('convertToInteractive',\n",
              "                                                    [key], {});\n",
              "        if (!dataTable) return;\n",
              "\n",
              "        const docLinkHtml = 'Like what you see? Visit the ' +\n",
              "          '<a target=\"_blank\" href=https://colab.research.google.com/notebooks/data_table.ipynb>data table notebook</a>'\n",
              "          + ' to learn more about interactive tables.';\n",
              "        element.innerHTML = '';\n",
              "        dataTable['output_type'] = 'display_data';\n",
              "        await google.colab.output.renderOutput(dataTable, element);\n",
              "        const docLink = document.createElement('div');\n",
              "        docLink.innerHTML = docLinkHtml;\n",
              "        element.appendChild(docLink);\n",
              "      }\n",
              "    </script>\n",
              "  </div>\n",
              "\n",
              "\n",
              "<div id=\"df-bdb98ff0-10db-47e6-a203-cbac3ec2f362\">\n",
              "  <button class=\"colab-df-quickchart\" onclick=\"quickchart('df-bdb98ff0-10db-47e6-a203-cbac3ec2f362')\"\n",
              "            title=\"Suggest charts.\"\n",
              "            style=\"display:none;\">\n",
              "\n",
              "<svg xmlns=\"http://www.w3.org/2000/svg\" height=\"24px\"viewBox=\"0 0 24 24\"\n",
              "     width=\"24px\">\n",
              "    <g>\n",
              "        <path d=\"M19 3H5c-1.1 0-2 .9-2 2v14c0 1.1.9 2 2 2h14c1.1 0 2-.9 2-2V5c0-1.1-.9-2-2-2zM9 17H7v-7h2v7zm4 0h-2V7h2v10zm4 0h-2v-4h2v4z\"/>\n",
              "    </g>\n",
              "</svg>\n",
              "  </button>\n",
              "\n",
              "<style>\n",
              "  .colab-df-quickchart {\n",
              "    background-color: #E8F0FE;\n",
              "    border: none;\n",
              "    border-radius: 50%;\n",
              "    cursor: pointer;\n",
              "    display: none;\n",
              "    fill: #1967D2;\n",
              "    height: 32px;\n",
              "    padding: 0 0 0 0;\n",
              "    width: 32px;\n",
              "  }\n",
              "\n",
              "  .colab-df-quickchart:hover {\n",
              "    background-color: #E2EBFA;\n",
              "    box-shadow: 0px 1px 2px rgba(60, 64, 67, 0.3), 0px 1px 3px 1px rgba(60, 64, 67, 0.15);\n",
              "    fill: #174EA6;\n",
              "  }\n",
              "\n",
              "  [theme=dark] .colab-df-quickchart {\n",
              "    background-color: #3B4455;\n",
              "    fill: #D2E3FC;\n",
              "  }\n",
              "\n",
              "  [theme=dark] .colab-df-quickchart:hover {\n",
              "    background-color: #434B5C;\n",
              "    box-shadow: 0px 1px 3px 1px rgba(0, 0, 0, 0.15);\n",
              "    filter: drop-shadow(0px 1px 2px rgba(0, 0, 0, 0.3));\n",
              "    fill: #FFFFFF;\n",
              "  }\n",
              "</style>\n",
              "\n",
              "  <script>\n",
              "    async function quickchart(key) {\n",
              "      const charts = await google.colab.kernel.invokeFunction(\n",
              "          'suggestCharts', [key], {});\n",
              "    }\n",
              "    (() => {\n",
              "      let quickchartButtonEl =\n",
              "        document.querySelector('#df-bdb98ff0-10db-47e6-a203-cbac3ec2f362 button');\n",
              "      quickchartButtonEl.style.display =\n",
              "        google.colab.kernel.accessAllowed ? 'block' : 'none';\n",
              "    })();\n",
              "  </script>\n",
              "</div>\n",
              "    </div>\n",
              "  </div>\n"
            ]
          },
          "metadata": {},
          "execution_count": 11
        }
      ]
    },
    {
      "cell_type": "code",
      "source": [
        "from tensorflow.keras.utils import to_categorical"
      ],
      "metadata": {
        "id": "gJw7hZCc-Olp"
      },
      "execution_count": null,
      "outputs": []
    },
    {
      "cell_type": "code",
      "source": [
        "y_train_one_hot = to_categorical(y_train)\n",
        "y_test_one_hot = to_categorical(y_test)"
      ],
      "metadata": {
        "id": "LK8dV5o8-XPc"
      },
      "execution_count": null,
      "outputs": []
    },
    {
      "cell_type": "code",
      "source": [
        "y_train_one_hot.shape, y_test_one_hot.shape"
      ],
      "metadata": {
        "colab": {
          "base_uri": "https://localhost:8080/"
        },
        "id": "-rEC3qfH_Nw7",
        "outputId": "fcfbbf7c-d84c-4544-96b5-a1b65c702a88"
      },
      "execution_count": null,
      "outputs": [
        {
          "output_type": "execute_result",
          "data": {
            "text/plain": [
              "((60000, 10), (10000, 10))"
            ]
          },
          "metadata": {},
          "execution_count": 14
        }
      ]
    },
    {
      "cell_type": "markdown",
      "source": [
        "- 인공신경망에는 2차원인 이미지데이터를 한 번에 넣을 수 없기 때문에 데이터의차원을 전부 1차원으로 변경시켜준뒤 학습시켜야 함!"
      ],
      "metadata": {
        "id": "3qqpZaUY_wLm"
      }
    },
    {
      "cell_type": "code",
      "source": [
        "X_train.shape"
      ],
      "metadata": {
        "colab": {
          "base_uri": "https://localhost:8080/"
        },
        "id": "YQXCekvIABH1",
        "outputId": "b5957e09-0066-4651-e59a-35c0b5c858f7"
      },
      "execution_count": null,
      "outputs": [
        {
          "output_type": "execute_result",
          "data": {
            "text/plain": [
              "(60000, 28, 28)"
            ]
          },
          "metadata": {},
          "execution_count": 15
        }
      ]
    },
    {
      "cell_type": "code",
      "source": [
        "# -1은 600000을 제외한 나머지값들을 다 곱해서 하나의 차원으로 만들어줌\n",
        "X_train = X_train.reshape(60000, -1)\n",
        "X_test = X_test.reshape(10000, -1)"
      ],
      "metadata": {
        "id": "5mpkuMBjAGDd"
      },
      "execution_count": null,
      "outputs": []
    },
    {
      "cell_type": "code",
      "source": [
        "X_train.shape, X_test.shape\n",
        "# 이미지는 픽셀 하나하나가 데이터의 특성으로 인식됨"
      ],
      "metadata": {
        "colab": {
          "base_uri": "https://localhost:8080/"
        },
        "id": "UCp-FsYLA0-p",
        "outputId": "df80ca3a-62a9-4861-d613-3995456a0872"
      },
      "execution_count": null,
      "outputs": [
        {
          "output_type": "execute_result",
          "data": {
            "text/plain": [
              "((60000, 784), (10000, 784))"
            ]
          },
          "metadata": {},
          "execution_count": 17
        }
      ]
    },
    {
      "cell_type": "markdown",
      "source": [
        "### 신경망 모델링\n",
        "- 직접 모델링해봅시다~!\n"
      ],
      "metadata": {
        "id": "gYhFa7efBSsC"
      }
    },
    {
      "cell_type": "code",
      "source": [
        "# 입력되는 특성 수\n",
        "# 출력층 활성화함수, 뉴런수\n",
        "# loss 함수\n",
        "# 최적화 함수 (Adam, SGD 둘다 사용해보기)"
      ],
      "metadata": {
        "id": "Zbi0snXXBRxs"
      },
      "execution_count": null,
      "outputs": []
    },
    {
      "cell_type": "code",
      "source": [
        "from tensorflow.keras import Sequential\n",
        "from tensorflow.keras.layers import Dense"
      ],
      "metadata": {
        "id": "x_onUB6nCgCg"
      },
      "execution_count": null,
      "outputs": []
    },
    {
      "cell_type": "code",
      "source": [
        "\n",
        "# 1. 신경망 구조 설계\n",
        "model = Sequential()\n",
        "\n",
        "# 입력층(input_dim) + 중간층 1개(Dense)\n",
        "# activation : 활성화함수(들어온 자극(데이터)에 대한 응답 여부를 결정하는 함수)\n",
        "model.add(Dense(50, input_dim=784, activation = 'sigmoid'))\n",
        "\n",
        "# 중간층\n",
        "model.add(Dense(100, activation='sigmoid'))    #하나의 층\n",
        "model.add(Dense(50, activation='sigmoid'))   #하나의 층\n",
        "\n",
        "# 출력층\n",
        "# 출력층은 문제의 종류에 따라 고정됨 (2진분류 문제는 출력층 뉴런개수 1개, 활성화함수는 sigmoid로 고정)\n",
        "model.add(Dense(50,activation='sigmoid'))   # 세개이상일 땐 다중분류 해야함\n",
        "model.add(Dense(10,activation='softmax'))\n",
        "model.summary()"
      ],
      "metadata": {
        "colab": {
          "base_uri": "https://localhost:8080/"
        },
        "id": "rMnpXeeqCEAB",
        "outputId": "2ebd812f-b0b2-42fc-974a-1932fcd53bad"
      },
      "execution_count": null,
      "outputs": [
        {
          "output_type": "stream",
          "name": "stdout",
          "text": [
            "Model: \"sequential\"\n",
            "_________________________________________________________________\n",
            " Layer (type)                Output Shape              Param #   \n",
            "=================================================================\n",
            " dense (Dense)               (None, 50)                39250     \n",
            "                                                                 \n",
            " dense_1 (Dense)             (None, 100)               5100      \n",
            "                                                                 \n",
            " dense_2 (Dense)             (None, 50)                5050      \n",
            "                                                                 \n",
            " dense_3 (Dense)             (None, 50)                2550      \n",
            "                                                                 \n",
            " dense_4 (Dense)             (None, 10)                510       \n",
            "                                                                 \n",
            "=================================================================\n",
            "Total params: 52,460\n",
            "Trainable params: 52,460\n",
            "Non-trainable params: 0\n",
            "_________________________________________________________________\n"
          ]
        }
      ]
    },
    {
      "cell_type": "code",
      "source": [
        "y_train.shape"
      ],
      "metadata": {
        "colab": {
          "base_uri": "https://localhost:8080/"
        },
        "id": "kaBzGULFIbj6",
        "outputId": "459bc93e-9b44-494e-fd96-ce703c2c6da5"
      },
      "execution_count": null,
      "outputs": [
        {
          "output_type": "execute_result",
          "data": {
            "text/plain": [
              "(60000,)"
            ]
          },
          "metadata": {},
          "execution_count": 21
        }
      ]
    },
    {
      "cell_type": "code",
      "source": [
        "# 2. 학습 및 평가방법 설정\n",
        "model.compile(loss='categorical_crossentropy',\n",
        "              optimizer = 'Adam', # 최적화함수: 확률적경사하강법(SGD) 활용\n",
        "              metrics = ['acc']   #metrics: 평가 방법을 설정(분류 믄제이므로 정확도 출력 필요)\n",
        "              )\n",
        "h = model.fit(X_train, y_train_one_hot,\n",
        "              epochs = 30,\n",
        "              batch_size = 128, #한번에 학습되는 데이터개수(디폴트 32개)\n",
        "              verbose = 1      #학습 결과의 출력 형태 결정(0: 출력X, 1: bar형태(디폴트),2: bar없이 출력)\n",
        "              )"
      ],
      "metadata": {
        "colab": {
          "base_uri": "https://localhost:8080/"
        },
        "id": "9rvEgd1oGciK",
        "outputId": "962a9db5-aa0a-4668-b17f-6b8fe6e3dfef"
      },
      "execution_count": null,
      "outputs": [
        {
          "output_type": "stream",
          "name": "stdout",
          "text": [
            "Epoch 1/30\n",
            "469/469 [==============================] - 9s 4ms/step - loss: 1.4611 - acc: 0.5405\n",
            "Epoch 2/30\n",
            "469/469 [==============================] - 2s 5ms/step - loss: 0.6249 - acc: 0.8235\n",
            "Epoch 3/30\n",
            "469/469 [==============================] - 2s 4ms/step - loss: 0.4924 - acc: 0.8578\n",
            "Epoch 4/30\n",
            "469/469 [==============================] - 2s 4ms/step - loss: 0.4304 - acc: 0.8739\n",
            "Epoch 5/30\n",
            "469/469 [==============================] - 2s 4ms/step - loss: 0.3941 - acc: 0.8842\n",
            "Epoch 6/30\n",
            "469/469 [==============================] - 2s 4ms/step - loss: 0.3664 - acc: 0.8910\n",
            "Epoch 7/30\n",
            "469/469 [==============================] - 2s 4ms/step - loss: 0.3565 - acc: 0.8937\n",
            "Epoch 8/30\n",
            "469/469 [==============================] - 2s 4ms/step - loss: 0.3345 - acc: 0.8995\n",
            "Epoch 9/30\n",
            "469/469 [==============================] - 2s 5ms/step - loss: 0.3109 - acc: 0.9080\n",
            "Epoch 10/30\n",
            "469/469 [==============================] - 2s 4ms/step - loss: 0.3060 - acc: 0.9086\n",
            "Epoch 11/30\n",
            "469/469 [==============================] - 2s 4ms/step - loss: 0.3075 - acc: 0.9069\n",
            "Epoch 12/30\n",
            "469/469 [==============================] - 2s 4ms/step - loss: 0.3060 - acc: 0.9068\n",
            "Epoch 13/30\n",
            "469/469 [==============================] - 2s 4ms/step - loss: 0.2957 - acc: 0.9084\n",
            "Epoch 14/30\n",
            "469/469 [==============================] - 2s 4ms/step - loss: 0.2825 - acc: 0.9133\n",
            "Epoch 15/30\n",
            "469/469 [==============================] - 2s 4ms/step - loss: 0.2743 - acc: 0.9161\n",
            "Epoch 16/30\n",
            "469/469 [==============================] - 2s 5ms/step - loss: 0.2626 - acc: 0.9200\n",
            "Epoch 17/30\n",
            "469/469 [==============================] - 2s 5ms/step - loss: 0.2567 - acc: 0.9219\n",
            "Epoch 18/30\n",
            "469/469 [==============================] - 2s 4ms/step - loss: 0.2521 - acc: 0.9243\n",
            "Epoch 19/30\n",
            "469/469 [==============================] - 2s 4ms/step - loss: 0.2388 - acc: 0.9275\n",
            "Epoch 20/30\n",
            "469/469 [==============================] - 2s 4ms/step - loss: 0.2354 - acc: 0.9299\n",
            "Epoch 21/30\n",
            "469/469 [==============================] - 2s 4ms/step - loss: 0.2294 - acc: 0.9305\n",
            "Epoch 22/30\n",
            "469/469 [==============================] - 2s 4ms/step - loss: 0.2256 - acc: 0.9324\n",
            "Epoch 23/30\n",
            "469/469 [==============================] - 2s 4ms/step - loss: 0.2298 - acc: 0.9304\n",
            "Epoch 24/30\n",
            "469/469 [==============================] - 3s 5ms/step - loss: 0.2310 - acc: 0.9304\n",
            "Epoch 25/30\n",
            "469/469 [==============================] - 2s 4ms/step - loss: 0.2376 - acc: 0.9272\n",
            "Epoch 26/30\n",
            "469/469 [==============================] - 2s 4ms/step - loss: 0.2261 - acc: 0.9300\n",
            "Epoch 27/30\n",
            "469/469 [==============================] - 2s 4ms/step - loss: 0.2136 - acc: 0.9347\n",
            "Epoch 28/30\n",
            "469/469 [==============================] - 2s 3ms/step - loss: 0.2163 - acc: 0.9345\n",
            "Epoch 29/30\n",
            "469/469 [==============================] - 2s 4ms/step - loss: 0.2175 - acc: 0.9338\n",
            "Epoch 30/30\n",
            "469/469 [==============================] - 2s 4ms/step - loss: 0.2151 - acc: 0.9340\n"
          ]
        }
      ]
    },
    {
      "cell_type": "code",
      "source": [
        "# 3. 시각화\n",
        "plt.figure(figsize=(15, 5))\n",
        "\n",
        "plt.plot(h.history['acc'], label = 'acc')\n",
        "\n",
        "plt.legend()\n",
        "plt.show()"
      ],
      "metadata": {
        "colab": {
          "base_uri": "https://localhost:8080/",
          "height": 239
        },
        "id": "CguWhBixI0KG",
        "outputId": "d21d4464-c0f5-4bde-d174-4157607a7717"
      },
      "execution_count": null,
      "outputs": [
        {
          "output_type": "display_data",
          "data": {
            "text/plain": [
              "<Figure size 1500x500 with 1 Axes>"
            ],
            "image/png": "[encoded data removed]"
          },
          "metadata": {}
        }
      ]
    },
    {
      "cell_type": "markdown",
      "source": [
        "### 과대적합을 확인하기 위해 train 데이터에서 validation 데이터를 분리해서 학습시 같이 출력해보자!"
      ],
      "metadata": {
        "id": "MNtv5URSLuaC"
      }
    },
    {
      "cell_type": "code",
      "source": [
        "# 무조건 train, test만 나눠주는게 아니라 데이터를 일정 비율로 랜덤하게 나눠주는 기능을 갖고 있음\n",
        "from sklearn.model_selection import train_test_split"
      ],
      "metadata": {
        "id": "Dww-DlBfL9i7"
      },
      "execution_count": null,
      "outputs": []
    },
    {
      "cell_type": "code",
      "source": [
        "X_train, X_val, y_train_one_hot, y_val_one_hot = train_test_split(X_train, y_train_one_hot,random_state=33)"
      ],
      "metadata": {
        "id": "hilLns5uMVGI"
      },
      "execution_count": null,
      "outputs": []
    },
    {
      "cell_type": "code",
      "source": [
        "\n",
        "print(X_train.shape)\n",
        "print(X_val.shape)\n",
        "print(y_train_one_hot.shape)\n",
        "print(y_val_one_hot.shape)"
      ],
      "metadata": {
        "colab": {
          "base_uri": "https://localhost:8080/"
        },
        "id": "LxnuqFyVMp3n",
        "outputId": "8f0a4473-5ef5-4ff1-e018-517894b3810a"
      },
      "execution_count": null,
      "outputs": [
        {
          "output_type": "stream",
          "name": "stdout",
          "text": [
            "(45000, 784)\n",
            "(15000, 784)\n",
            "(45000, 10)\n",
            "(15000, 10)\n"
          ]
        }
      ]
    },
    {
      "cell_type": "code",
      "source": [
        "\n",
        "# 1. 신경망 구조 설계\n",
        "model1 = Sequential()\n",
        "\n",
        "# 입력층(input_dim) + 중간층 1개(Dense)\n",
        "# activation : 활성화함수(들어온 자극(데이터)에 대한 응답 여부를 결정하는 함수)\n",
        "model1.add(Dense(50, input_dim=784, activation = 'sigmoid'))\n",
        "\n",
        "# 중간층\n",
        "model1.add(Dense(100, activation='sigmoid'))    #하나의 층\n",
        "model1.add(Dense(50, activation='sigmoid'))   #하나의 층\n",
        "\n",
        "# 출력층\n",
        "# 출력층은 문제의 종류에 따라 고정됨 (2진분류 문제는 출력층 뉴런개수 1개, 활성화함수는 sigmoid로 고정)\n",
        "model1.add(Dense(50,activation='sigmoid'))   # 세개이상일 땐 다중분류 해야함\n",
        "model1.add(Dense(10,activation='softmax'))\n",
        "model1.summary()\n",
        "\n",
        "# 2. 학습 및 평가방법 설정\n",
        "model1.compile(loss='categorical_crossentropy',\n",
        "              optimizer = 'Adam', # 최적화함수: 확률적경사하강법(SGD) 활용\n",
        "              metrics = ['acc']   #metrics: 평가 방법을 설정(분류 믄제이므로 정확도 출력 필요)\n",
        "              )\n",
        "h = model1.fit(X_train, y_train_one_hot,\n",
        "              epochs = 30,\n",
        "              batch_size = 128, #한번에 학습되는 데이터개수(디폴트 32개)\n",
        "              verbose = 1      #학습 결과의 출력 형태 결정(0: 출력X, 1: bar형태(디폴트),2: bar없이 출력)\n",
        "              )"
      ],
      "metadata": {
        "colab": {
          "base_uri": "https://localhost:8080/"
        },
        "id": "eZl9AiISNNnm",
        "outputId": "78522fe2-fe95-4ce5-a2a1-978f84577246"
      },
      "execution_count": null,
      "outputs": [
        {
          "output_type": "stream",
          "name": "stdout",
          "text": [
            "Model: \"sequential_1\"\n",
            "_________________________________________________________________\n",
            " Layer (type)                Output Shape              Param #   \n",
            "=================================================================\n",
            " dense_5 (Dense)             (None, 50)                39250     \n",
            "                                                                 \n",
            " dense_6 (Dense)             (None, 100)               5100      \n",
            "                                                                 \n",
            " dense_7 (Dense)             (None, 50)                5050      \n",
            "                                                                 \n",
            " dense_8 (Dense)             (None, 50)                2550      \n",
            "                                                                 \n",
            " dense_9 (Dense)             (None, 10)                510       \n",
            "                                                                 \n",
            "=================================================================\n",
            "Total params: 52,460\n",
            "Trainable params: 52,460\n",
            "Non-trainable params: 0\n",
            "_________________________________________________________________\n",
            "Epoch 1/30\n",
            "352/352 [==============================] - 4s 5ms/step - loss: 1.6097 - acc: 0.4939\n",
            "Epoch 2/30\n",
            "352/352 [==============================] - 1s 4ms/step - loss: 0.8085 - acc: 0.7739\n",
            "Epoch 3/30\n",
            "352/352 [==============================] - 1s 4ms/step - loss: 0.5908 - acc: 0.8305\n",
            "Epoch 4/30\n",
            "352/352 [==============================] - 1s 3ms/step - loss: 0.4908 - acc: 0.8592\n",
            "Epoch 5/30\n",
            "352/352 [==============================] - 1s 3ms/step - loss: 0.4445 - acc: 0.8691\n",
            "Epoch 6/30\n",
            "352/352 [==============================] - 1s 3ms/step - loss: 0.4071 - acc: 0.8793\n",
            "Epoch 7/30\n",
            "352/352 [==============================] - 1s 4ms/step - loss: 0.3660 - acc: 0.8929\n",
            "Epoch 8/30\n",
            "352/352 [==============================] - 1s 4ms/step - loss: 0.3504 - acc: 0.8978\n",
            "Epoch 9/30\n",
            "352/352 [==============================] - 1s 4ms/step - loss: 0.3381 - acc: 0.8979\n",
            "Epoch 10/30\n",
            "352/352 [==============================] - 2s 5ms/step - loss: 0.3264 - acc: 0.9012\n",
            "Epoch 11/30\n",
            "352/352 [==============================] - 2s 5ms/step - loss: 0.3107 - acc: 0.9071\n",
            "Epoch 12/30\n",
            "352/352 [==============================] - 1s 4ms/step - loss: 0.3074 - acc: 0.9077\n",
            "Epoch 13/30\n",
            "352/352 [==============================] - 1s 4ms/step - loss: 0.2857 - acc: 0.9129\n",
            "Epoch 14/30\n",
            "352/352 [==============================] - 1s 4ms/step - loss: 0.2841 - acc: 0.9138\n",
            "Epoch 15/30\n",
            "352/352 [==============================] - 1s 3ms/step - loss: 0.2804 - acc: 0.9140\n",
            "Epoch 16/30\n",
            "352/352 [==============================] - 1s 4ms/step - loss: 0.2656 - acc: 0.9197\n",
            "Epoch 17/30\n",
            "352/352 [==============================] - 1s 4ms/step - loss: 0.2608 - acc: 0.9195\n",
            "Epoch 18/30\n",
            "352/352 [==============================] - 1s 4ms/step - loss: 0.2401 - acc: 0.9262\n",
            "Epoch 19/30\n",
            "352/352 [==============================] - 1s 4ms/step - loss: 0.2452 - acc: 0.9246\n",
            "Epoch 20/30\n",
            "352/352 [==============================] - 2s 5ms/step - loss: 0.2401 - acc: 0.9271\n",
            "Epoch 21/30\n",
            "352/352 [==============================] - 2s 5ms/step - loss: 0.2366 - acc: 0.9276\n",
            "Epoch 22/30\n",
            "352/352 [==============================] - 1s 4ms/step - loss: 0.2315 - acc: 0.9299\n",
            "Epoch 23/30\n",
            "352/352 [==============================] - 1s 3ms/step - loss: 0.2286 - acc: 0.9292\n",
            "Epoch 24/30\n",
            "352/352 [==============================] - 1s 4ms/step - loss: 0.2168 - acc: 0.9334\n",
            "Epoch 25/30\n",
            "352/352 [==============================] - 1s 4ms/step - loss: 0.2225 - acc: 0.9318\n",
            "Epoch 26/30\n",
            "352/352 [==============================] - 1s 4ms/step - loss: 0.2222 - acc: 0.9328\n",
            "Epoch 27/30\n",
            "352/352 [==============================] - 1s 3ms/step - loss: 0.2211 - acc: 0.9317\n",
            "Epoch 28/30\n",
            "352/352 [==============================] - 1s 3ms/step - loss: 0.2191 - acc: 0.9338\n",
            "Epoch 29/30\n",
            "352/352 [==============================] - 1s 4ms/step - loss: 0.2212 - acc: 0.9321\n",
            "Epoch 30/30\n",
            "352/352 [==============================] - 2s 5ms/step - loss: 0.2179 - acc: 0.9334\n"
          ]
        }
      ]
    },
    {
      "cell_type": "code",
      "source": [
        "h1 = model1.fit(X_train, y_train_one_hot,\n",
        "                batch_size = 128,\n",
        "                epochs = 30,\n",
        "                validation_data=(X_val, y_val_one_hot)  # 검증용 데이터셋 추가\n",
        ")"
      ],
      "metadata": {
        "colab": {
          "base_uri": "https://localhost:8080/"
        },
        "id": "tE3ZXL3GNq_v",
        "outputId": "451e927b-54f0-4ca1-f953-4c58afe65895"
      },
      "execution_count": null,
      "outputs": [
        {
          "output_type": "stream",
          "name": "stdout",
          "text": [
            "Epoch 1/30\n",
            "352/352 [==============================] - 2s 5ms/step - loss: 0.2104 - acc: 0.9358 - val_loss: 0.2341 - val_acc: 0.9315\n",
            "Epoch 2/30\n",
            "352/352 [==============================] - 2s 4ms/step - loss: 0.2058 - acc: 0.9360 - val_loss: 0.2278 - val_acc: 0.9299\n",
            "Epoch 3/30\n",
            "352/352 [==============================] - 2s 6ms/step - loss: 0.1977 - acc: 0.9396 - val_loss: 0.2249 - val_acc: 0.9317\n",
            "Epoch 4/30\n",
            "352/352 [==============================] - 2s 7ms/step - loss: 0.2131 - acc: 0.9352 - val_loss: 0.2283 - val_acc: 0.9293\n",
            "Epoch 5/30\n",
            "352/352 [==============================] - 2s 6ms/step - loss: 0.2003 - acc: 0.9394 - val_loss: 0.2197 - val_acc: 0.9330\n",
            "Epoch 6/30\n",
            "352/352 [==============================] - 2s 6ms/step - loss: 0.1988 - acc: 0.9389 - val_loss: 0.2101 - val_acc: 0.9354\n",
            "Epoch 7/30\n",
            "352/352 [==============================] - 2s 4ms/step - loss: 0.1845 - acc: 0.9442 - val_loss: 0.2061 - val_acc: 0.9373\n",
            "Epoch 8/30\n",
            "352/352 [==============================] - 2s 5ms/step - loss: 0.1916 - acc: 0.9409 - val_loss: 0.2156 - val_acc: 0.9345\n",
            "Epoch 9/30\n",
            "352/352 [==============================] - 2s 4ms/step - loss: 0.1928 - acc: 0.9404 - val_loss: 0.2190 - val_acc: 0.9335\n",
            "Epoch 10/30\n",
            "352/352 [==============================] - 2s 4ms/step - loss: 0.1903 - acc: 0.9425 - val_loss: 0.2128 - val_acc: 0.9343\n",
            "Epoch 11/30\n",
            "352/352 [==============================] - 2s 5ms/step - loss: 0.1833 - acc: 0.9442 - val_loss: 0.2083 - val_acc: 0.9390\n",
            "Epoch 12/30\n",
            "352/352 [==============================] - 2s 4ms/step - loss: 0.1851 - acc: 0.9441 - val_loss: 0.2102 - val_acc: 0.9386\n",
            "Epoch 13/30\n",
            "352/352 [==============================] - 2s 6ms/step - loss: 0.1870 - acc: 0.9418 - val_loss: 0.2160 - val_acc: 0.9328\n",
            "Epoch 14/30\n",
            "352/352 [==============================] - 2s 6ms/step - loss: 0.1823 - acc: 0.9446 - val_loss: 0.2069 - val_acc: 0.9369\n",
            "Epoch 15/30\n",
            "352/352 [==============================] - 2s 4ms/step - loss: 0.1830 - acc: 0.9441 - val_loss: 0.2117 - val_acc: 0.9361\n",
            "Epoch 16/30\n",
            "352/352 [==============================] - 2s 4ms/step - loss: 0.1912 - acc: 0.9399 - val_loss: 0.2094 - val_acc: 0.9362\n",
            "Epoch 17/30\n",
            "352/352 [==============================] - 2s 5ms/step - loss: 0.1876 - acc: 0.9415 - val_loss: 0.2054 - val_acc: 0.9374\n",
            "Epoch 18/30\n",
            "352/352 [==============================] - 2s 6ms/step - loss: 0.1766 - acc: 0.9460 - val_loss: 0.2054 - val_acc: 0.9389\n",
            "Epoch 19/30\n",
            "352/352 [==============================] - 2s 4ms/step - loss: 0.1909 - acc: 0.9410 - val_loss: 0.1951 - val_acc: 0.9397\n",
            "Epoch 20/30\n",
            "352/352 [==============================] - 2s 4ms/step - loss: 0.1845 - acc: 0.9432 - val_loss: 0.2123 - val_acc: 0.9383\n",
            "Epoch 21/30\n",
            "352/352 [==============================] - 3s 7ms/step - loss: 0.1816 - acc: 0.9442 - val_loss: 0.2173 - val_acc: 0.9346\n",
            "Epoch 22/30\n",
            "352/352 [==============================] - 2s 6ms/step - loss: 0.1722 - acc: 0.9470 - val_loss: 0.1878 - val_acc: 0.9451\n",
            "Epoch 23/30\n",
            "352/352 [==============================] - 2s 5ms/step - loss: 0.1716 - acc: 0.9469 - val_loss: 0.1981 - val_acc: 0.9397\n",
            "Epoch 24/30\n",
            "352/352 [==============================] - 2s 4ms/step - loss: 0.1764 - acc: 0.9452 - val_loss: 0.2057 - val_acc: 0.9369\n",
            "Epoch 25/30\n",
            "352/352 [==============================] - 2s 4ms/step - loss: 0.1678 - acc: 0.9481 - val_loss: 0.2005 - val_acc: 0.9383\n",
            "Epoch 26/30\n",
            "352/352 [==============================] - 2s 4ms/step - loss: 0.1709 - acc: 0.9467 - val_loss: 0.1834 - val_acc: 0.9435\n",
            "Epoch 27/30\n",
            "352/352 [==============================] - 1s 4ms/step - loss: 0.1639 - acc: 0.9496 - val_loss: 0.1872 - val_acc: 0.9450\n",
            "Epoch 28/30\n",
            "352/352 [==============================] - 2s 5ms/step - loss: 0.1648 - acc: 0.9490 - val_loss: 0.1919 - val_acc: 0.9412\n",
            "Epoch 29/30\n",
            "352/352 [==============================] - 2s 6ms/step - loss: 0.1665 - acc: 0.9487 - val_loss: 0.1790 - val_acc: 0.9454\n",
            "Epoch 30/30\n",
            "352/352 [==============================] - 2s 5ms/step - loss: 0.1575 - acc: 0.9514 - val_loss: 0.1936 - val_acc: 0.9423\n"
          ]
        }
      ]
    },
    {
      "cell_type": "code",
      "source": [
        "# 3. 시각화\n",
        "plt.figure(figsize=(15, 5))\n",
        "\n",
        "plt.plot(h1.history['acc'], label = 'acc')\n",
        "plt.plot(h1.history['val_acc'], label = 'acc')\n",
        "plt.legend()\n",
        "plt.show()"
      ],
      "metadata": {
        "colab": {
          "base_uri": "https://localhost:8080/",
          "height": 236
        },
        "id": "8SGfOKK0OtHN",
        "outputId": "5927895f-b3e7-481a-82e7-b9299a048545"
      },
      "execution_count": null,
      "outputs": [
        {
          "output_type": "display_data",
          "data": {
            "text/plain": [
              "<Figure size 1500x500 with 1 Axes>"
            ],
            "image/png": "[encoded data removed]"
          },
          "metadata": {}
        }
      ]
    },
    {
      "cell_type": "code",
      "source": [
        "model1.evaluate(X_test, y_test_one_hot)"
      ],
      "metadata": {
        "colab": {
          "base_uri": "https://localhost:8080/"
        },
        "id": "7c2eTi0IQS_P",
        "outputId": "4c2392b7-4580-426e-d004-e9aa8cb03a56"
      },
      "execution_count": null,
      "outputs": [
        {
          "output_type": "stream",
          "name": "stdout",
          "text": [
            "313/313 [==============================] - 1s 3ms/step - loss: 0.1786 - acc: 0.9477\n"
          ]
        },
        {
          "output_type": "execute_result",
          "data": {
            "text/plain": [
              "[0.1785588264465332, 0.947700023651123]"
            ]
          },
          "metadata": {},
          "execution_count": 32
        }
      ]
    },
    {
      "cell_type": "code",
      "source": [],
      "metadata": {
        "id": "ald298lBCqgx"
      },
      "execution_count": null,
      "outputs": []
    },
    {
      "cell_type": "code",
      "source": [],
      "metadata": {
        "id": "elDmkQy-Cqd4"
      },
      "execution_count": null,
      "outputs": []
    },
    {
      "cell_type": "code",
      "source": [],
      "metadata": {
        "id": "4V5NNPP7CqbA"
      },
      "execution_count": null,
      "outputs": []
    },
    {
      "cell_type": "code",
      "source": [],
      "metadata": {
        "id": "ZGg6-88XCqVI"
      },
      "execution_count": null,
      "outputs": []
    },
    {
      "cell_type": "code",
      "source": [],
      "metadata": {
        "id": "onMrROzJCqO4"
      },
      "execution_count": null,
      "outputs": []
    },
    {
      "cell_type": "code",
      "source": [],
      "metadata": {
        "id": "H-omgIaQCqJw"
      },
      "execution_count": null,
      "outputs": []
    }
  ]
}
